{
 "cells": [
  {
   "cell_type": "code",
   "execution_count": 1,
   "id": "40f69cbb",
   "metadata": {},
   "outputs": [],
   "source": [
    "import cv2\n",
    "import numpy as np\n",
    "import dlib\n",
    "import matplotlib.pyplot as plt\n",
    "import pandas as pd"
   ]
  },
  {
   "cell_type": "code",
   "execution_count": null,
   "id": "8632fb30",
   "metadata": {},
   "outputs": [],
   "source": []
  },
  {
   "cell_type": "code",
   "execution_count": 2,
   "id": "1862cafa",
   "metadata": {},
   "outputs": [],
   "source": [
    "for i in range(100):\n",
    "\n",
    "    face_path = './dataset/train/img/%s.png'%i\n",
    "    face_origin = cv2.imread(face_path)\n",
    "    face_copy = face_origin.copy()\n",
    "    face_rgb = cv2.cvtColor(face_copy, cv2.COLOR_BGR2RGB)\n",
    "    \n",
    "    detector = dlib.get_frontal_face_detector()\n",
    "    dlib_rects = detector(face_rgb,1)\n",
    "    \n",
    "    img_show_rgb = cv2.cvtColor(face_copy, cv2.COLOR_BGR2RGB)\n",
    "\n",
    "    predictor = dlib.shape_predictor(\"shape_predictor_68_face_landmarks.dat\")\n",
    "    \n",
    "    globals()['img'+str(i)] = []\n",
    "    \n",
    "    for dlib_rect in dlib_rects:\n",
    "        points = predictor(face_rgb, dlib_rect)\n",
    "        list_points = list(map(lambda p: [p.x, p.y], points.parts()))\n",
    "        globals()['img'+str(i)].append(list_points)\n",
    "        globals()['img'+str(i)] = np.array(globals()['img'+str(i)])"
   ]
  },
  {
   "cell_type": "code",
   "execution_count": 3,
   "id": "0e4cb783",
   "metadata": {
    "scrolled": true
   },
   "outputs": [],
   "source": [
    "# xyxyxyxyxyxyxy(0~16)\n",
    "for i in range(100):\n",
    "    globals()['img'+str(i)] = globals()['img'+str(i)][0][48:]\n",
    "    globals()['img'+str(i)] = globals()['img'+str(i)].flatten()"
   ]
  },
  {
   "cell_type": "code",
   "execution_count": 4,
   "id": "46072b44",
   "metadata": {},
   "outputs": [],
   "source": [
    "train_x = np.zeros((100, 34))\n",
    "for i in range(100):\n",
    "    for j in range(34):\n",
    "        train_x[i][j] = globals()['img'+str(i)][j]"
   ]
  },
  {
   "cell_type": "code",
   "execution_count": null,
   "id": "86ad658a",
   "metadata": {},
   "outputs": [],
   "source": []
  },
  {
   "cell_type": "code",
   "execution_count": 5,
   "id": "cfd8493d",
   "metadata": {},
   "outputs": [],
   "source": [
    "for i in range(100):\n",
    "\n",
    "    face_path = './dataset/test/img/%s.png'%i\n",
    "    face_origin = cv2.imread(face_path)\n",
    "    face_copy = face_origin.copy()\n",
    "    face_rgb = cv2.cvtColor(face_copy, cv2.COLOR_BGR2RGB)\n",
    "    \n",
    "    detector = dlib.get_frontal_face_detector()\n",
    "    dlib_rects = detector(face_rgb,1)\n",
    "    \n",
    "    img_show_rgb = cv2.cvtColor(face_copy, cv2.COLOR_BGR2RGB)\n",
    "\n",
    "    predictor = dlib.shape_predictor(\"shape_predictor_68_face_landmarks.dat\")\n",
    "    \n",
    "    globals()['img_'+str(i)] = []\n",
    "    \n",
    "    for dlib_rect in dlib_rects:\n",
    "        points = predictor(face_rgb, dlib_rect)\n",
    "        list_points = list(map(lambda p: [p.x, p.y], points.parts()))\n",
    "        globals()['img_'+str(i)].append(list_points)\n",
    "        globals()['img_'+str(i)] = np.array(globals()['img_'+str(i)])"
   ]
  },
  {
   "cell_type": "code",
   "execution_count": 6,
   "id": "dc6d751f",
   "metadata": {},
   "outputs": [],
   "source": [
    "# xyxyxyxyxyxyxy(0~16)\n",
    "for i in range(100):\n",
    "    globals()['img_'+str(i)] = globals()['img_'+str(i)][0][48:]\n",
    "    globals()['img_'+str(i)] = globals()['img_'+str(i)].flatten()\n",
    "    \n",
    "test_x = np.zeros((100, 34))\n",
    "for i in range(100):\n",
    "    for j in range(34):\n",
    "        test_x[i][j] = globals()['img_'+str(i)][j]"
   ]
  },
  {
   "cell_type": "code",
   "execution_count": null,
   "id": "4f508a18",
   "metadata": {},
   "outputs": [],
   "source": []
  },
  {
   "cell_type": "code",
   "execution_count": 7,
   "id": "5f66f1db",
   "metadata": {},
   "outputs": [],
   "source": [
    "train_y = pd.read_csv('./dataset/train/train.csv')\n",
    "train_y = train_y.iloc[:, 30:]\n",
    "test_y = pd.read_csv('./dataset/test/test.csv')\n",
    "test_y = test_y.iloc[:, 30:]"
   ]
  },
  {
   "cell_type": "code",
   "execution_count": null,
   "id": "c2a1c318",
   "metadata": {},
   "outputs": [],
   "source": []
  },
  {
   "cell_type": "code",
   "execution_count": 8,
   "id": "dcdb8043",
   "metadata": {
    "scrolled": true
   },
   "outputs": [
    {
     "data": {
      "text/plain": [
       "0.051221096024850865"
      ]
     },
     "execution_count": 8,
     "metadata": {},
     "output_type": "execute_result"
    }
   ],
   "source": [
    "from sklearn.linear_model import LinearRegression\n",
    "from sklearn.metrics import mean_absolute_error\n",
    "\n",
    "model = LinearRegression()\n",
    "model.fit(train_x, train_y)\n",
    "y_pred = model.predict(train_x)\n",
    "mae = mean_absolute_error(train_y, y_pred)\n",
    "\n",
    "mae"
   ]
  },
  {
   "cell_type": "code",
   "execution_count": 9,
   "id": "7f5805fb",
   "metadata": {
    "scrolled": true
   },
   "outputs": [
    {
     "data": {
      "text/plain": [
       "0.07303470861276531"
      ]
     },
     "execution_count": 9,
     "metadata": {},
     "output_type": "execute_result"
    }
   ],
   "source": [
    "y_pred = model.predict(test_x)\n",
    "mae = mean_absolute_error(test_y, y_pred)\n",
    "\n",
    "mae"
   ]
  },
  {
   "cell_type": "code",
   "execution_count": 10,
   "id": "55f2df1e",
   "metadata": {},
   "outputs": [
    {
     "data": {
      "text/plain": [
       "(array([-18.14846963,  26.50348511,   4.99422284,   7.46871556]),\n",
       " array([[-0.02216445, -0.03122309,  0.01750076, -0.01709837, -0.00240221,\n",
       "          0.01896417,  0.0214418 , -0.02006556, -0.04105427,  0.02156432,\n",
       "          0.03768198,  0.0389769 , -0.035959  , -0.00658911,  0.01818112,\n",
       "         -0.00336055,  0.0422829 ,  0.03577747,  0.00511455, -0.05597689,\n",
       "          0.00584424,  0.00928021, -0.03150037,  0.00156691,  0.01004634,\n",
       "         -0.0403903 , -0.01219887,  0.03162032, -0.0071621 ,  0.03377449,\n",
       "          0.01850482, -0.03469126,  0.02250261,  0.01503696],\n",
       "        [-0.0026315 ,  0.00752317, -0.00116664,  0.00493764,  0.00456382,\n",
       "         -0.01174099,  0.00640061,  0.01100236,  0.01565655, -0.00714645,\n",
       "         -0.02922764,  0.00033098,  0.01626805, -0.00744771,  0.00134038,\n",
       "         -0.00979102, -0.01132086, -0.01585563, -0.00052106,  0.01603896,\n",
       "          0.00350107,  0.00146183, -0.00360613,  0.00635401, -0.00021214,\n",
       "         -0.01140869,  0.00097603, -0.02015436, -0.00569345, -0.00685891,\n",
       "         -0.00289986,  0.00482922,  0.00027607, -0.00317621],\n",
       "        [ 0.00320123, -0.00906447,  0.0012787 ,  0.00526443,  0.08099234,\n",
       "         -0.00305214,  0.04306627,  0.07610299,  0.07941862, -0.04292743,\n",
       "         -0.17611475,  0.01140687,  0.02100639, -0.06192593,  0.04963514,\n",
       "         -0.00714223, -0.0569292 , -0.02237846, -0.00300552,  0.04841529,\n",
       "          0.03035618,  0.02311405, -0.04452628,  0.00176829, -0.01424269,\n",
       "         -0.05373522, -0.02432197, -0.02160077, -0.04677963,  0.02044561,\n",
       "          0.00863592, -0.02026516,  0.03991266,  0.05243945],\n",
       "        [-0.00623859, -0.02835501, -0.00060673, -0.02616232, -0.01261592,\n",
       "         -0.00593169, -0.00291174, -0.06424745, -0.04291532,  0.01620886,\n",
       "          0.06807872, -0.0121964 , -0.02562974,  0.01450359,  0.00752714,\n",
       "          0.03016705,  0.03245132,  0.03818151,  0.00053946, -0.04171455,\n",
       "          0.00988702,  0.01396492,  0.0095753 , -0.0099506 ,  0.00675749,\n",
       "          0.026109  , -0.0161574 ,  0.02413344, -0.01681345,  0.02663537,\n",
       "          0.00330926,  0.0110741 , -0.02823979, -0.01652496]]))"
      ]
     },
     "execution_count": 10,
     "metadata": {},
     "output_type": "execute_result"
    }
   ],
   "source": [
    "model.intercept_, model.coef_"
   ]
  },
  {
   "cell_type": "code",
   "execution_count": 12,
   "id": "110ef0da",
   "metadata": {},
   "outputs": [
    {
     "data": {
      "text/html": [
       "<div>\n",
       "<style scoped>\n",
       "    .dataframe tbody tr th:only-of-type {\n",
       "        vertical-align: middle;\n",
       "    }\n",
       "\n",
       "    .dataframe tbody tr th {\n",
       "        vertical-align: top;\n",
       "    }\n",
       "\n",
       "    .dataframe thead th {\n",
       "        text-align: right;\n",
       "    }\n",
       "</style>\n",
       "<table border=\"1\" class=\"dataframe\">\n",
       "  <thead>\n",
       "    <tr style=\"text-align: right;\">\n",
       "      <th></th>\n",
       "      <th>mouthSize</th>\n",
       "      <th>mouthPosition</th>\n",
       "      <th>mouthPronounced</th>\n",
       "      <th>lipsSize</th>\n",
       "    </tr>\n",
       "  </thead>\n",
       "  <tbody>\n",
       "    <tr>\n",
       "      <th>0</th>\n",
       "      <td>0.273658</td>\n",
       "      <td>0.557839</td>\n",
       "      <td>0.447196</td>\n",
       "      <td>0.630884</td>\n",
       "    </tr>\n",
       "    <tr>\n",
       "      <th>1</th>\n",
       "      <td>0.281768</td>\n",
       "      <td>0.695206</td>\n",
       "      <td>0.492050</td>\n",
       "      <td>0.681149</td>\n",
       "    </tr>\n",
       "    <tr>\n",
       "      <th>2</th>\n",
       "      <td>0.358863</td>\n",
       "      <td>0.615057</td>\n",
       "      <td>0.335767</td>\n",
       "      <td>0.511513</td>\n",
       "    </tr>\n",
       "    <tr>\n",
       "      <th>3</th>\n",
       "      <td>0.415881</td>\n",
       "      <td>0.186695</td>\n",
       "      <td>0.371273</td>\n",
       "      <td>0.265506</td>\n",
       "    </tr>\n",
       "    <tr>\n",
       "      <th>4</th>\n",
       "      <td>0.502459</td>\n",
       "      <td>0.852709</td>\n",
       "      <td>0.516442</td>\n",
       "      <td>0.437354</td>\n",
       "    </tr>\n",
       "    <tr>\n",
       "      <th>...</th>\n",
       "      <td>...</td>\n",
       "      <td>...</td>\n",
       "      <td>...</td>\n",
       "      <td>...</td>\n",
       "    </tr>\n",
       "    <tr>\n",
       "      <th>95</th>\n",
       "      <td>0.579443</td>\n",
       "      <td>0.151522</td>\n",
       "      <td>0.398579</td>\n",
       "      <td>0.547701</td>\n",
       "    </tr>\n",
       "    <tr>\n",
       "      <th>96</th>\n",
       "      <td>0.601397</td>\n",
       "      <td>0.457891</td>\n",
       "      <td>0.414464</td>\n",
       "      <td>0.762571</td>\n",
       "    </tr>\n",
       "    <tr>\n",
       "      <th>97</th>\n",
       "      <td>0.469399</td>\n",
       "      <td>0.316710</td>\n",
       "      <td>0.667493</td>\n",
       "      <td>0.495769</td>\n",
       "    </tr>\n",
       "    <tr>\n",
       "      <th>98</th>\n",
       "      <td>0.673718</td>\n",
       "      <td>0.402725</td>\n",
       "      <td>0.382619</td>\n",
       "      <td>0.665076</td>\n",
       "    </tr>\n",
       "    <tr>\n",
       "      <th>99</th>\n",
       "      <td>0.351522</td>\n",
       "      <td>0.809825</td>\n",
       "      <td>0.604325</td>\n",
       "      <td>0.652920</td>\n",
       "    </tr>\n",
       "  </tbody>\n",
       "</table>\n",
       "<p>100 rows × 4 columns</p>\n",
       "</div>"
      ],
      "text/plain": [
       "    mouthSize  mouthPosition  mouthPronounced  lipsSize\n",
       "0    0.273658       0.557839         0.447196  0.630884\n",
       "1    0.281768       0.695206         0.492050  0.681149\n",
       "2    0.358863       0.615057         0.335767  0.511513\n",
       "3    0.415881       0.186695         0.371273  0.265506\n",
       "4    0.502459       0.852709         0.516442  0.437354\n",
       "..        ...            ...              ...       ...\n",
       "95   0.579443       0.151522         0.398579  0.547701\n",
       "96   0.601397       0.457891         0.414464  0.762571\n",
       "97   0.469399       0.316710         0.667493  0.495769\n",
       "98   0.673718       0.402725         0.382619  0.665076\n",
       "99   0.351522       0.809825         0.604325  0.652920\n",
       "\n",
       "[100 rows x 4 columns]"
      ]
     },
     "execution_count": 12,
     "metadata": {},
     "output_type": "execute_result"
    }
   ],
   "source": [
    "prediction = pd.DataFrame(y_pred)\n",
    "prediction.columns = ['mouthSize','mouthPosition', 'mouthPronounced','lipsSize']\n",
    "prediction"
   ]
  },
  {
   "cell_type": "code",
   "execution_count": 13,
   "id": "b9bc750e",
   "metadata": {
    "scrolled": false
   },
   "outputs": [
    {
     "data": {
      "text/html": [
       "<div>\n",
       "<style scoped>\n",
       "    .dataframe tbody tr th:only-of-type {\n",
       "        vertical-align: middle;\n",
       "    }\n",
       "\n",
       "    .dataframe tbody tr th {\n",
       "        vertical-align: top;\n",
       "    }\n",
       "\n",
       "    .dataframe thead th {\n",
       "        text-align: right;\n",
       "    }\n",
       "</style>\n",
       "<table border=\"1\" class=\"dataframe\">\n",
       "  <thead>\n",
       "    <tr style=\"text-align: right;\">\n",
       "      <th></th>\n",
       "      <th>mouthSize</th>\n",
       "      <th>mouthPosition</th>\n",
       "      <th>mouthPronounced</th>\n",
       "      <th>lipsSize</th>\n",
       "    </tr>\n",
       "  </thead>\n",
       "  <tbody>\n",
       "    <tr>\n",
       "      <th>0</th>\n",
       "      <td>0.241427</td>\n",
       "      <td>0.614988</td>\n",
       "      <td>0.780424</td>\n",
       "      <td>0.520251</td>\n",
       "    </tr>\n",
       "    <tr>\n",
       "      <th>1</th>\n",
       "      <td>0.298667</td>\n",
       "      <td>0.704906</td>\n",
       "      <td>0.733134</td>\n",
       "      <td>0.742770</td>\n",
       "    </tr>\n",
       "    <tr>\n",
       "      <th>2</th>\n",
       "      <td>0.228592</td>\n",
       "      <td>0.651212</td>\n",
       "      <td>0.317283</td>\n",
       "      <td>0.440955</td>\n",
       "    </tr>\n",
       "    <tr>\n",
       "      <th>3</th>\n",
       "      <td>0.481674</td>\n",
       "      <td>0.214611</td>\n",
       "      <td>0.633301</td>\n",
       "      <td>0.222423</td>\n",
       "    </tr>\n",
       "    <tr>\n",
       "      <th>4</th>\n",
       "      <td>0.676315</td>\n",
       "      <td>0.793210</td>\n",
       "      <td>0.581524</td>\n",
       "      <td>0.521908</td>\n",
       "    </tr>\n",
       "    <tr>\n",
       "      <th>...</th>\n",
       "      <td>...</td>\n",
       "      <td>...</td>\n",
       "      <td>...</td>\n",
       "      <td>...</td>\n",
       "    </tr>\n",
       "    <tr>\n",
       "      <th>95</th>\n",
       "      <td>0.549648</td>\n",
       "      <td>0.204712</td>\n",
       "      <td>0.569278</td>\n",
       "      <td>0.322924</td>\n",
       "    </tr>\n",
       "    <tr>\n",
       "      <th>96</th>\n",
       "      <td>0.617910</td>\n",
       "      <td>0.485857</td>\n",
       "      <td>0.463260</td>\n",
       "      <td>0.680530</td>\n",
       "    </tr>\n",
       "    <tr>\n",
       "      <th>97</th>\n",
       "      <td>0.445559</td>\n",
       "      <td>0.314909</td>\n",
       "      <td>0.787422</td>\n",
       "      <td>0.434210</td>\n",
       "    </tr>\n",
       "    <tr>\n",
       "      <th>98</th>\n",
       "      <td>0.660861</td>\n",
       "      <td>0.420872</td>\n",
       "      <td>0.230623</td>\n",
       "      <td>0.670635</td>\n",
       "    </tr>\n",
       "    <tr>\n",
       "      <th>99</th>\n",
       "      <td>0.291226</td>\n",
       "      <td>0.799739</td>\n",
       "      <td>0.536911</td>\n",
       "      <td>0.646169</td>\n",
       "    </tr>\n",
       "  </tbody>\n",
       "</table>\n",
       "<p>100 rows × 4 columns</p>\n",
       "</div>"
      ],
      "text/plain": [
       "    mouthSize  mouthPosition  mouthPronounced  lipsSize\n",
       "0    0.241427       0.614988         0.780424  0.520251\n",
       "1    0.298667       0.704906         0.733134  0.742770\n",
       "2    0.228592       0.651212         0.317283  0.440955\n",
       "3    0.481674       0.214611         0.633301  0.222423\n",
       "4    0.676315       0.793210         0.581524  0.521908\n",
       "..        ...            ...              ...       ...\n",
       "95   0.549648       0.204712         0.569278  0.322924\n",
       "96   0.617910       0.485857         0.463260  0.680530\n",
       "97   0.445559       0.314909         0.787422  0.434210\n",
       "98   0.660861       0.420872         0.230623  0.670635\n",
       "99   0.291226       0.799739         0.536911  0.646169\n",
       "\n",
       "[100 rows x 4 columns]"
      ]
     },
     "execution_count": 13,
     "metadata": {},
     "output_type": "execute_result"
    }
   ],
   "source": [
    "test_y"
   ]
  },
  {
   "cell_type": "code",
   "execution_count": 7,
   "id": "1a23dee3",
   "metadata": {},
   "outputs": [],
   "source": []
  },
  {
   "cell_type": "code",
   "execution_count": 46,
   "id": "6d997217",
   "metadata": {
    "scrolled": true
   },
   "outputs": [
    {
     "name": "stdout",
     "output_type": "stream",
     "text": [
      "0.12469882397879001\n"
     ]
    }
   ],
   "source": [
    "from sklearn.metrics import mean_squared_error\n",
    "rmse = mean_squared_error(test_y, prediction)**0.5\n",
    "print(rmse)"
   ]
  }
 ],
 "metadata": {
  "kernelspec": {
   "display_name": "Python 3 (ipykernel)",
   "language": "python",
   "name": "python3"
  },
  "language_info": {
   "codemirror_mode": {
    "name": "ipython",
    "version": 3
   },
   "file_extension": ".py",
   "mimetype": "text/x-python",
   "name": "python",
   "nbconvert_exporter": "python",
   "pygments_lexer": "ipython3",
   "version": "3.10.9"
  }
 },
 "nbformat": 4,
 "nbformat_minor": 5
}

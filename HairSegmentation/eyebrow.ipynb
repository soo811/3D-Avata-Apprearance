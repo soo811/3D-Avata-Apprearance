{
 "cells": [
  {
   "cell_type": "code",
   "execution_count": 169,
   "id": "c9ed046e",
   "metadata": {},
   "outputs": [],
   "source": [
    "import cv2\n",
    "import numpy as np\n",
    "import dlib\n",
    "from prediction import *"
   ]
  },
  {
   "cell_type": "code",
   "execution_count": 277,
   "id": "840fac36",
   "metadata": {},
   "outputs": [],
   "source": [
    "path = './eyebrow/4.png'\n",
    "\n",
    "face_origin = cv2.imread(path)\n",
    "face_copy = face_origin.copy()\n",
    "face_rgb = cv2.cvtColor(face_copy, cv2.COLOR_BGR2RGB)\n",
    "\n",
    "detector = dlib.get_frontal_face_detector()\n",
    "dlib_rects = detector(face_rgb, 1)\n",
    "\n",
    "# img_how_rgb = cv2.cvtColor(face_copy, cv2.COLOR_BGR2RGB)\n",
    "\n",
    "predictor = dlib.shape_predictor(\"shape_predictor_68_face_landmarks.dat\")\n",
    "\n",
    "img = []\n",
    "\n",
    "for dlib_rect in dlib_rects:\n",
    "    points = predictor(face_rgb, dlib_rect)\n",
    "    list_points = list(map(lambda p: [p.x, p.y], points.parts()))\n",
    "    img.append(list_points)\n",
    "    img = np.array(img[0])\n",
    "    \n",
    "xs = img[22:27,0]\n",
    "ys = img[22:27,1]\n",
    "\n",
    "x = min(xs)\n",
    "y = min(ys)\n",
    "w = max(xs) - min(xs)\n",
    "h = max(ys) - min(ys)\n",
    "\n",
    "crop_img = face_copy[y:y+h, x:x+w]\n",
    "bw = cv2.cvtColor(crop_img, cv2.COLOR_BGR2GRAY)\n",
    "invert_img = cv2.bitwise_not(bw)\n",
    "binary_image = cv2.adaptiveThreshold(invert_img, 255, cv2.ADAPTIVE_THRESH_MEAN_C,\n",
    "                                    cv2.THRESH_BINARY, 49, 2)"
   ]
  },
  {
   "cell_type": "code",
   "execution_count": null,
   "id": "345f5b76",
   "metadata": {},
   "outputs": [],
   "source": []
  },
  {
   "cell_type": "code",
   "execution_count": 278,
   "id": "b2465308",
   "metadata": {},
   "outputs": [],
   "source": [
    "cv2.imshow('threshold', binary_image)\n",
    "cv2.waitKey(0)\n",
    "cv2.destroyAllWindows()"
   ]
  },
  {
   "cell_type": "code",
   "execution_count": null,
   "id": "1149671e",
   "metadata": {},
   "outputs": [],
   "source": []
  },
  {
   "cell_type": "code",
   "execution_count": 279,
   "id": "8a61e210",
   "metadata": {},
   "outputs": [],
   "source": [
    "DEFAULT = 64\n",
    "if binary_image.shape[0] > binary_image.shape[1]:\n",
    "        DEFAULT = binary_image.shape[0]\n",
    "else:\n",
    "    DEFAULT = binary_image.shape[1]\n",
    "\n",
    "BG_COLOR = (0, 0, 0)\n",
    "\n",
    "height, width = binary_image.shape\n",
    "\n",
    "w_x = int((DEFAULT - (width)) / 2)\n",
    "h_y = int((DEFAULT - (height)) / 2)\n",
    "\n",
    "img_pad = cv2.copyMakeBorder(binary_image, h_y, h_y, w_x, w_x, cv2.BORDER_CONSTANT, value=[0, 0, 0])\n",
    "\n",
    "w_x2 = DEFAULT - img_pad.shape[1]\n",
    "h_y2 = DEFAULT - img_pad.shape[0]\n",
    "\n",
    "img_pad = cv2.copyMakeBorder(img_pad, h_y2, 0, w_x2, 0, cv2.BORDER_CONSTANT, value=[0, 0, 0])\n",
    "img_pad = cv2.resize(img_pad, (64, 64))\n",
    "cv2.imshow(\"padding\", img_pad)\n",
    "cv2.waitKey(0)\n",
    "cv2.destroyAllWindows()"
   ]
  }
 ],
 "metadata": {
  "kernelspec": {
   "display_name": "Python 3 (ipykernel)",
   "language": "python",
   "name": "python3"
  },
  "language_info": {
   "codemirror_mode": {
    "name": "ipython",
    "version": 3
   },
   "file_extension": ".py",
   "mimetype": "text/x-python",
   "name": "python",
   "nbconvert_exporter": "python",
   "pygments_lexer": "ipython3",
   "version": "3.10.9"
  }
 },
 "nbformat": 4,
 "nbformat_minor": 5
}

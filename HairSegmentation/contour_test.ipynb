{
 "cells": [
  {
   "cell_type": "code",
   "execution_count": 53,
   "id": "10521d34",
   "metadata": {},
   "outputs": [],
   "source": [
    "# import cv2\n",
    "# import numpy as np\n",
    "\n",
    "# path = './0801seghair/hair2.png'\n",
    "\n",
    "# image = cv2.imread(path)\n",
    "\n",
    "# gray_image = cv2.cvtColor(image, cv2.COLOR_BGR2GRAY)\n",
    "\n",
    "# _, binary_image = cv2.threshold(gray_image, 1, 255, cv2.THRESH_BINARY)\n",
    "\n",
    "# contours, _ = cv2.findContours(binary_image, cv2.RETR_EXTERNAL, cv2.CHAIN_APPROX_SIMPLE)\n",
    "\n",
    "# contr = contours[-1]\n",
    "\n",
    "# x, y, w, h = cv2.boundingRect(contr)\n",
    "# cv2.rectangle(image, (x,y), (x+w, y+h), (0, 255, 0), 1)\n",
    "\n",
    "# cv2.imshow('Exracted Objects', image)\n",
    "# cv2.waitKey(0)\n",
    "# cv2.destroyAllWindows()"
   ]
  },
  {
   "cell_type": "code",
   "execution_count": 117,
   "id": "fb1262bc",
   "metadata": {},
   "outputs": [],
   "source": [
    "import cv2\n",
    "import numpy as np\n",
    "\n",
    "path = './test.jpg'\n",
    "image = cv2.imread(path)\n",
    "\n",
    "gray_image = cv2.cvtColor(image, cv2.COLOR_BGR2GRAY)\n",
    "_, binary_image = cv2.threshold(gray_image, 1, 255, cv2.THRESH_BINARY)\n",
    "\n",
    "contour, _ = cv2.findContours(binary_image, cv2.RETR_EXTERNAL, cv2.CHAIN_APPROX_SIMPLE)\n",
    "\n",
    "cnts = np.concatenate(contour)\n",
    "\n",
    "x, y, w, h = cv2.boundingRect(cnts)\n",
    "\n",
    "crop_img = image[y:y+h, x:x+w]\n",
    "\n",
    "\n",
    "# cv2.imshow(\"crop\",crop_img)\n",
    "# cv2.waitKey(0)\n",
    "# cv2.destroyAllWindows()\n",
    "# cv2.rectangle(image, (x,y), (x+w, y+h), (0, 255, 0), 1)\n",
    "\n",
    "BG_COLOR = (0, 0, 0)\n",
    "DEFAULT = 480\n",
    "height, width, channel = crop_img.shape\n",
    "\n",
    "w_x = int((DEFAULT - (width)) / 2)\n",
    "h_y = int((DEFAULT - (height)) / 2)\n",
    "\n",
    "img_pad = cv2.copyMakeBorder(crop_img, h_y, h_y, w_x, w_x, cv2.BORDER_CONSTANT, value=[0,0,0])\n",
    "\n",
    "w_x2 = DEFAULT - img_pad.shape[1]\n",
    "h_y2 = DEFAULT - img_pad.shape[0]\n",
    "\n",
    "img_pad = cv2.copyMakeBorder(img_pad, h_y2, 0, w_x2, 0, cv2.BORDER_CONSTANT, value=[0,0,0])\n",
    "cv2.imshow(\"padding\", img_pad)\n",
    "cv2.waitKey(0)\n",
    "cv2.destroyAllWindows()"
   ]
  },
  {
   "cell_type": "code",
   "execution_count": 88,
   "id": "70f6615b",
   "metadata": {
    "scrolled": false
   },
   "outputs": [
    {
     "data": {
      "text/plain": [
       "(480, 480, 3)"
      ]
     },
     "execution_count": 88,
     "metadata": {},
     "output_type": "execute_result"
    }
   ],
   "source": [
    "img_pad.shape"
   ]
  },
  {
   "cell_type": "code",
   "execution_count": 107,
   "id": "231988c6",
   "metadata": {},
   "outputs": [
    {
     "data": {
      "text/plain": [
       "True"
      ]
     },
     "execution_count": 107,
     "metadata": {},
     "output_type": "execute_result"
    }
   ],
   "source": [
    "cv2.imwrite('./0802hair2/hair12.png', img_pad)"
   ]
  }
 ],
 "metadata": {
  "kernelspec": {
   "display_name": "Python 3 (ipykernel)",
   "language": "python",
   "name": "python3"
  },
  "language_info": {
   "codemirror_mode": {
    "name": "ipython",
    "version": 3
   },
   "file_extension": ".py",
   "mimetype": "text/x-python",
   "name": "python",
   "nbconvert_exporter": "python",
   "pygments_lexer": "ipython3",
   "version": "3.10.9"
  }
 },
 "nbformat": 4,
 "nbformat_minor": 5
}

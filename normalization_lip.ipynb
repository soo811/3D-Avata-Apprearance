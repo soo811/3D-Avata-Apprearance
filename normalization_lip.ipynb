{
 "cells": [
  {
   "cell_type": "code",
   "execution_count": 3,
   "id": "c0ae0ad5",
   "metadata": {},
   "outputs": [],
   "source": [
    "import cv2\n",
    "import numpy as np\n",
    "import dlib\n",
    "import matplotlib.pyplot as plt\n",
    "import pandas as pd"
   ]
  },
  {
   "cell_type": "code",
   "execution_count": 4,
   "id": "82db0653",
   "metadata": {
    "scrolled": true
   },
   "outputs": [],
   "source": [
    "for i in range(100):\n",
    "    face_path = './dataset/train/img/%s.png'%i\n",
    "    face_origin = cv2.imread(face_path)\n",
    "    face_copy = face_origin.copy()\n",
    "    face_rgb = cv2.cvtColor(face_copy, cv2.COLOR_BGR2RGB)\n",
    "    \n",
    "    detector = dlib.get_frontal_face_detector()\n",
    "    dlib_rects = detector(face_rgb, 1)\n",
    "    \n",
    "    img_how_rgb = cv2.cvtColor(face_copy, cv2.COLOR_BGR2RGB)\n",
    "    \n",
    "    predictor = dlib.shape_predictor(\"shape_predictor_68_face_landmarks.dat\")\n",
    "    \n",
    "    globals()['height'+str(i)] = face_origin.shape[0]\n",
    "    \n",
    "    globals()['img'+str(i)] = []\n",
    "    \n",
    "    for dlib_rect in dlib_rects:\n",
    "        points = predictor(face_rgb, dlib_rect)\n",
    "        list_points = list(map(lambda p: [p.x, p.y], points.parts()))\n",
    "        globals()['img'+str(i)].append(list_points)\n",
    "        globals()['img'+str(i)] = np.array(globals()['img'+str(i)])"
   ]
  },
  {
   "cell_type": "code",
   "execution_count": 5,
   "id": "021d9d4b",
   "metadata": {},
   "outputs": [
    {
     "data": {
      "text/plain": [
       "(1080, 800, 3)"
      ]
     },
     "execution_count": 5,
     "metadata": {},
     "output_type": "execute_result"
    }
   ],
   "source": [
    "face_origin.shape"
   ]
  },
  {
   "cell_type": "code",
   "execution_count": 6,
   "id": "1588514e",
   "metadata": {},
   "outputs": [],
   "source": [
    "for i in range(100):\n",
    "    land = np.zeros((68,2))\n",
    "    \n",
    "    for j in range(68):\n",
    "        land[j][0] = globals()['img'+str(i)][0][j][0]\n",
    "        land[j][1] = globals()['img'+str(i)][0][j][1]\n",
    "        \n",
    "    x = land[:,0]\n",
    "    y = land[:,1] * (-1) + globals()['height'+str(i)]\n",
    "    \n",
    "    x -= ((min(x) + max(x)) / 2)\n",
    "    y -= ((min(y) + max(y)) / 2)\n",
    "    \n",
    "    norm_x = (x - min(x)) / (max(y)-min(y))\n",
    "    norm_y = (y - min(y)) / (max(y)-min(y))\n",
    "    \n",
    "    globals()['norm'+str(i)] = np.column_stack((norm_x, norm_y))"
   ]
  },
  {
   "cell_type": "code",
   "execution_count": 7,
   "id": "6a12305e",
   "metadata": {},
   "outputs": [],
   "source": [
    "# xyxyxyxyxyxyxy(0~16)\n",
    "for i in range(100):\n",
    "    globals()['norm'+str(i)] = globals()['norm'+str(i)][48:]\n",
    "    globals()['norm'+str(i)] = globals()['norm'+str(i)].flatten()"
   ]
  },
  {
   "cell_type": "code",
   "execution_count": 8,
   "id": "85a6c2f7",
   "metadata": {},
   "outputs": [],
   "source": [
    "train_x = np.zeros((100, len(norm0)))\n",
    "for i in range(100):\n",
    "    for j in range(len(norm0)):\n",
    "        train_x[i][j] = globals()['norm'+str(i)][j]   "
   ]
  },
  {
   "cell_type": "code",
   "execution_count": null,
   "id": "f3583ac9",
   "metadata": {},
   "outputs": [],
   "source": []
  },
  {
   "cell_type": "code",
   "execution_count": 9,
   "id": "463bfc13",
   "metadata": {},
   "outputs": [],
   "source": [
    "for i in range(100):\n",
    "    face_path = './dataset/test/img/%s.png'%i\n",
    "    face_origin = cv2.imread(face_path)\n",
    "    face_copy = face_origin.copy()\n",
    "    face_rgb = cv2.cvtColor(face_copy, cv2.COLOR_BGR2RGB)\n",
    "    \n",
    "    detector = dlib.get_frontal_face_detector()\n",
    "    dlib_rects = detector(face_rgb, 1)\n",
    "    \n",
    "    img_how_rgb = cv2.cvtColor(face_copy, cv2.COLOR_BGR2RGB)\n",
    "    \n",
    "    predictor = dlib.shape_predictor(\"shape_predictor_68_face_landmarks.dat\")\n",
    "    \n",
    "    globals()['height'+str(i)] = face_origin.shape[0]\n",
    "    \n",
    "    globals()['img'+str(i)] = []\n",
    "    \n",
    "    for dlib_rect in dlib_rects:\n",
    "        points = predictor(face_rgb, dlib_rect)\n",
    "        list_points = list(map(lambda p: [p.x, p.y], points.parts()))\n",
    "        globals()['img'+str(i)].append(list_points)\n",
    "        globals()['img'+str(i)] = np.array(globals()['img'+str(i)])"
   ]
  },
  {
   "cell_type": "code",
   "execution_count": 10,
   "id": "b49b8320",
   "metadata": {},
   "outputs": [],
   "source": [
    "for i in range(100):\n",
    "    land = np.zeros((68,2))\n",
    "    \n",
    "    for j in range(68):\n",
    "        land[j][0] = globals()['img'+str(i)][0][j][0]\n",
    "        land[j][1] = globals()['img'+str(i)][0][j][1]\n",
    "        \n",
    "    x = land[:,0]\n",
    "    y = land[:,1] * (-1) + globals()['height'+str(i)]\n",
    "    \n",
    "    x -= ((min(x) + max(x)) / 2)\n",
    "    y -= ((min(y) + max(y)) / 2)\n",
    "    \n",
    "    norm_x = (x - min(x)) / (max(y)-min(y))\n",
    "    norm_y = (y - min(y)) / (max(y)-min(y))\n",
    "    \n",
    "    globals()['norm'+str(i)] = np.column_stack((norm_x, norm_y))"
   ]
  },
  {
   "cell_type": "code",
   "execution_count": 11,
   "id": "7d100baf",
   "metadata": {},
   "outputs": [],
   "source": [
    "# xyxyxyxyxyxyxy(0~16)\n",
    "for i in range(100):\n",
    "    globals()['norm'+str(i)] = globals()['norm'+str(i)][48:]\n",
    "    globals()['norm'+str(i)] = globals()['norm'+str(i)].flatten()"
   ]
  },
  {
   "cell_type": "code",
   "execution_count": 12,
   "id": "0eaa80db",
   "metadata": {},
   "outputs": [],
   "source": [
    "test_x = np.zeros((100, len(norm0)))\n",
    "for i in range(100):\n",
    "    for j in range(len(norm0)):\n",
    "        test_x[i][j] = globals()['norm'+str(i)][j]   "
   ]
  },
  {
   "cell_type": "code",
   "execution_count": null,
   "id": "e5cdd90d",
   "metadata": {},
   "outputs": [],
   "source": []
  },
  {
   "cell_type": "code",
   "execution_count": 13,
   "id": "43a59475",
   "metadata": {},
   "outputs": [],
   "source": [
    "train_y = pd.read_csv('./dataset/train/train.csv')\n",
    "train_y = train_y.iloc[:, 30:]\n",
    "test_y = pd.read_csv('./dataset/test/test.csv')\n",
    "test_y = test_y.iloc[:, 30:]"
   ]
  },
  {
   "cell_type": "code",
   "execution_count": null,
   "id": "b377be63",
   "metadata": {},
   "outputs": [],
   "source": []
  },
  {
   "cell_type": "code",
   "execution_count": 14,
   "id": "470daed0",
   "metadata": {},
   "outputs": [
    {
     "data": {
      "text/plain": [
       "0.05257362026002028"
      ]
     },
     "execution_count": 14,
     "metadata": {},
     "output_type": "execute_result"
    }
   ],
   "source": [
    "from sklearn.linear_model import LinearRegression\n",
    "from sklearn.metrics import mean_absolute_error\n",
    "\n",
    "model = LinearRegression()\n",
    "model.fit(train_x, train_y)\n",
    "y_pred = model.predict(train_x)\n",
    "mae = mean_absolute_error(train_y, y_pred)\n",
    "\n",
    "mae"
   ]
  },
  {
   "cell_type": "code",
   "execution_count": 15,
   "id": "2c003d3d",
   "metadata": {},
   "outputs": [
    {
     "data": {
      "text/plain": [
       "0.08244349782035656"
      ]
     },
     "execution_count": 15,
     "metadata": {},
     "output_type": "execute_result"
    }
   ],
   "source": [
    "y_pred = model.predict(test_x)\n",
    "mae = mean_absolute_error(test_y, y_pred)\n",
    "\n",
    "mae"
   ]
  },
  {
   "cell_type": "code",
   "execution_count": 16,
   "id": "a9a1f955",
   "metadata": {
    "scrolled": true
   },
   "outputs": [
    {
     "data": {
      "text/plain": [
       "(array([ 0.03869733, -3.25134115,  0.89562899, -0.27390142]),\n",
       " array([[ -9.35192753,   2.16605962,  -3.37446076,   9.40573991,\n",
       "          -0.45523167,  -3.50652067,  -3.99417862,  -1.36707589,\n",
       "         -11.36611792,  -3.53875793,   4.31653427, -10.90191997,\n",
       "          -3.50658077,  -2.83113599,   3.42342126,   6.20518473,\n",
       "           1.58533598,  -7.11715606,   8.31964878,   0.61559654,\n",
       "           3.59551994,   3.80245788,  -6.75907906,   2.0318357 ,\n",
       "           3.86829357,  12.19380031,  -2.59931337,  -4.4944092 ,\n",
       "          -3.362048  ,  -4.10408863,  10.24772442,   4.10532502,\n",
       "           3.17992335,  -0.87085905,  -0.69082871,   4.8888689 ,\n",
       "           0.80252249, -10.011287  ,   3.14211236,   2.98937134],\n",
       "        [ -4.19275927, -10.84053572,   5.81809872,  18.54112218,\n",
       "          -0.05264847, -10.04848617,  12.14676148,  15.05816031,\n",
       "          -0.15636768,  -9.15374742,  -1.54608811,  -7.98881113,\n",
       "          -3.71401728,   5.52842713,  -2.83327542,  -4.85962071,\n",
       "           1.81072076,   6.90222794,  19.58878164,  -3.03277228,\n",
       "          -7.24965507,  -5.92249546,   5.03770712,  12.75631519,\n",
       "          -4.02578043, -10.05234946,   1.12243428,   3.5279828 ,\n",
       "           2.76279595,   2.39299111,   8.61922142,   3.74451574,\n",
       "          -2.13164513,  -0.52630009,  -0.51922704,   4.04833117,\n",
       "         -15.17328321,   3.4228578 , -12.70025452,  -5.46960289],\n",
       "        [  9.07757091,  -3.3668693 , -10.14431229,  -5.32827069,\n",
       "          23.85869983,  -5.82922638,  -0.89455445, -20.55373227,\n",
       "          30.53718695,   7.93190708, -51.41581742,   1.53407236,\n",
       "          15.35239345,  17.96430364,   7.27120832,  -4.64804169,\n",
       "         -31.57130391,  18.1145672 , -15.08127625, -25.5929024 ,\n",
       "           8.78283998,  -4.90547984, -12.69732848,  -1.35775377,\n",
       "          -7.03424188,  12.94588639,   0.13699635,   4.46072419,\n",
       "          -7.28179188,   5.63628904,   1.43224489,   3.51538263,\n",
       "           3.97626224, -12.2251634 ,  19.70307637,  15.68148188,\n",
       "          17.148114  ,  22.68415544,  -2.75537125, -26.66379214],\n",
       "        [ -6.8960703 ,  -0.5651537 ,  -4.49057395,  11.82057039,\n",
       "          -2.10558013,   2.78839965,  -7.49622149,  11.90303121,\n",
       "         -10.0247021 ,  -8.40177008,  16.13379187,   7.43095645,\n",
       "          -1.309373  , -10.19711728,   2.69763836,  -6.66112285,\n",
       "           5.06089333,  -5.89529925,   5.81169658,  -4.0375539 ,\n",
       "          -1.08635838,   3.48292519,  10.94841494,   1.44498492,\n",
       "           4.62602856,  -9.66003048,   2.90329542,  -1.73119987,\n",
       "          -3.29703174,  -2.43898788,   1.26409017,  -5.02787038,\n",
       "         -10.08730969,  10.40880098,   0.58990755,   1.49715936,\n",
       "           0.23485144,  -8.27470803,  -4.91511326,  11.4891837 ]]))"
      ]
     },
     "execution_count": 16,
     "metadata": {},
     "output_type": "execute_result"
    }
   ],
   "source": [
    "model.intercept_, model.coef_"
   ]
  },
  {
   "cell_type": "code",
   "execution_count": 20,
   "id": "39c02243",
   "metadata": {
    "scrolled": true
   },
   "outputs": [],
   "source": [
    "# pd.set_option('display.max_rows', None)"
   ]
  },
  {
   "cell_type": "code",
   "execution_count": 17,
   "id": "59bb2518",
   "metadata": {
    "scrolled": false
   },
   "outputs": [
    {
     "data": {
      "text/html": [
       "<div>\n",
       "<style scoped>\n",
       "    .dataframe tbody tr th:only-of-type {\n",
       "        vertical-align: middle;\n",
       "    }\n",
       "\n",
       "    .dataframe tbody tr th {\n",
       "        vertical-align: top;\n",
       "    }\n",
       "\n",
       "    .dataframe thead th {\n",
       "        text-align: right;\n",
       "    }\n",
       "</style>\n",
       "<table border=\"1\" class=\"dataframe\">\n",
       "  <thead>\n",
       "    <tr style=\"text-align: right;\">\n",
       "      <th></th>\n",
       "      <th>mouthSize</th>\n",
       "      <th>mouthPosition</th>\n",
       "      <th>mouthPronounced</th>\n",
       "      <th>lipSize</th>\n",
       "    </tr>\n",
       "  </thead>\n",
       "  <tbody>\n",
       "    <tr>\n",
       "      <th>0</th>\n",
       "      <td>0.190955</td>\n",
       "      <td>0.505558</td>\n",
       "      <td>0.478015</td>\n",
       "      <td>0.562302</td>\n",
       "    </tr>\n",
       "    <tr>\n",
       "      <th>1</th>\n",
       "      <td>0.307440</td>\n",
       "      <td>0.824935</td>\n",
       "      <td>0.620684</td>\n",
       "      <td>0.758519</td>\n",
       "    </tr>\n",
       "    <tr>\n",
       "      <th>2</th>\n",
       "      <td>0.290873</td>\n",
       "      <td>0.631597</td>\n",
       "      <td>0.386745</td>\n",
       "      <td>0.478125</td>\n",
       "    </tr>\n",
       "    <tr>\n",
       "      <th>3</th>\n",
       "      <td>0.423384</td>\n",
       "      <td>0.175056</td>\n",
       "      <td>0.451758</td>\n",
       "      <td>0.323483</td>\n",
       "    </tr>\n",
       "    <tr>\n",
       "      <th>4</th>\n",
       "      <td>0.554192</td>\n",
       "      <td>0.824096</td>\n",
       "      <td>0.548247</td>\n",
       "      <td>0.521639</td>\n",
       "    </tr>\n",
       "    <tr>\n",
       "      <th>...</th>\n",
       "      <td>...</td>\n",
       "      <td>...</td>\n",
       "      <td>...</td>\n",
       "      <td>...</td>\n",
       "    </tr>\n",
       "    <tr>\n",
       "      <th>95</th>\n",
       "      <td>0.541755</td>\n",
       "      <td>0.321628</td>\n",
       "      <td>0.370032</td>\n",
       "      <td>0.560508</td>\n",
       "    </tr>\n",
       "    <tr>\n",
       "      <th>96</th>\n",
       "      <td>0.614455</td>\n",
       "      <td>0.563094</td>\n",
       "      <td>0.306541</td>\n",
       "      <td>0.788298</td>\n",
       "    </tr>\n",
       "    <tr>\n",
       "      <th>97</th>\n",
       "      <td>0.473311</td>\n",
       "      <td>0.406101</td>\n",
       "      <td>0.703929</td>\n",
       "      <td>0.529626</td>\n",
       "    </tr>\n",
       "    <tr>\n",
       "      <th>98</th>\n",
       "      <td>0.642149</td>\n",
       "      <td>0.395866</td>\n",
       "      <td>0.380381</td>\n",
       "      <td>0.607779</td>\n",
       "    </tr>\n",
       "    <tr>\n",
       "      <th>99</th>\n",
       "      <td>0.230117</td>\n",
       "      <td>0.796437</td>\n",
       "      <td>0.513076</td>\n",
       "      <td>0.537580</td>\n",
       "    </tr>\n",
       "  </tbody>\n",
       "</table>\n",
       "<p>100 rows × 4 columns</p>\n",
       "</div>"
      ],
      "text/plain": [
       "    mouthSize  mouthPosition  mouthPronounced   lipSize\n",
       "0    0.190955       0.505558         0.478015  0.562302\n",
       "1    0.307440       0.824935         0.620684  0.758519\n",
       "2    0.290873       0.631597         0.386745  0.478125\n",
       "3    0.423384       0.175056         0.451758  0.323483\n",
       "4    0.554192       0.824096         0.548247  0.521639\n",
       "..        ...            ...              ...       ...\n",
       "95   0.541755       0.321628         0.370032  0.560508\n",
       "96   0.614455       0.563094         0.306541  0.788298\n",
       "97   0.473311       0.406101         0.703929  0.529626\n",
       "98   0.642149       0.395866         0.380381  0.607779\n",
       "99   0.230117       0.796437         0.513076  0.537580\n",
       "\n",
       "[100 rows x 4 columns]"
      ]
     },
     "execution_count": 17,
     "metadata": {},
     "output_type": "execute_result"
    }
   ],
   "source": [
    "prediction = pd.DataFrame(y_pred)\n",
    "prediction.columns = [\"mouthSize\",\"mouthPosition\",\"mouthPronounced\",\"lipSize\"]\n",
    "prediction"
   ]
  },
  {
   "cell_type": "code",
   "execution_count": 18,
   "id": "230a8b0a",
   "metadata": {
    "scrolled": false
   },
   "outputs": [
    {
     "data": {
      "text/html": [
       "<div>\n",
       "<style scoped>\n",
       "    .dataframe tbody tr th:only-of-type {\n",
       "        vertical-align: middle;\n",
       "    }\n",
       "\n",
       "    .dataframe tbody tr th {\n",
       "        vertical-align: top;\n",
       "    }\n",
       "\n",
       "    .dataframe thead th {\n",
       "        text-align: right;\n",
       "    }\n",
       "</style>\n",
       "<table border=\"1\" class=\"dataframe\">\n",
       "  <thead>\n",
       "    <tr style=\"text-align: right;\">\n",
       "      <th></th>\n",
       "      <th>mouthSize</th>\n",
       "      <th>mouthPosition</th>\n",
       "      <th>mouthPronounced</th>\n",
       "      <th>lipsSize</th>\n",
       "    </tr>\n",
       "  </thead>\n",
       "  <tbody>\n",
       "    <tr>\n",
       "      <th>0</th>\n",
       "      <td>0.241427</td>\n",
       "      <td>0.614988</td>\n",
       "      <td>0.780424</td>\n",
       "      <td>0.520251</td>\n",
       "    </tr>\n",
       "    <tr>\n",
       "      <th>1</th>\n",
       "      <td>0.298667</td>\n",
       "      <td>0.704906</td>\n",
       "      <td>0.733134</td>\n",
       "      <td>0.742770</td>\n",
       "    </tr>\n",
       "    <tr>\n",
       "      <th>2</th>\n",
       "      <td>0.228592</td>\n",
       "      <td>0.651212</td>\n",
       "      <td>0.317283</td>\n",
       "      <td>0.440955</td>\n",
       "    </tr>\n",
       "    <tr>\n",
       "      <th>3</th>\n",
       "      <td>0.481674</td>\n",
       "      <td>0.214611</td>\n",
       "      <td>0.633301</td>\n",
       "      <td>0.222423</td>\n",
       "    </tr>\n",
       "    <tr>\n",
       "      <th>4</th>\n",
       "      <td>0.676315</td>\n",
       "      <td>0.793210</td>\n",
       "      <td>0.581524</td>\n",
       "      <td>0.521908</td>\n",
       "    </tr>\n",
       "    <tr>\n",
       "      <th>...</th>\n",
       "      <td>...</td>\n",
       "      <td>...</td>\n",
       "      <td>...</td>\n",
       "      <td>...</td>\n",
       "    </tr>\n",
       "    <tr>\n",
       "      <th>95</th>\n",
       "      <td>0.549648</td>\n",
       "      <td>0.204712</td>\n",
       "      <td>0.569278</td>\n",
       "      <td>0.322924</td>\n",
       "    </tr>\n",
       "    <tr>\n",
       "      <th>96</th>\n",
       "      <td>0.617910</td>\n",
       "      <td>0.485857</td>\n",
       "      <td>0.463260</td>\n",
       "      <td>0.680530</td>\n",
       "    </tr>\n",
       "    <tr>\n",
       "      <th>97</th>\n",
       "      <td>0.445559</td>\n",
       "      <td>0.314909</td>\n",
       "      <td>0.787422</td>\n",
       "      <td>0.434210</td>\n",
       "    </tr>\n",
       "    <tr>\n",
       "      <th>98</th>\n",
       "      <td>0.660861</td>\n",
       "      <td>0.420872</td>\n",
       "      <td>0.230623</td>\n",
       "      <td>0.670635</td>\n",
       "    </tr>\n",
       "    <tr>\n",
       "      <th>99</th>\n",
       "      <td>0.291226</td>\n",
       "      <td>0.799739</td>\n",
       "      <td>0.536911</td>\n",
       "      <td>0.646169</td>\n",
       "    </tr>\n",
       "  </tbody>\n",
       "</table>\n",
       "<p>100 rows × 4 columns</p>\n",
       "</div>"
      ],
      "text/plain": [
       "    mouthSize  mouthPosition  mouthPronounced  lipsSize\n",
       "0    0.241427       0.614988         0.780424  0.520251\n",
       "1    0.298667       0.704906         0.733134  0.742770\n",
       "2    0.228592       0.651212         0.317283  0.440955\n",
       "3    0.481674       0.214611         0.633301  0.222423\n",
       "4    0.676315       0.793210         0.581524  0.521908\n",
       "..        ...            ...              ...       ...\n",
       "95   0.549648       0.204712         0.569278  0.322924\n",
       "96   0.617910       0.485857         0.463260  0.680530\n",
       "97   0.445559       0.314909         0.787422  0.434210\n",
       "98   0.660861       0.420872         0.230623  0.670635\n",
       "99   0.291226       0.799739         0.536911  0.646169\n",
       "\n",
       "[100 rows x 4 columns]"
      ]
     },
     "execution_count": 18,
     "metadata": {},
     "output_type": "execute_result"
    }
   ],
   "source": [
    "test_y"
   ]
  },
  {
   "cell_type": "code",
   "execution_count": 19,
   "id": "6768c15b",
   "metadata": {},
   "outputs": [
    {
     "name": "stdout",
     "output_type": "stream",
     "text": [
      "0.11102132902313668\n"
     ]
    }
   ],
   "source": [
    "from sklearn.metrics import mean_squared_error\n",
    "rmse = mean_squared_error(test_y, prediction)**0.5\n",
    "print(rmse)"
   ]
  }
 ],
 "metadata": {
  "kernelspec": {
   "display_name": "Python 3 (ipykernel)",
   "language": "python",
   "name": "python3"
  },
  "language_info": {
   "codemirror_mode": {
    "name": "ipython",
    "version": 3
   },
   "file_extension": ".py",
   "mimetype": "text/x-python",
   "name": "python",
   "nbconvert_exporter": "python",
   "pygments_lexer": "ipython3",
   "version": "3.10.9"
  }
 },
 "nbformat": 4,
 "nbformat_minor": 5
}

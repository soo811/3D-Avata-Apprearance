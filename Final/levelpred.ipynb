{
 "cells": [
  {
   "cell_type": "code",
   "execution_count": 1,
   "id": "8df74bc4",
   "metadata": {},
   "outputs": [],
   "source": [
    "import cv2\n",
    "import pandas as pd\n",
    "import matplotlib.pyplot as plt\n",
    "import numpy as np\n",
    "import math\n",
    "import dlib\n",
    "from PIL import Image\n",
    "import joblib\n",
    "\n",
    "from prediction import *"
   ]
  },
  {
   "cell_type": "code",
   "execution_count": 2,
   "id": "19982671",
   "metadata": {},
   "outputs": [],
   "source": [
    "from sklearn.linear_model import LinearRegression\n",
    "from sklearn.metrics import mean_absolute_error"
   ]
  },
  {
   "cell_type": "code",
   "execution_count": 3,
   "id": "787d0a52",
   "metadata": {},
   "outputs": [],
   "source": [
    "train = ReadDibCsv(100, './data2/train/')\n",
    "test = ReadDibCsv(100, './data2/test/')"
   ]
  },
  {
   "cell_type": "code",
   "execution_count": 4,
   "id": "6a433946",
   "metadata": {},
   "outputs": [],
   "source": [
    "train_level = np.zeros((100, 4))\n",
    "cnt = len(train)\n",
    "eye_list = [43,44,46,47]  ## 왼쪽 눈\n",
    "mouth_list =[61, 62, 63, 65, 66, 67]   ## 안쪽 입 중앙\n",
    "for i in range(cnt):\n",
    "    x = train[i,:,0]\n",
    "    y = train[i,:,1]\n",
    "    \n",
    "    minx = min(x)\n",
    "    miny = min(y)\n",
    "    maxy = max(y)\n",
    "    \n",
    "    height = max(y) - min(y)\n",
    "    \n",
    "    x = (x - minx) / height\n",
    "    y = (y - miny) / height\n",
    "    \n",
    "    eye_center = y[eye_list].mean()\n",
    "    mouth_center = y[mouth_list].mean()\n",
    "    \n",
    "    train_level[i][0] = eye_center\n",
    "    train_level[i][1] = y[33]\n",
    "    train_level[i][2] = mouth_center\n",
    "    train_level[i][3] = y[8]"
   ]
  },
  {
   "cell_type": "code",
   "execution_count": 5,
   "id": "59f3150a",
   "metadata": {},
   "outputs": [],
   "source": [
    "test_level = np.zeros((100, 4))\n",
    "cnt = len(test)\n",
    "eye_list = [43,44,46,47]\n",
    "mouth_list =[61, 62, 63, 65, 66, 67]\n",
    "for i in range(cnt):\n",
    "    x = test[i,:,0]\n",
    "    y = test[i,:,1]\n",
    "    \n",
    "    minx = min(x)\n",
    "    miny = min(y)\n",
    "    maxy = max(y)\n",
    "    \n",
    "    height = max(y) - min(y)\n",
    "    \n",
    "    x = (x - minx) / height\n",
    "    y = (y - miny) / height\n",
    "    \n",
    "    eye_center = y[eye_list].mean()\n",
    "    mouth_center = y[mouth_list].mean()\n",
    "    \n",
    "    test_level[i][0] = eye_center\n",
    "    test_level[i][1] = y[33]\n",
    "    test_level[i][2] = mouth_center\n",
    "    test_level[i][3] = y[8]"
   ]
  },
  {
   "cell_type": "code",
   "execution_count": 6,
   "id": "5ebcf45c",
   "metadata": {},
   "outputs": [],
   "source": [
    "train_y = pd.read_csv('./DataSet2/Train/csv/train.csv')\n",
    "train_y = train_y[['eyeLevel', 'mouthLevel', 'noseLevel', 'chinLevel']]\n",
    "test_y = pd.read_csv('./DataSet2/Test/csv/test.csv')\n",
    "test_y = test_y[['eyeLevel', 'mouthLevel', 'noseLevel', 'chinLevel']]"
   ]
  },
  {
   "cell_type": "code",
   "execution_count": 7,
   "id": "8582d69a",
   "metadata": {
    "scrolled": false
   },
   "outputs": [
    {
     "data": {
      "text/html": [
       "<div>\n",
       "<style scoped>\n",
       "    .dataframe tbody tr th:only-of-type {\n",
       "        vertical-align: middle;\n",
       "    }\n",
       "\n",
       "    .dataframe tbody tr th {\n",
       "        vertical-align: top;\n",
       "    }\n",
       "\n",
       "    .dataframe thead th {\n",
       "        text-align: right;\n",
       "    }\n",
       "</style>\n",
       "<table border=\"1\" class=\"dataframe\">\n",
       "  <thead>\n",
       "    <tr style=\"text-align: right;\">\n",
       "      <th></th>\n",
       "      <th>eyeLevel</th>\n",
       "      <th>mouthLevel</th>\n",
       "      <th>noseLevel</th>\n",
       "      <th>chinLevel</th>\n",
       "    </tr>\n",
       "  </thead>\n",
       "  <tbody>\n",
       "    <tr>\n",
       "      <th>0</th>\n",
       "      <td>0.061087</td>\n",
       "      <td>-0.007866</td>\n",
       "      <td>0.013161</td>\n",
       "      <td>0.007878</td>\n",
       "    </tr>\n",
       "    <tr>\n",
       "      <th>1</th>\n",
       "      <td>0.056171</td>\n",
       "      <td>-0.005207</td>\n",
       "      <td>0.016029</td>\n",
       "      <td>0.006740</td>\n",
       "    </tr>\n",
       "    <tr>\n",
       "      <th>2</th>\n",
       "      <td>0.058795</td>\n",
       "      <td>-0.002312</td>\n",
       "      <td>0.014073</td>\n",
       "      <td>0.003780</td>\n",
       "    </tr>\n",
       "    <tr>\n",
       "      <th>3</th>\n",
       "      <td>0.059149</td>\n",
       "      <td>-0.008033</td>\n",
       "      <td>0.017054</td>\n",
       "      <td>0.007113</td>\n",
       "    </tr>\n",
       "    <tr>\n",
       "      <th>4</th>\n",
       "      <td>0.061609</td>\n",
       "      <td>-0.007465</td>\n",
       "      <td>0.013714</td>\n",
       "      <td>0.006971</td>\n",
       "    </tr>\n",
       "    <tr>\n",
       "      <th>...</th>\n",
       "      <td>...</td>\n",
       "      <td>...</td>\n",
       "      <td>...</td>\n",
       "      <td>...</td>\n",
       "    </tr>\n",
       "    <tr>\n",
       "      <th>95</th>\n",
       "      <td>0.057283</td>\n",
       "      <td>-0.006997</td>\n",
       "      <td>0.024755</td>\n",
       "      <td>0.003351</td>\n",
       "    </tr>\n",
       "    <tr>\n",
       "      <th>96</th>\n",
       "      <td>0.055730</td>\n",
       "      <td>-0.002376</td>\n",
       "      <td>0.019222</td>\n",
       "      <td>0.002899</td>\n",
       "    </tr>\n",
       "    <tr>\n",
       "      <th>97</th>\n",
       "      <td>0.054991</td>\n",
       "      <td>-0.002683</td>\n",
       "      <td>0.024596</td>\n",
       "      <td>0.000876</td>\n",
       "    </tr>\n",
       "    <tr>\n",
       "      <th>98</th>\n",
       "      <td>0.055505</td>\n",
       "      <td>-0.000904</td>\n",
       "      <td>0.018509</td>\n",
       "      <td>0.002086</td>\n",
       "    </tr>\n",
       "    <tr>\n",
       "      <th>99</th>\n",
       "      <td>0.058847</td>\n",
       "      <td>-0.005649</td>\n",
       "      <td>0.020165</td>\n",
       "      <td>0.003631</td>\n",
       "    </tr>\n",
       "  </tbody>\n",
       "</table>\n",
       "<p>100 rows × 4 columns</p>\n",
       "</div>"
      ],
      "text/plain": [
       "    eyeLevel  mouthLevel  noseLevel  chinLevel\n",
       "0   0.061087   -0.007866   0.013161   0.007878\n",
       "1   0.056171   -0.005207   0.016029   0.006740\n",
       "2   0.058795   -0.002312   0.014073   0.003780\n",
       "3   0.059149   -0.008033   0.017054   0.007113\n",
       "4   0.061609   -0.007465   0.013714   0.006971\n",
       "..       ...         ...        ...        ...\n",
       "95  0.057283   -0.006997   0.024755   0.003351\n",
       "96  0.055730   -0.002376   0.019222   0.002899\n",
       "97  0.054991   -0.002683   0.024596   0.000876\n",
       "98  0.055505   -0.000904   0.018509   0.002086\n",
       "99  0.058847   -0.005649   0.020165   0.003631\n",
       "\n",
       "[100 rows x 4 columns]"
      ]
     },
     "execution_count": 7,
     "metadata": {},
     "output_type": "execute_result"
    }
   ],
   "source": [
    "model = LinearRegression()\n",
    "model.fit(train_level, train_y)\n",
    "pred = model.predict(test_level)\n",
    "df = pd.DataFrame(pred)\n",
    "df.columns = ['eyeLevel','mouthLevel','noseLevel','chinLevel']\n",
    "df"
   ]
  },
  {
   "cell_type": "code",
   "execution_count": 8,
   "id": "5b10f624",
   "metadata": {
    "scrolled": false
   },
   "outputs": [
    {
     "data": {
      "text/html": [
       "<div>\n",
       "<style scoped>\n",
       "    .dataframe tbody tr th:only-of-type {\n",
       "        vertical-align: middle;\n",
       "    }\n",
       "\n",
       "    .dataframe tbody tr th {\n",
       "        vertical-align: top;\n",
       "    }\n",
       "\n",
       "    .dataframe thead th {\n",
       "        text-align: right;\n",
       "    }\n",
       "</style>\n",
       "<table border=\"1\" class=\"dataframe\">\n",
       "  <thead>\n",
       "    <tr style=\"text-align: right;\">\n",
       "      <th></th>\n",
       "      <th>eyeLevel</th>\n",
       "      <th>mouthLevel</th>\n",
       "      <th>noseLevel</th>\n",
       "      <th>chinLevel</th>\n",
       "    </tr>\n",
       "  </thead>\n",
       "  <tbody>\n",
       "    <tr>\n",
       "      <th>0</th>\n",
       "      <td>0.062867</td>\n",
       "      <td>-0.008600</td>\n",
       "      <td>0.011012</td>\n",
       "      <td>0.005435</td>\n",
       "    </tr>\n",
       "    <tr>\n",
       "      <th>1</th>\n",
       "      <td>0.054299</td>\n",
       "      <td>-0.004324</td>\n",
       "      <td>0.015606</td>\n",
       "      <td>0.006090</td>\n",
       "    </tr>\n",
       "    <tr>\n",
       "      <th>2</th>\n",
       "      <td>0.060204</td>\n",
       "      <td>-0.000589</td>\n",
       "      <td>0.017270</td>\n",
       "      <td>0.007846</td>\n",
       "    </tr>\n",
       "    <tr>\n",
       "      <th>3</th>\n",
       "      <td>0.058193</td>\n",
       "      <td>-0.008047</td>\n",
       "      <td>0.017450</td>\n",
       "      <td>0.005343</td>\n",
       "    </tr>\n",
       "    <tr>\n",
       "      <th>4</th>\n",
       "      <td>0.061076</td>\n",
       "      <td>-0.006287</td>\n",
       "      <td>0.014368</td>\n",
       "      <td>0.010111</td>\n",
       "    </tr>\n",
       "    <tr>\n",
       "      <th>...</th>\n",
       "      <td>...</td>\n",
       "      <td>...</td>\n",
       "      <td>...</td>\n",
       "      <td>...</td>\n",
       "    </tr>\n",
       "    <tr>\n",
       "      <th>95</th>\n",
       "      <td>0.055513</td>\n",
       "      <td>-0.008897</td>\n",
       "      <td>0.024248</td>\n",
       "      <td>0.000987</td>\n",
       "    </tr>\n",
       "    <tr>\n",
       "      <th>96</th>\n",
       "      <td>0.055671</td>\n",
       "      <td>-0.001439</td>\n",
       "      <td>0.016712</td>\n",
       "      <td>-0.001717</td>\n",
       "    </tr>\n",
       "    <tr>\n",
       "      <th>97</th>\n",
       "      <td>0.053516</td>\n",
       "      <td>-0.003197</td>\n",
       "      <td>0.025003</td>\n",
       "      <td>0.001162</td>\n",
       "    </tr>\n",
       "    <tr>\n",
       "      <th>98</th>\n",
       "      <td>0.059978</td>\n",
       "      <td>0.001534</td>\n",
       "      <td>0.019074</td>\n",
       "      <td>0.003165</td>\n",
       "    </tr>\n",
       "    <tr>\n",
       "      <th>99</th>\n",
       "      <td>0.057440</td>\n",
       "      <td>-0.007080</td>\n",
       "      <td>0.024616</td>\n",
       "      <td>0.000984</td>\n",
       "    </tr>\n",
       "  </tbody>\n",
       "</table>\n",
       "<p>100 rows × 4 columns</p>\n",
       "</div>"
      ],
      "text/plain": [
       "    eyeLevel  mouthLevel  noseLevel  chinLevel\n",
       "0   0.062867   -0.008600   0.011012   0.005435\n",
       "1   0.054299   -0.004324   0.015606   0.006090\n",
       "2   0.060204   -0.000589   0.017270   0.007846\n",
       "3   0.058193   -0.008047   0.017450   0.005343\n",
       "4   0.061076   -0.006287   0.014368   0.010111\n",
       "..       ...         ...        ...        ...\n",
       "95  0.055513   -0.008897   0.024248   0.000987\n",
       "96  0.055671   -0.001439   0.016712  -0.001717\n",
       "97  0.053516   -0.003197   0.025003   0.001162\n",
       "98  0.059978    0.001534   0.019074   0.003165\n",
       "99  0.057440   -0.007080   0.024616   0.000984\n",
       "\n",
       "[100 rows x 4 columns]"
      ]
     },
     "execution_count": 8,
     "metadata": {},
     "output_type": "execute_result"
    }
   ],
   "source": [
    "test_y"
   ]
  },
  {
   "cell_type": "code",
   "execution_count": 9,
   "id": "65b01df3",
   "metadata": {},
   "outputs": [
    {
     "data": {
      "text/plain": [
       "0.00201619814208174"
      ]
     },
     "execution_count": 9,
     "metadata": {},
     "output_type": "execute_result"
    }
   ],
   "source": [
    "mae = mean_absolute_error(test_y, pred)\n",
    "mae"
   ]
  },
  {
   "cell_type": "code",
   "execution_count": null,
   "id": "bf133485",
   "metadata": {},
   "outputs": [],
   "source": []
  },
  {
   "cell_type": "code",
   "execution_count": 10,
   "id": "25a20454",
   "metadata": {},
   "outputs": [],
   "source": [
    "e_min = 0.05098964\n",
    "e_max = 0.06300907\n",
    "n_min = 0.0108679\n",
    "n_max = 0.02551717\n",
    "m_min = -0.008652932\n",
    "m_max = 0.001820078\n",
    "j_min = -0.001825406\n",
    "j_max = 0.01026576 "
   ]
  },
  {
   "cell_type": "code",
   "execution_count": 11,
   "id": "4c46b738",
   "metadata": {
    "scrolled": true
   },
   "outputs": [],
   "source": [
    "df['eyeLevel'] = (df['eyeLevel'] - e_min) / (e_max - e_min) \n",
    "df['noseLevel'] = (df['noseLevel'] - n_min) / (n_max - n_min) \n",
    "df['mouthLevel'] = (df['mouthLevel'] - m_min) / (m_max - m_min) \n",
    "df['chinLevel'] = (df['chinLevel'] - j_min) / (j_max - j_min) "
   ]
  },
  {
   "cell_type": "code",
   "execution_count": 12,
   "id": "2145b79f",
   "metadata": {},
   "outputs": [
    {
     "data": {
      "text/html": [
       "<div>\n",
       "<style scoped>\n",
       "    .dataframe tbody tr th:only-of-type {\n",
       "        vertical-align: middle;\n",
       "    }\n",
       "\n",
       "    .dataframe tbody tr th {\n",
       "        vertical-align: top;\n",
       "    }\n",
       "\n",
       "    .dataframe thead th {\n",
       "        text-align: right;\n",
       "    }\n",
       "</style>\n",
       "<table border=\"1\" class=\"dataframe\">\n",
       "  <thead>\n",
       "    <tr style=\"text-align: right;\">\n",
       "      <th></th>\n",
       "      <th>eyeLevel</th>\n",
       "      <th>mouthLevel</th>\n",
       "      <th>noseLevel</th>\n",
       "      <th>chinLevel</th>\n",
       "    </tr>\n",
       "  </thead>\n",
       "  <tbody>\n",
       "    <tr>\n",
       "      <th>0</th>\n",
       "      <td>0.840075</td>\n",
       "      <td>0.075170</td>\n",
       "      <td>0.156560</td>\n",
       "      <td>0.802485</td>\n",
       "    </tr>\n",
       "    <tr>\n",
       "      <th>1</th>\n",
       "      <td>0.431070</td>\n",
       "      <td>0.329070</td>\n",
       "      <td>0.352342</td>\n",
       "      <td>0.708394</td>\n",
       "    </tr>\n",
       "    <tr>\n",
       "      <th>2</th>\n",
       "      <td>0.649390</td>\n",
       "      <td>0.605481</td>\n",
       "      <td>0.218821</td>\n",
       "      <td>0.463571</td>\n",
       "    </tr>\n",
       "    <tr>\n",
       "      <th>3</th>\n",
       "      <td>0.678882</td>\n",
       "      <td>0.059192</td>\n",
       "      <td>0.422248</td>\n",
       "      <td>0.739262</td>\n",
       "    </tr>\n",
       "    <tr>\n",
       "      <th>4</th>\n",
       "      <td>0.883549</td>\n",
       "      <td>0.113424</td>\n",
       "      <td>0.194264</td>\n",
       "      <td>0.727527</td>\n",
       "    </tr>\n",
       "    <tr>\n",
       "      <th>...</th>\n",
       "      <td>...</td>\n",
       "      <td>...</td>\n",
       "      <td>...</td>\n",
       "      <td>...</td>\n",
       "    </tr>\n",
       "    <tr>\n",
       "      <th>95</th>\n",
       "      <td>0.523625</td>\n",
       "      <td>0.158133</td>\n",
       "      <td>0.947990</td>\n",
       "      <td>0.428140</td>\n",
       "    </tr>\n",
       "    <tr>\n",
       "      <th>96</th>\n",
       "      <td>0.394368</td>\n",
       "      <td>0.599309</td>\n",
       "      <td>0.570281</td>\n",
       "      <td>0.390773</td>\n",
       "    </tr>\n",
       "    <tr>\n",
       "      <th>97</th>\n",
       "      <td>0.332916</td>\n",
       "      <td>0.570015</td>\n",
       "      <td>0.937132</td>\n",
       "      <td>0.223408</td>\n",
       "    </tr>\n",
       "    <tr>\n",
       "      <th>98</th>\n",
       "      <td>0.375689</td>\n",
       "      <td>0.739876</td>\n",
       "      <td>0.521576</td>\n",
       "      <td>0.323520</td>\n",
       "    </tr>\n",
       "    <tr>\n",
       "      <th>99</th>\n",
       "      <td>0.653687</td>\n",
       "      <td>0.286780</td>\n",
       "      <td>0.634626</td>\n",
       "      <td>0.451269</td>\n",
       "    </tr>\n",
       "  </tbody>\n",
       "</table>\n",
       "<p>100 rows × 4 columns</p>\n",
       "</div>"
      ],
      "text/plain": [
       "    eyeLevel  mouthLevel  noseLevel  chinLevel\n",
       "0   0.840075    0.075170   0.156560   0.802485\n",
       "1   0.431070    0.329070   0.352342   0.708394\n",
       "2   0.649390    0.605481   0.218821   0.463571\n",
       "3   0.678882    0.059192   0.422248   0.739262\n",
       "4   0.883549    0.113424   0.194264   0.727527\n",
       "..       ...         ...        ...        ...\n",
       "95  0.523625    0.158133   0.947990   0.428140\n",
       "96  0.394368    0.599309   0.570281   0.390773\n",
       "97  0.332916    0.570015   0.937132   0.223408\n",
       "98  0.375689    0.739876   0.521576   0.323520\n",
       "99  0.653687    0.286780   0.634626   0.451269\n",
       "\n",
       "[100 rows x 4 columns]"
      ]
     },
     "execution_count": 12,
     "metadata": {},
     "output_type": "execute_result"
    }
   ],
   "source": [
    "df"
   ]
  },
  {
   "cell_type": "code",
   "execution_count": 13,
   "id": "7ea1daf6",
   "metadata": {},
   "outputs": [],
   "source": [
    "pos_y = pd.read_csv('./DataSet2/Test/csv/test.csv')\n",
    "pos_y = pos_y[['eyePosition','mouthPosition','nosePosition','chinPosition']]"
   ]
  },
  {
   "cell_type": "code",
   "execution_count": 14,
   "id": "ebbb1140",
   "metadata": {},
   "outputs": [
    {
     "data": {
      "text/html": [
       "<div>\n",
       "<style scoped>\n",
       "    .dataframe tbody tr th:only-of-type {\n",
       "        vertical-align: middle;\n",
       "    }\n",
       "\n",
       "    .dataframe tbody tr th {\n",
       "        vertical-align: top;\n",
       "    }\n",
       "\n",
       "    .dataframe thead th {\n",
       "        text-align: right;\n",
       "    }\n",
       "</style>\n",
       "<table border=\"1\" class=\"dataframe\">\n",
       "  <thead>\n",
       "    <tr style=\"text-align: right;\">\n",
       "      <th></th>\n",
       "      <th>eyePosition</th>\n",
       "      <th>mouthPosition</th>\n",
       "      <th>nosePosition</th>\n",
       "      <th>chinPosition</th>\n",
       "    </tr>\n",
       "  </thead>\n",
       "  <tbody>\n",
       "    <tr>\n",
       "      <th>0</th>\n",
       "      <td>0.987580</td>\n",
       "      <td>0.083063</td>\n",
       "      <td>0.011575</td>\n",
       "      <td>0.444558</td>\n",
       "    </tr>\n",
       "    <tr>\n",
       "      <th>1</th>\n",
       "      <td>0.263217</td>\n",
       "      <td>0.388587</td>\n",
       "      <td>0.380518</td>\n",
       "      <td>0.798688</td>\n",
       "    </tr>\n",
       "    <tr>\n",
       "      <th>2</th>\n",
       "      <td>0.755307</td>\n",
       "      <td>0.762916</td>\n",
       "      <td>0.510423</td>\n",
       "      <td>0.498208</td>\n",
       "    </tr>\n",
       "    <tr>\n",
       "      <th>3</th>\n",
       "      <td>0.579981</td>\n",
       "      <td>0.057911</td>\n",
       "      <td>0.521110</td>\n",
       "      <td>0.861411</td>\n",
       "    </tr>\n",
       "    <tr>\n",
       "      <th>4</th>\n",
       "      <td>0.831355</td>\n",
       "      <td>0.231283</td>\n",
       "      <td>0.281028</td>\n",
       "      <td>0.921561</td>\n",
       "    </tr>\n",
       "    <tr>\n",
       "      <th>...</th>\n",
       "      <td>...</td>\n",
       "      <td>...</td>\n",
       "      <td>...</td>\n",
       "      <td>...</td>\n",
       "    </tr>\n",
       "    <tr>\n",
       "      <th>95</th>\n",
       "      <td>0.359737</td>\n",
       "      <td>0.046782</td>\n",
       "      <td>0.924631</td>\n",
       "      <td>0.225515</td>\n",
       "    </tr>\n",
       "    <tr>\n",
       "      <th>96</th>\n",
       "      <td>0.372337</td>\n",
       "      <td>0.659678</td>\n",
       "      <td>0.469275</td>\n",
       "      <td>0.155858</td>\n",
       "    </tr>\n",
       "    <tr>\n",
       "      <th>97</th>\n",
       "      <td>0.200910</td>\n",
       "      <td>0.536925</td>\n",
       "      <td>0.969470</td>\n",
       "      <td>0.492540</td>\n",
       "    </tr>\n",
       "    <tr>\n",
       "      <th>98</th>\n",
       "      <td>0.735607</td>\n",
       "      <td>0.938573</td>\n",
       "      <td>0.617494</td>\n",
       "      <td>0.707767</td>\n",
       "    </tr>\n",
       "    <tr>\n",
       "      <th>99</th>\n",
       "      <td>0.514278</td>\n",
       "      <td>0.231354</td>\n",
       "      <td>0.946493</td>\n",
       "      <td>0.505313</td>\n",
       "    </tr>\n",
       "  </tbody>\n",
       "</table>\n",
       "<p>100 rows × 4 columns</p>\n",
       "</div>"
      ],
      "text/plain": [
       "    eyePosition  mouthPosition  nosePosition  chinPosition\n",
       "0      0.987580       0.083063      0.011575      0.444558\n",
       "1      0.263217       0.388587      0.380518      0.798688\n",
       "2      0.755307       0.762916      0.510423      0.498208\n",
       "3      0.579981       0.057911      0.521110      0.861411\n",
       "4      0.831355       0.231283      0.281028      0.921561\n",
       "..          ...            ...           ...           ...\n",
       "95     0.359737       0.046782      0.924631      0.225515\n",
       "96     0.372337       0.659678      0.469275      0.155858\n",
       "97     0.200910       0.536925      0.969470      0.492540\n",
       "98     0.735607       0.938573      0.617494      0.707767\n",
       "99     0.514278       0.231354      0.946493      0.505313\n",
       "\n",
       "[100 rows x 4 columns]"
      ]
     },
     "execution_count": 14,
     "metadata": {},
     "output_type": "execute_result"
    }
   ],
   "source": [
    "pos_y"
   ]
  },
  {
   "cell_type": "code",
   "execution_count": 15,
   "id": "619129cf",
   "metadata": {
    "scrolled": true
   },
   "outputs": [
    {
     "data": {
      "text/plain": [
       "0.11009140749913254"
      ]
     },
     "execution_count": 15,
     "metadata": {},
     "output_type": "execute_result"
    }
   ],
   "source": [
    "mae = mean_absolute_error(pos_y['mouthPosition'], df['mouthLevel'])\n",
    "mae"
   ]
  },
  {
   "cell_type": "code",
   "execution_count": 16,
   "id": "60165a73",
   "metadata": {},
   "outputs": [
    {
     "data": {
      "text/plain": [
       "0.15608784873192905"
      ]
     },
     "execution_count": 16,
     "metadata": {},
     "output_type": "execute_result"
    }
   ],
   "source": [
    "mae = mean_absolute_error(pos_y['nosePosition'], df['noseLevel'])\n",
    "mae"
   ]
  },
  {
   "cell_type": "code",
   "execution_count": 17,
   "id": "b9192904",
   "metadata": {},
   "outputs": [
    {
     "data": {
      "text/plain": [
       "0.16147491510449388"
      ]
     },
     "execution_count": 17,
     "metadata": {},
     "output_type": "execute_result"
    }
   ],
   "source": [
    "mae = mean_absolute_error(pos_y['eyePosition'], df['eyeLevel'])\n",
    "mae"
   ]
  },
  {
   "cell_type": "code",
   "execution_count": 18,
   "id": "84ddac05",
   "metadata": {},
   "outputs": [
    {
     "data": {
      "text/plain": [
       "0.1833912524397861"
      ]
     },
     "execution_count": 18,
     "metadata": {},
     "output_type": "execute_result"
    }
   ],
   "source": [
    "mae = mean_absolute_error(pos_y['chinPosition'], df['chinLevel'])\n",
    "mae"
   ]
  },
  {
   "cell_type": "code",
   "execution_count": null,
   "id": "1b915260",
   "metadata": {},
   "outputs": [],
   "source": []
  },
  {
   "cell_type": "code",
   "execution_count": 19,
   "id": "12d3affb",
   "metadata": {},
   "outputs": [
    {
     "data": {
      "text/plain": [
       "0.1527613559438354"
      ]
     },
     "execution_count": 19,
     "metadata": {},
     "output_type": "execute_result"
    }
   ],
   "source": [
    "mae = mean_absolute_error(pos_y, df)\n",
    "mae"
   ]
  }
 ],
 "metadata": {
  "kernelspec": {
   "display_name": "Python 3 (ipykernel)",
   "language": "python",
   "name": "python3"
  },
  "language_info": {
   "codemirror_mode": {
    "name": "ipython",
    "version": 3
   },
   "file_extension": ".py",
   "mimetype": "text/x-python",
   "name": "python",
   "nbconvert_exporter": "python",
   "pygments_lexer": "ipython3",
   "version": "3.10.9"
  }
 },
 "nbformat": 4,
 "nbformat_minor": 5
}

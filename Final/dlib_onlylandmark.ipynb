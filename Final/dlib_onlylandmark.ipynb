{
 "cells": [
  {
   "cell_type": "code",
   "execution_count": 1,
   "id": "2bdd7b72",
   "metadata": {},
   "outputs": [],
   "source": [
    "import cv2\n",
    "import numpy as np\n",
    "import dlib\n",
    "import matplotlib.pyplot as plt\n",
    "import pandas as pd"
   ]
  },
  {
   "cell_type": "code",
   "execution_count": 2,
   "id": "efe11e76",
   "metadata": {},
   "outputs": [],
   "source": [
    "for i in range(100):\n",
    "    face_path = './DataSet3/train/img/%s.png'%i\n",
    "    face_origin = cv2.imread(face_path)\n",
    "    face_copy = face_origin.copy()\n",
    "    face_rgb = cv2.cvtColor(face_copy, cv2.COLOR_BGR2RGB)\n",
    "    \n",
    "    detector = dlib.get_frontal_face_detector()\n",
    "    dlib_rects = detector(face_rgb, 1)\n",
    "    \n",
    "    img_how_rgb = cv2.cvtColor(face_copy, cv2.COLOR_BGR2RGB)\n",
    "    \n",
    "    predictor = dlib.shape_predictor(\"shape_predictor_68_face_landmarks.dat\")\n",
    "    \n",
    "    globals()['img'+str(i)] = []\n",
    "    \n",
    "    for dlib_rect in dlib_rects:\n",
    "        points = predictor(face_rgb, dlib_rect)\n",
    "        list_points = list(map(lambda p: [p.x, p.y], points.parts()))\n",
    "        globals()['img'+str(i)].append(list_points)\n",
    "        globals()['img'+str(i)] = np.array(globals()['img'+str(i)])"
   ]
  },
  {
   "cell_type": "code",
   "execution_count": 3,
   "id": "64b757d9",
   "metadata": {},
   "outputs": [],
   "source": [
    "for i in range(100):\n",
    "    globals()['land'+str(i)] = np.zeros((68, 2))\n",
    "    for j in range(68):\n",
    "        globals()['land'+str(i)][j][0] = globals()['img'+str(i)][0][j][0]\n",
    "        globals()['land'+str(i)][j][1] = globals()['img'+str(i)][0][j][1]\n",
    "    \n",
    "    globals()['land'+str(i)] = pd.DataFrame(globals()['land'+str(i)])\n",
    "    globals()['land'+str(i)].to_csv('./data3/train/%s.csv'%i, index=False)"
   ]
  },
  {
   "cell_type": "code",
   "execution_count": null,
   "id": "f6071df4",
   "metadata": {},
   "outputs": [],
   "source": []
  },
  {
   "cell_type": "code",
   "execution_count": 4,
   "id": "e17b401b",
   "metadata": {},
   "outputs": [],
   "source": [
    "for i in range(100):\n",
    "    face_path = './DataSet3/test/img/%s.png'%i\n",
    "    face_origin = cv2.imread(face_path)\n",
    "    face_copy = face_origin.copy()\n",
    "    face_rgb = cv2.cvtColor(face_copy, cv2.COLOR_BGR2RGB)\n",
    "    \n",
    "    detector = dlib.get_frontal_face_detector()\n",
    "    dlib_rects = detector(face_rgb, 1)\n",
    "    \n",
    "    img_how_rgb = cv2.cvtColor(face_copy, cv2.COLOR_BGR2RGB)\n",
    "    \n",
    "    predictor = dlib.shape_predictor(\"shape_predictor_68_face_landmarks.dat\")\n",
    "    \n",
    "    globals()['img'+str(i)] = []\n",
    "    \n",
    "    for dlib_rect in dlib_rects:\n",
    "        points = predictor(face_rgb, dlib_rect)\n",
    "        list_points = list(map(lambda p: [p.x, p.y], points.parts()))\n",
    "        globals()['img'+str(i)].append(list_points)\n",
    "        globals()['img'+str(i)] = np.array(globals()['img'+str(i)])"
   ]
  },
  {
   "cell_type": "code",
   "execution_count": 5,
   "id": "66ec19cc",
   "metadata": {},
   "outputs": [],
   "source": [
    "for i in range(100):\n",
    "    globals()['land'+str(i)] = np.zeros((68, 2))\n",
    "    for j in range(68):\n",
    "        globals()['land'+str(i)][j][0] = globals()['img'+str(i)][0][j][0]\n",
    "        globals()['land'+str(i)][j][1] = globals()['img'+str(i)][0][j][1]\n",
    "    \n",
    "    globals()['land'+str(i)] = pd.DataFrame(globals()['land'+str(i)])\n",
    "    globals()['land'+str(i)].to_csv('./data3/test/%s.csv'%i, index=False)"
   ]
  }
 ],
 "metadata": {
  "kernelspec": {
   "display_name": "Python 3 (ipykernel)",
   "language": "python",
   "name": "python3"
  },
  "language_info": {
   "codemirror_mode": {
    "name": "ipython",
    "version": 3
   },
   "file_extension": ".py",
   "mimetype": "text/x-python",
   "name": "python",
   "nbconvert_exporter": "python",
   "pygments_lexer": "ipython3",
   "version": "3.10.9"
  }
 },
 "nbformat": 4,
 "nbformat_minor": 5
}

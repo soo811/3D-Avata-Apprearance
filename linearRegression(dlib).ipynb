{
 "cells": [
  {
   "cell_type": "code",
   "execution_count": 47,
   "id": "40f69cbb",
   "metadata": {},
   "outputs": [],
   "source": [
    "import cv2\n",
    "import numpy as np\n",
    "import dlib\n",
    "import matplotlib.pyplot as plt\n",
    "import pandas as pd"
   ]
  },
  {
   "cell_type": "code",
   "execution_count": null,
   "id": "8632fb30",
   "metadata": {},
   "outputs": [],
   "source": []
  },
  {
   "cell_type": "code",
   "execution_count": 48,
   "id": "1862cafa",
   "metadata": {},
   "outputs": [],
   "source": [
    "for i in range(100):\n",
    "\n",
    "    face_path = './dataset/train/img/%s.png'%i\n",
    "    face_origin = cv2.imread(face_path)\n",
    "    face_copy = face_origin.copy()\n",
    "    face_rgb = cv2.cvtColor(face_copy, cv2.COLOR_BGR2RGB)\n",
    "    \n",
    "    detector = dlib.get_frontal_face_detector()\n",
    "    dlib_rects = detector(face_rgb,1)\n",
    "    \n",
    "    img_show_rgb = cv2.cvtColor(face_copy, cv2.COLOR_BGR2RGB)\n",
    "\n",
    "    predictor = dlib.shape_predictor(\"shape_predictor_68_face_landmarks.dat\")\n",
    "    \n",
    "    globals()['img'+str(i)] = []\n",
    "    \n",
    "    for dlib_rect in dlib_rects:\n",
    "        points = predictor(face_rgb, dlib_rect)\n",
    "        list_points = list(map(lambda p: [p.x, p.y], points.parts()))\n",
    "        globals()['img'+str(i)].append(list_points)\n",
    "        globals()['img'+str(i)] = np.array(globals()['img'+str(i)])"
   ]
  },
  {
   "cell_type": "code",
   "execution_count": 8,
   "id": "0e4cb783",
   "metadata": {
    "scrolled": true
   },
   "outputs": [],
   "source": [
    "# xyxyxyxyxyxyxy(0~16)\n",
    "for i in range(100):\n",
    "    globals()['img'+str(i)] = globals()['img'+str(i)][0][:17]\n",
    "    globals()['img'+str(i)] = globals()['img'+str(i)].flatten()"
   ]
  },
  {
   "cell_type": "code",
   "execution_count": 9,
   "id": "46072b44",
   "metadata": {},
   "outputs": [],
   "source": [
    "train_x = np.zeros((100, 34))\n",
    "for i in range(100):\n",
    "    for j in range(34):\n",
    "        train_x[i][j] = globals()['img'+str(i)][j]"
   ]
  },
  {
   "cell_type": "code",
   "execution_count": null,
   "id": "86ad658a",
   "metadata": {},
   "outputs": [],
   "source": []
  },
  {
   "cell_type": "code",
   "execution_count": 10,
   "id": "cfd8493d",
   "metadata": {},
   "outputs": [],
   "source": [
    "for i in range(100):\n",
    "\n",
    "    face_path = './dataset/test/img/%s.png'%i\n",
    "    face_origin = cv2.imread(face_path)\n",
    "    face_copy = face_origin.copy()\n",
    "    face_rgb = cv2.cvtColor(face_copy, cv2.COLOR_BGR2RGB)\n",
    "    \n",
    "    detector = dlib.get_frontal_face_detector()\n",
    "    dlib_rects = detector(face_rgb,1)\n",
    "    \n",
    "    img_show_rgb = cv2.cvtColor(face_copy, cv2.COLOR_BGR2RGB)\n",
    "\n",
    "    predictor = dlib.shape_predictor(\"shape_predictor_68_face_landmarks.dat\")\n",
    "    \n",
    "    globals()['img_'+str(i)] = []\n",
    "    \n",
    "    for dlib_rect in dlib_rects:\n",
    "        points = predictor(face_rgb, dlib_rect)\n",
    "        list_points = list(map(lambda p: [p.x, p.y], points.parts()))\n",
    "        globals()['img_'+str(i)].append(list_points)\n",
    "        globals()['img_'+str(i)] = np.array(globals()['img_'+str(i)])"
   ]
  },
  {
   "cell_type": "code",
   "execution_count": 11,
   "id": "dc6d751f",
   "metadata": {},
   "outputs": [],
   "source": [
    "# xyxyxyxyxyxyxy(0~16)\n",
    "for i in range(100):\n",
    "    globals()['img_'+str(i)] = globals()['img_'+str(i)][0][:17]\n",
    "    globals()['img_'+str(i)] = globals()['img_'+str(i)].flatten()\n",
    "    \n",
    "test_x = np.zeros((100, 34))\n",
    "for i in range(100):\n",
    "    for j in range(34):\n",
    "        test_x[i][j] = globals()['img_'+str(i)][j]"
   ]
  },
  {
   "cell_type": "code",
   "execution_count": null,
   "id": "4f508a18",
   "metadata": {},
   "outputs": [],
   "source": []
  },
  {
   "cell_type": "code",
   "execution_count": 38,
   "id": "5f66f1db",
   "metadata": {},
   "outputs": [],
   "source": [
    "train_y = pd.read_csv('./dataset/train/train.csv')\n",
    "train_y = train_y.iloc[:, 5:7]\n",
    "test_y = pd.read_csv('./dataset/test/test.csv')\n",
    "test_y = test_y.iloc[:, 5:7]"
   ]
  },
  {
   "cell_type": "code",
   "execution_count": null,
   "id": "c2a1c318",
   "metadata": {},
   "outputs": [],
   "source": []
  },
  {
   "cell_type": "code",
   "execution_count": 39,
   "id": "dcdb8043",
   "metadata": {
    "scrolled": true
   },
   "outputs": [
    {
     "data": {
      "text/plain": [
       "0.0843492860361374"
      ]
     },
     "execution_count": 39,
     "metadata": {},
     "output_type": "execute_result"
    }
   ],
   "source": [
    "from sklearn.linear_model import LinearRegression\n",
    "from sklearn.metrics import mean_absolute_error\n",
    "\n",
    "model = LinearRegression()\n",
    "model.fit(train_x, train_y)\n",
    "y_pred = model.predict(train_x)\n",
    "mae = mean_absolute_error(train_y, y_pred)\n",
    "\n",
    "mae"
   ]
  },
  {
   "cell_type": "code",
   "execution_count": 40,
   "id": "7f5805fb",
   "metadata": {
    "scrolled": true
   },
   "outputs": [
    {
     "data": {
      "text/plain": [
       "0.09983615513773433"
      ]
     },
     "execution_count": 40,
     "metadata": {},
     "output_type": "execute_result"
    }
   ],
   "source": [
    "y_pred = model.predict(test_x)\n",
    "mae = mean_absolute_error(test_y, y_pred)\n",
    "\n",
    "mae"
   ]
  },
  {
   "cell_type": "code",
   "execution_count": 41,
   "id": "55f2df1e",
   "metadata": {},
   "outputs": [
    {
     "data": {
      "text/plain": [
       "(array([ -0.50743233, -34.14507061]),\n",
       " array([[-0.00437459,  0.01177658, -0.01192196, -0.03158696,  0.02718324,\n",
       "          0.02204035, -0.04681052,  0.03725349, -0.02492314,  0.01529143,\n",
       "          0.08302979, -0.11272703, -0.0167061 ,  0.01659942, -0.02618197,\n",
       "          0.03345795,  0.03141358, -0.05145365,  0.01284412,  0.04018401,\n",
       "          0.02915692, -0.03256804, -0.05303529,  0.06694477,  0.00650238,\n",
       "         -0.03010463,  0.04136678, -0.02346561, -0.03619642,  0.01640819,\n",
       "         -0.02224511,  0.01858691,  0.03934565, -0.01610522],\n",
       "        [ 0.01116581, -0.01362386,  0.00243284, -0.02998978,  0.03954541,\n",
       "         -0.00669718, -0.00361351,  0.06312499, -0.01921339,  0.05204097,\n",
       "         -0.03916485, -0.05125232,  0.0028919 , -0.02140422,  0.03557921,\n",
       "         -0.01147331, -0.01043128, -0.03446234,  0.0165871 ,  0.06122424,\n",
       "          0.03645928, -0.009709  , -0.06543319,  0.01414299,  0.02655865,\n",
       "          0.00961949,  0.02522219, -0.00897345, -0.01804209,  0.00973467,\n",
       "          0.00048817, -0.01652616,  0.01337027,  0.0146552 ]]))"
      ]
     },
     "execution_count": 41,
     "metadata": {},
     "output_type": "execute_result"
    }
   ],
   "source": [
    "model.intercept_, model.coef_"
   ]
  },
  {
   "cell_type": "code",
   "execution_count": 44,
   "id": "110ef0da",
   "metadata": {},
   "outputs": [
    {
     "data": {
      "text/html": [
       "<div>\n",
       "<style scoped>\n",
       "    .dataframe tbody tr th:only-of-type {\n",
       "        vertical-align: middle;\n",
       "    }\n",
       "\n",
       "    .dataframe tbody tr th {\n",
       "        vertical-align: top;\n",
       "    }\n",
       "\n",
       "    .dataframe thead th {\n",
       "        text-align: right;\n",
       "    }\n",
       "</style>\n",
       "<table border=\"1\" class=\"dataframe\">\n",
       "  <thead>\n",
       "    <tr style=\"text-align: right;\">\n",
       "      <th></th>\n",
       "      <th>jawsPosition</th>\n",
       "      <th>jawsSize</th>\n",
       "    </tr>\n",
       "  </thead>\n",
       "  <tbody>\n",
       "    <tr>\n",
       "      <th>0</th>\n",
       "      <td>0.291378</td>\n",
       "      <td>0.610664</td>\n",
       "    </tr>\n",
       "    <tr>\n",
       "      <th>1</th>\n",
       "      <td>0.351801</td>\n",
       "      <td>0.719208</td>\n",
       "    </tr>\n",
       "    <tr>\n",
       "      <th>2</th>\n",
       "      <td>0.447414</td>\n",
       "      <td>0.572736</td>\n",
       "    </tr>\n",
       "    <tr>\n",
       "      <th>3</th>\n",
       "      <td>0.406243</td>\n",
       "      <td>0.572073</td>\n",
       "    </tr>\n",
       "    <tr>\n",
       "      <th>4</th>\n",
       "      <td>0.319585</td>\n",
       "      <td>0.362907</td>\n",
       "    </tr>\n",
       "    <tr>\n",
       "      <th>...</th>\n",
       "      <td>...</td>\n",
       "      <td>...</td>\n",
       "    </tr>\n",
       "    <tr>\n",
       "      <th>95</th>\n",
       "      <td>0.515153</td>\n",
       "      <td>0.801123</td>\n",
       "    </tr>\n",
       "    <tr>\n",
       "      <th>96</th>\n",
       "      <td>0.426061</td>\n",
       "      <td>0.411668</td>\n",
       "    </tr>\n",
       "    <tr>\n",
       "      <th>97</th>\n",
       "      <td>0.646365</td>\n",
       "      <td>0.424560</td>\n",
       "    </tr>\n",
       "    <tr>\n",
       "      <th>98</th>\n",
       "      <td>0.578473</td>\n",
       "      <td>0.324780</td>\n",
       "    </tr>\n",
       "    <tr>\n",
       "      <th>99</th>\n",
       "      <td>0.506245</td>\n",
       "      <td>0.562007</td>\n",
       "    </tr>\n",
       "  </tbody>\n",
       "</table>\n",
       "<p>100 rows × 2 columns</p>\n",
       "</div>"
      ],
      "text/plain": [
       "    jawsPosition  jawsSize\n",
       "0       0.291378  0.610664\n",
       "1       0.351801  0.719208\n",
       "2       0.447414  0.572736\n",
       "3       0.406243  0.572073\n",
       "4       0.319585  0.362907\n",
       "..           ...       ...\n",
       "95      0.515153  0.801123\n",
       "96      0.426061  0.411668\n",
       "97      0.646365  0.424560\n",
       "98      0.578473  0.324780\n",
       "99      0.506245  0.562007\n",
       "\n",
       "[100 rows x 2 columns]"
      ]
     },
     "execution_count": 44,
     "metadata": {},
     "output_type": "execute_result"
    }
   ],
   "source": [
    "prediction = pd.DataFrame(y_pred)\n",
    "prediction.columns = ['jawsPosition','jawsSize']\n",
    "prediction"
   ]
  },
  {
   "cell_type": "code",
   "execution_count": 43,
   "id": "b9bc750e",
   "metadata": {
    "scrolled": false
   },
   "outputs": [
    {
     "data": {
      "text/html": [
       "<div>\n",
       "<style scoped>\n",
       "    .dataframe tbody tr th:only-of-type {\n",
       "        vertical-align: middle;\n",
       "    }\n",
       "\n",
       "    .dataframe tbody tr th {\n",
       "        vertical-align: top;\n",
       "    }\n",
       "\n",
       "    .dataframe thead th {\n",
       "        text-align: right;\n",
       "    }\n",
       "</style>\n",
       "<table border=\"1\" class=\"dataframe\">\n",
       "  <thead>\n",
       "    <tr style=\"text-align: right;\">\n",
       "      <th></th>\n",
       "      <th>jawsPosition</th>\n",
       "      <th>jawsSize</th>\n",
       "    </tr>\n",
       "  </thead>\n",
       "  <tbody>\n",
       "    <tr>\n",
       "      <th>0</th>\n",
       "      <td>0.323832</td>\n",
       "      <td>0.595424</td>\n",
       "    </tr>\n",
       "    <tr>\n",
       "      <th>1</th>\n",
       "      <td>0.252126</td>\n",
       "      <td>0.766253</td>\n",
       "    </tr>\n",
       "    <tr>\n",
       "      <th>2</th>\n",
       "      <td>0.466237</td>\n",
       "      <td>0.531876</td>\n",
       "    </tr>\n",
       "    <tr>\n",
       "      <th>3</th>\n",
       "      <td>0.289253</td>\n",
       "      <td>0.519737</td>\n",
       "    </tr>\n",
       "    <tr>\n",
       "      <th>4</th>\n",
       "      <td>0.225629</td>\n",
       "      <td>0.502349</td>\n",
       "    </tr>\n",
       "    <tr>\n",
       "      <th>...</th>\n",
       "      <td>...</td>\n",
       "      <td>...</td>\n",
       "    </tr>\n",
       "    <tr>\n",
       "      <th>95</th>\n",
       "      <td>0.320538</td>\n",
       "      <td>0.766127</td>\n",
       "    </tr>\n",
       "    <tr>\n",
       "      <th>96</th>\n",
       "      <td>0.530781</td>\n",
       "      <td>0.438227</td>\n",
       "    </tr>\n",
       "    <tr>\n",
       "      <th>97</th>\n",
       "      <td>0.565084</td>\n",
       "      <td>0.416299</td>\n",
       "    </tr>\n",
       "    <tr>\n",
       "      <th>98</th>\n",
       "      <td>0.569411</td>\n",
       "      <td>0.301160</td>\n",
       "    </tr>\n",
       "    <tr>\n",
       "      <th>99</th>\n",
       "      <td>0.622268</td>\n",
       "      <td>0.681516</td>\n",
       "    </tr>\n",
       "  </tbody>\n",
       "</table>\n",
       "<p>100 rows × 2 columns</p>\n",
       "</div>"
      ],
      "text/plain": [
       "    jawsPosition  jawsSize\n",
       "0       0.323832  0.595424\n",
       "1       0.252126  0.766253\n",
       "2       0.466237  0.531876\n",
       "3       0.289253  0.519737\n",
       "4       0.225629  0.502349\n",
       "..           ...       ...\n",
       "95      0.320538  0.766127\n",
       "96      0.530781  0.438227\n",
       "97      0.565084  0.416299\n",
       "98      0.569411  0.301160\n",
       "99      0.622268  0.681516\n",
       "\n",
       "[100 rows x 2 columns]"
      ]
     },
     "execution_count": 43,
     "metadata": {},
     "output_type": "execute_result"
    }
   ],
   "source": [
    "test_y"
   ]
  },
  {
   "cell_type": "code",
   "execution_count": 7,
   "id": "1a23dee3",
   "metadata": {},
   "outputs": [],
   "source": []
  },
  {
   "cell_type": "code",
   "execution_count": 46,
   "id": "6d997217",
   "metadata": {
    "scrolled": true
   },
   "outputs": [
    {
     "name": "stdout",
     "output_type": "stream",
     "text": [
      "0.12469882397879001\n"
     ]
    }
   ],
   "source": [
    "from sklearn.metrics import mean_squared_error\n",
    "rmse = mean_squared_error(test_y, prediction)**0.5\n",
    "print(rmse)"
   ]
  }
 ],
 "metadata": {
  "kernelspec": {
   "display_name": "Python 3 (ipykernel)",
   "language": "python",
   "name": "python3"
  },
  "language_info": {
   "codemirror_mode": {
    "name": "ipython",
    "version": 3
   },
   "file_extension": ".py",
   "mimetype": "text/x-python",
   "name": "python",
   "nbconvert_exporter": "python",
   "pygments_lexer": "ipython3",
   "version": "3.10.9"
  }
 },
 "nbformat": 4,
 "nbformat_minor": 5
}

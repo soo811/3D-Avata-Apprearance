{
 "cells": [
  {
   "cell_type": "code",
   "execution_count": 16,
   "id": "c0ae0ad5",
   "metadata": {},
   "outputs": [],
   "source": [
    "import cv2\n",
    "import numpy as np\n",
    "import dlib\n",
    "import matplotlib.pyplot as plt\n",
    "import pandas as pd"
   ]
  },
  {
   "cell_type": "code",
   "execution_count": 17,
   "id": "82db0653",
   "metadata": {
    "scrolled": true
   },
   "outputs": [],
   "source": [
    "for i in range(100):\n",
    "    face_path = './dataset/train/img/%s.png'%i\n",
    "    face_origin = cv2.imread(face_path)\n",
    "    face_copy = face_origin.copy()\n",
    "    face_rgb = cv2.cvtColor(face_copy, cv2.COLOR_BGR2RGB)\n",
    "    \n",
    "    detector = dlib.get_frontal_face_detector()\n",
    "    dlib_rects = detector(face_rgb, 1)\n",
    "    \n",
    "    img_how_rgb = cv2.cvtColor(face_copy, cv2.COLOR_BGR2RGB)\n",
    "    \n",
    "    predictor = dlib.shape_predictor(\"shape_predictor_68_face_landmarks.dat\")\n",
    "    \n",
    "    globals()['height'+str(i)] = face_origin.shape[0]\n",
    "    \n",
    "    globals()['img'+str(i)] = []\n",
    "    \n",
    "    for dlib_rect in dlib_rects:\n",
    "        points = predictor(face_rgb, dlib_rect)\n",
    "        list_points = list(map(lambda p: [p.x, p.y], points.parts()))\n",
    "        globals()['img'+str(i)].append(list_points)\n",
    "        globals()['img'+str(i)] = np.array(globals()['img'+str(i)])"
   ]
  },
  {
   "cell_type": "code",
   "execution_count": 3,
   "id": "1588514e",
   "metadata": {},
   "outputs": [],
   "source": [
    "for i in range(100):\n",
    "    land = np.zeros((68,2))\n",
    "    \n",
    "    for j in range(68):\n",
    "        land[j][0] = globals()['img'+str(i)][0][j][0]\n",
    "        land[j][1] = globals()['img'+str(i)][0][j][1]\n",
    "        \n",
    "    x = land[:,0]\n",
    "    y = land[:,1] * (-1) + globals()['height'+str(i)]\n",
    "    \n",
    "    x -= ((min(x) + max(x)) / 2)\n",
    "    y -= ((min(y) + max(y)) / 2)\n",
    "    \n",
    "    norm_x = (x - min(x)) / ((max(y)-min(y)))\n",
    "    norm_y = (y - min(y)) / ((max(y)-min(y)))\n",
    "    \n",
    "    globals()['norm'+str(i)] = np.column_stack((norm_x, norm_y))"
   ]
  },
  {
   "cell_type": "code",
   "execution_count": 4,
   "id": "6a12305e",
   "metadata": {},
   "outputs": [],
   "source": [
    "# xyxyxyxyxyxyxy(36~47)\n",
    "for i in range(100):\n",
    "    globals()['norm'+str(i)] = globals()['norm'+str(i)][36:48]\n",
    "    globals()['norm'+str(i)] = globals()['norm'+str(i)].flatten()"
   ]
  },
  {
   "cell_type": "code",
   "execution_count": 5,
   "id": "85a6c2f7",
   "metadata": {},
   "outputs": [],
   "source": [
    "train_x = np.zeros((100, 24))\n",
    "for i in range(100):\n",
    "    for j in range(24):\n",
    "        train_x[i][j] = globals()['norm'+str(i)][j]   "
   ]
  },
  {
   "cell_type": "code",
   "execution_count": null,
   "id": "f3583ac9",
   "metadata": {},
   "outputs": [],
   "source": []
  },
  {
   "cell_type": "code",
   "execution_count": 6,
   "id": "463bfc13",
   "metadata": {},
   "outputs": [],
   "source": [
    "for i in range(100):\n",
    "    face_path = './dataset/test/img/%s.png'%i\n",
    "    face_origin = cv2.imread(face_path)\n",
    "    face_copy = face_origin.copy()\n",
    "    face_rgb = cv2.cvtColor(face_copy, cv2.COLOR_BGR2RGB)\n",
    "    \n",
    "    detector = dlib.get_frontal_face_detector()\n",
    "    dlib_rects = detector(face_rgb, 1)\n",
    "    \n",
    "    img_how_rgb = cv2.cvtColor(face_copy, cv2.COLOR_BGR2RGB)\n",
    "    \n",
    "    predictor = dlib.shape_predictor(\"shape_predictor_68_face_landmarks.dat\")\n",
    "    \n",
    "    globals()['height'+str(i)] = face_origin.shape[0]\n",
    "    \n",
    "    globals()['img'+str(i)] = []\n",
    "    \n",
    "    for dlib_rect in dlib_rects:\n",
    "        points = predictor(face_rgb, dlib_rect)\n",
    "        list_points = list(map(lambda p: [p.x, p.y], points.parts()))\n",
    "        globals()['img'+str(i)].append(list_points)\n",
    "        globals()['img'+str(i)] = np.array(globals()['img'+str(i)])"
   ]
  },
  {
   "cell_type": "code",
   "execution_count": 7,
   "id": "b49b8320",
   "metadata": {},
   "outputs": [],
   "source": [
    "for i in range(100):\n",
    "    land = np.zeros((68,2))\n",
    "    \n",
    "    for j in range(68):\n",
    "        land[j][0] = globals()['img'+str(i)][0][j][0]\n",
    "        land[j][1] = globals()['img'+str(i)][0][j][1]\n",
    "        \n",
    "    x = land[:,0]\n",
    "    y = land[:,1] * (-1) + globals()['height'+str(i)]\n",
    "    \n",
    "    x -= ((min(x) + max(x)) / 2)\n",
    "    y -= ((min(y) + max(y)) / 2)\n",
    "    \n",
    "    norm_x = (x - min(x)) / (max(y)-min(y))\n",
    "    norm_y = (y - min(y)) / (max(y)-min(y))\n",
    "    \n",
    "    globals()['norm'+str(i)] = np.column_stack((norm_x, norm_y))"
   ]
  },
  {
   "cell_type": "code",
   "execution_count": 8,
   "id": "7d100baf",
   "metadata": {},
   "outputs": [],
   "source": [
    "# xyxyxyxyxyxyxy(36~47)\n",
    "for i in range(100):\n",
    "    globals()['norm'+str(i)] = globals()['norm'+str(i)][36:48]\n",
    "    globals()['norm'+str(i)] = globals()['norm'+str(i)].flatten()"
   ]
  },
  {
   "cell_type": "code",
   "execution_count": 9,
   "id": "0eaa80db",
   "metadata": {},
   "outputs": [],
   "source": [
    "test_x = np.zeros((100, 24))\n",
    "for i in range(100):\n",
    "    for j in range(24):\n",
    "        test_x[i][j] = globals()['norm'+str(i)][j]   "
   ]
  },
  {
   "cell_type": "code",
   "execution_count": null,
   "id": "e5cdd90d",
   "metadata": {},
   "outputs": [],
   "source": []
  },
  {
   "cell_type": "code",
   "execution_count": 10,
   "id": "43a59475",
   "metadata": {},
   "outputs": [],
   "source": [
    "train_y = pd.read_csv('./dataset/train/train.csv')\n",
    "train_y = train_y.iloc[:, 16:22]\n",
    "test_y = pd.read_csv('./dataset/test/test.csv')\n",
    "test_y = test_y.iloc[:, 16:22]"
   ]
  },
  {
   "cell_type": "code",
   "execution_count": null,
   "id": "b377be63",
   "metadata": {},
   "outputs": [],
   "source": []
  },
  {
   "cell_type": "code",
   "execution_count": 11,
   "id": "470daed0",
   "metadata": {},
   "outputs": [
    {
     "data": {
      "text/plain": [
       "0.0734935297091187"
      ]
     },
     "execution_count": 11,
     "metadata": {},
     "output_type": "execute_result"
    }
   ],
   "source": [
    "from sklearn.linear_model import LinearRegression\n",
    "from sklearn.metrics import mean_absolute_error\n",
    "\n",
    "model = LinearRegression()\n",
    "model.fit(train_x, train_y)\n",
    "y_pred = model.predict(train_x)\n",
    "mae = mean_absolute_error(train_y, y_pred)\n",
    "\n",
    "mae"
   ]
  },
  {
   "cell_type": "code",
   "execution_count": 12,
   "id": "2c003d3d",
   "metadata": {},
   "outputs": [
    {
     "data": {
      "text/plain": [
       "0.11068429731796842"
      ]
     },
     "execution_count": 12,
     "metadata": {},
     "output_type": "execute_result"
    }
   ],
   "source": [
    "y_pred = model.predict(test_x)\n",
    "mae = mean_absolute_error(test_y, y_pred)\n",
    "\n",
    "mae"
   ]
  },
  {
   "cell_type": "code",
   "execution_count": 15,
   "id": "a9a1f955",
   "metadata": {
    "scrolled": false
   },
   "outputs": [],
   "source": [
    "# model.intercept_, model.coef_"
   ]
  },
  {
   "cell_type": "code",
   "execution_count": 13,
   "id": "59bb2518",
   "metadata": {
    "scrolled": false
   },
   "outputs": [
    {
     "data": {
      "text/html": [
       "<div>\n",
       "<style scoped>\n",
       "    .dataframe tbody tr th:only-of-type {\n",
       "        vertical-align: middle;\n",
       "    }\n",
       "\n",
       "    .dataframe tbody tr th {\n",
       "        vertical-align: top;\n",
       "    }\n",
       "\n",
       "    .dataframe thead th {\n",
       "        text-align: right;\n",
       "    }\n",
       "</style>\n",
       "<table border=\"1\" class=\"dataframe\">\n",
       "  <thead>\n",
       "    <tr style=\"text-align: right;\">\n",
       "      <th></th>\n",
       "      <th>eyeSize</th>\n",
       "      <th>eyePosition</th>\n",
       "      <th>eyeDepth</th>\n",
       "      <th>eyeRotation</th>\n",
       "      <th>eyeDistance</th>\n",
       "      <th>eyeSquint</th>\n",
       "    </tr>\n",
       "  </thead>\n",
       "  <tbody>\n",
       "    <tr>\n",
       "      <th>0</th>\n",
       "      <td>0.353146</td>\n",
       "      <td>0.638937</td>\n",
       "      <td>0.621232</td>\n",
       "      <td>0.490727</td>\n",
       "      <td>0.414744</td>\n",
       "      <td>0.458249</td>\n",
       "    </tr>\n",
       "    <tr>\n",
       "      <th>1</th>\n",
       "      <td>0.327979</td>\n",
       "      <td>0.398876</td>\n",
       "      <td>0.750656</td>\n",
       "      <td>0.627314</td>\n",
       "      <td>0.440319</td>\n",
       "      <td>0.582535</td>\n",
       "    </tr>\n",
       "    <tr>\n",
       "      <th>2</th>\n",
       "      <td>0.548795</td>\n",
       "      <td>0.492176</td>\n",
       "      <td>0.380265</td>\n",
       "      <td>0.638749</td>\n",
       "      <td>0.307966</td>\n",
       "      <td>0.591691</td>\n",
       "    </tr>\n",
       "    <tr>\n",
       "      <th>3</th>\n",
       "      <td>0.550444</td>\n",
       "      <td>0.490864</td>\n",
       "      <td>0.545807</td>\n",
       "      <td>0.357172</td>\n",
       "      <td>0.397181</td>\n",
       "      <td>0.403463</td>\n",
       "    </tr>\n",
       "    <tr>\n",
       "      <th>4</th>\n",
       "      <td>0.639292</td>\n",
       "      <td>0.585837</td>\n",
       "      <td>0.553815</td>\n",
       "      <td>0.368740</td>\n",
       "      <td>0.499729</td>\n",
       "      <td>0.586210</td>\n",
       "    </tr>\n",
       "    <tr>\n",
       "      <th>...</th>\n",
       "      <td>...</td>\n",
       "      <td>...</td>\n",
       "      <td>...</td>\n",
       "      <td>...</td>\n",
       "      <td>...</td>\n",
       "      <td>...</td>\n",
       "    </tr>\n",
       "    <tr>\n",
       "      <th>95</th>\n",
       "      <td>0.705320</td>\n",
       "      <td>0.514965</td>\n",
       "      <td>0.420613</td>\n",
       "      <td>0.383593</td>\n",
       "      <td>0.281383</td>\n",
       "      <td>0.612815</td>\n",
       "    </tr>\n",
       "    <tr>\n",
       "      <th>96</th>\n",
       "      <td>0.795361</td>\n",
       "      <td>0.371456</td>\n",
       "      <td>0.723106</td>\n",
       "      <td>0.658041</td>\n",
       "      <td>0.552763</td>\n",
       "      <td>0.610311</td>\n",
       "    </tr>\n",
       "    <tr>\n",
       "      <th>97</th>\n",
       "      <td>0.477682</td>\n",
       "      <td>0.686095</td>\n",
       "      <td>0.610237</td>\n",
       "      <td>0.367162</td>\n",
       "      <td>0.566539</td>\n",
       "      <td>0.466785</td>\n",
       "    </tr>\n",
       "    <tr>\n",
       "      <th>98</th>\n",
       "      <td>0.441157</td>\n",
       "      <td>0.349790</td>\n",
       "      <td>0.536356</td>\n",
       "      <td>0.435280</td>\n",
       "      <td>0.603896</td>\n",
       "      <td>0.493593</td>\n",
       "    </tr>\n",
       "    <tr>\n",
       "      <th>99</th>\n",
       "      <td>0.208114</td>\n",
       "      <td>0.594635</td>\n",
       "      <td>0.513376</td>\n",
       "      <td>0.650931</td>\n",
       "      <td>0.396491</td>\n",
       "      <td>0.581620</td>\n",
       "    </tr>\n",
       "  </tbody>\n",
       "</table>\n",
       "<p>100 rows × 6 columns</p>\n",
       "</div>"
      ],
      "text/plain": [
       "     eyeSize  eyePosition  eyeDepth  eyeRotation  eyeDistance  eyeSquint\n",
       "0   0.353146     0.638937  0.621232     0.490727     0.414744   0.458249\n",
       "1   0.327979     0.398876  0.750656     0.627314     0.440319   0.582535\n",
       "2   0.548795     0.492176  0.380265     0.638749     0.307966   0.591691\n",
       "3   0.550444     0.490864  0.545807     0.357172     0.397181   0.403463\n",
       "4   0.639292     0.585837  0.553815     0.368740     0.499729   0.586210\n",
       "..       ...          ...       ...          ...          ...        ...\n",
       "95  0.705320     0.514965  0.420613     0.383593     0.281383   0.612815\n",
       "96  0.795361     0.371456  0.723106     0.658041     0.552763   0.610311\n",
       "97  0.477682     0.686095  0.610237     0.367162     0.566539   0.466785\n",
       "98  0.441157     0.349790  0.536356     0.435280     0.603896   0.493593\n",
       "99  0.208114     0.594635  0.513376     0.650931     0.396491   0.581620\n",
       "\n",
       "[100 rows x 6 columns]"
      ]
     },
     "execution_count": 13,
     "metadata": {},
     "output_type": "execute_result"
    }
   ],
   "source": [
    "prediction = pd.DataFrame(y_pred)\n",
    "prediction.columns = ['eyeSize','eyePosition', 'eyeDepth','eyeRotation','eyeDistance','eyeSquint']\n",
    "prediction"
   ]
  },
  {
   "cell_type": "code",
   "execution_count": 14,
   "id": "230a8b0a",
   "metadata": {
    "scrolled": false
   },
   "outputs": [
    {
     "data": {
      "text/html": [
       "<div>\n",
       "<style scoped>\n",
       "    .dataframe tbody tr th:only-of-type {\n",
       "        vertical-align: middle;\n",
       "    }\n",
       "\n",
       "    .dataframe tbody tr th {\n",
       "        vertical-align: top;\n",
       "    }\n",
       "\n",
       "    .dataframe thead th {\n",
       "        text-align: right;\n",
       "    }\n",
       "</style>\n",
       "<table border=\"1\" class=\"dataframe\">\n",
       "  <thead>\n",
       "    <tr style=\"text-align: right;\">\n",
       "      <th></th>\n",
       "      <th>eyeSize</th>\n",
       "      <th>eyePosition</th>\n",
       "      <th>eyeDepth</th>\n",
       "      <th>eyeRotation</th>\n",
       "      <th>eyeDistance</th>\n",
       "      <th>eyeSquint</th>\n",
       "    </tr>\n",
       "  </thead>\n",
       "  <tbody>\n",
       "    <tr>\n",
       "      <th>0</th>\n",
       "      <td>0.439447</td>\n",
       "      <td>0.758647</td>\n",
       "      <td>0.370812</td>\n",
       "      <td>0.506665</td>\n",
       "      <td>0.462228</td>\n",
       "      <td>0.754029</td>\n",
       "    </tr>\n",
       "    <tr>\n",
       "      <th>1</th>\n",
       "      <td>0.235531</td>\n",
       "      <td>0.306835</td>\n",
       "      <td>0.310255</td>\n",
       "      <td>0.799276</td>\n",
       "      <td>0.280601</td>\n",
       "      <td>0.490777</td>\n",
       "    </tr>\n",
       "    <tr>\n",
       "      <th>2</th>\n",
       "      <td>0.728159</td>\n",
       "      <td>0.711342</td>\n",
       "      <td>0.489252</td>\n",
       "      <td>0.768084</td>\n",
       "      <td>0.467365</td>\n",
       "      <td>0.736168</td>\n",
       "    </tr>\n",
       "    <tr>\n",
       "      <th>3</th>\n",
       "      <td>0.647029</td>\n",
       "      <td>0.614792</td>\n",
       "      <td>0.624584</td>\n",
       "      <td>0.250405</td>\n",
       "      <td>0.448013</td>\n",
       "      <td>0.523622</td>\n",
       "    </tr>\n",
       "    <tr>\n",
       "      <th>4</th>\n",
       "      <td>0.763835</td>\n",
       "      <td>0.662353</td>\n",
       "      <td>0.226584</td>\n",
       "      <td>0.220240</td>\n",
       "      <td>0.569739</td>\n",
       "      <td>0.638667</td>\n",
       "    </tr>\n",
       "    <tr>\n",
       "      <th>...</th>\n",
       "      <td>...</td>\n",
       "      <td>...</td>\n",
       "      <td>...</td>\n",
       "      <td>...</td>\n",
       "      <td>...</td>\n",
       "      <td>...</td>\n",
       "    </tr>\n",
       "    <tr>\n",
       "      <th>95</th>\n",
       "      <td>0.747057</td>\n",
       "      <td>0.606980</td>\n",
       "      <td>0.688712</td>\n",
       "      <td>0.295096</td>\n",
       "      <td>0.276458</td>\n",
       "      <td>0.663174</td>\n",
       "    </tr>\n",
       "    <tr>\n",
       "      <th>96</th>\n",
       "      <td>0.757262</td>\n",
       "      <td>0.391804</td>\n",
       "      <td>0.574604</td>\n",
       "      <td>0.728450</td>\n",
       "      <td>0.522360</td>\n",
       "      <td>0.746065</td>\n",
       "    </tr>\n",
       "    <tr>\n",
       "      <th>97</th>\n",
       "      <td>0.345698</td>\n",
       "      <td>0.455230</td>\n",
       "      <td>0.572820</td>\n",
       "      <td>0.659950</td>\n",
       "      <td>0.482190</td>\n",
       "      <td>0.345089</td>\n",
       "    </tr>\n",
       "    <tr>\n",
       "      <th>98</th>\n",
       "      <td>0.334341</td>\n",
       "      <td>0.318302</td>\n",
       "      <td>0.478478</td>\n",
       "      <td>0.285375</td>\n",
       "      <td>0.471584</td>\n",
       "      <td>0.323365</td>\n",
       "    </tr>\n",
       "    <tr>\n",
       "      <th>99</th>\n",
       "      <td>0.266747</td>\n",
       "      <td>0.790542</td>\n",
       "      <td>0.611377</td>\n",
       "      <td>0.765717</td>\n",
       "      <td>0.445333</td>\n",
       "      <td>0.676932</td>\n",
       "    </tr>\n",
       "  </tbody>\n",
       "</table>\n",
       "<p>100 rows × 6 columns</p>\n",
       "</div>"
      ],
      "text/plain": [
       "     eyeSize  eyePosition  eyeDepth  eyeRotation  eyeDistance  eyeSquint\n",
       "0   0.439447     0.758647  0.370812     0.506665     0.462228   0.754029\n",
       "1   0.235531     0.306835  0.310255     0.799276     0.280601   0.490777\n",
       "2   0.728159     0.711342  0.489252     0.768084     0.467365   0.736168\n",
       "3   0.647029     0.614792  0.624584     0.250405     0.448013   0.523622\n",
       "4   0.763835     0.662353  0.226584     0.220240     0.569739   0.638667\n",
       "..       ...          ...       ...          ...          ...        ...\n",
       "95  0.747057     0.606980  0.688712     0.295096     0.276458   0.663174\n",
       "96  0.757262     0.391804  0.574604     0.728450     0.522360   0.746065\n",
       "97  0.345698     0.455230  0.572820     0.659950     0.482190   0.345089\n",
       "98  0.334341     0.318302  0.478478     0.285375     0.471584   0.323365\n",
       "99  0.266747     0.790542  0.611377     0.765717     0.445333   0.676932\n",
       "\n",
       "[100 rows x 6 columns]"
      ]
     },
     "execution_count": 14,
     "metadata": {},
     "output_type": "execute_result"
    }
   ],
   "source": [
    "test_y"
   ]
  },
  {
   "cell_type": "code",
   "execution_count": 15,
   "id": "6768c15b",
   "metadata": {},
   "outputs": [
    {
     "name": "stdout",
     "output_type": "stream",
     "text": [
      "0.14232892317052015\n"
     ]
    }
   ],
   "source": [
    "from sklearn.metrics import mean_squared_error\n",
    "rmse = mean_squared_error(test_y, prediction)**0.5\n",
    "print(rmse)"
   ]
  }
 ],
 "metadata": {
  "kernelspec": {
   "display_name": "Python 3 (ipykernel)",
   "language": "python",
   "name": "python3"
  },
  "language_info": {
   "codemirror_mode": {
    "name": "ipython",
    "version": 3
   },
   "file_extension": ".py",
   "mimetype": "text/x-python",
   "name": "python",
   "nbconvert_exporter": "python",
   "pygments_lexer": "ipython3",
   "version": "3.10.9"
  }
 },
 "nbformat": 4,
 "nbformat_minor": 5
}

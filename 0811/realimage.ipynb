{
 "cells": [
  {
   "cell_type": "code",
   "execution_count": 1,
   "id": "236e3eb5",
   "metadata": {},
   "outputs": [],
   "source": [
    "import joblib\n",
    "import numpy as np\n",
    "import pandas as pd\n",
    "import tensorflow as tf\n",
    "from tensorflow import keras\n",
    "from keras import models\n",
    "\n",
    "from prediction import *\n",
    "from segment import *"
   ]
  },
  {
   "cell_type": "code",
   "execution_count": null,
   "id": "79ad32ec",
   "metadata": {},
   "outputs": [],
   "source": []
  },
  {
   "cell_type": "code",
   "execution_count": 2,
   "id": "a6b56d93",
   "metadata": {},
   "outputs": [],
   "source": [
    "path = './DataSet/Test/img/0.png'"
   ]
  },
  {
   "cell_type": "code",
   "execution_count": 3,
   "id": "57f91401",
   "metadata": {},
   "outputs": [],
   "source": [
    "brow = eyebrow(path)\n",
    "# eyebrow_test = []\n",
    "# eyebrow_test.append(brow)\n",
    "# eyebrow_test = np.array(eyebrow_test) / 255.0"
   ]
  },
  {
   "cell_type": "code",
   "execution_count": 11,
   "id": "cc82f1e4",
   "metadata": {},
   "outputs": [],
   "source": [
    "# test = hair_seg(path)\n",
    "# test_array = testimg(64, test)\n",
    "# hair_test = []\n",
    "# hair_test.append(test_array)\n",
    "# hair_test = np.array(hair_test) / 255.0\n",
    "\n",
    "hair_test = hair_seg(path)\n",
    "hair = testimg(64, hair_test)"
   ]
  },
  {
   "cell_type": "code",
   "execution_count": 5,
   "id": "a89a8da7",
   "metadata": {},
   "outputs": [],
   "source": [
    "pos, eyes, nose, mouth, jaws = testlandmark(path)"
   ]
  },
  {
   "cell_type": "code",
   "execution_count": 6,
   "id": "66d0c816",
   "metadata": {},
   "outputs": [],
   "source": [
    "model_eye = joblib.load('./model/eyes.pkl')\n",
    "model_nose = joblib.load('./model/nose.pkl')\n",
    "model_mouth = joblib.load('./model/mouth.pkl')\n",
    "model_jaws = joblib.load('./model/jaws.pkl')\n",
    "model_pos = joblib.load('./model/pos.pkl')\n",
    "\n",
    "hair_female = models.load_model('./model/female_hair.h5')\n",
    "hair_male = models.load_model('./model/male_hair.h5')\n",
    "eye_brow = models.load_model('./model/eyebrow_classify.h5')"
   ]
  },
  {
   "cell_type": "code",
   "execution_count": null,
   "id": "be228e49",
   "metadata": {},
   "outputs": [],
   "source": []
  },
  {
   "cell_type": "code",
   "execution_count": 7,
   "id": "fb10222f",
   "metadata": {
    "scrolled": true
   },
   "outputs": [],
   "source": [
    "# EYES\n",
    "pred_eye = model_eye.predict(eyes)\n",
    "df_e = pd.DataFrame(pred_eye)\n",
    "df_e.columns =['eyeSize','eyeDepth','eyeRotation','eyeDistance']\n",
    "\n",
    "# NOSE\n",
    "pred_nose = model_nose.predict(nose)\n",
    "df_n = pd.DataFrame(pred_nose)\n",
    "df_n.columns =['noseSize','noseFlatten','nosePronounced', 'noseWidth', 'noseBridge','noseCurve','noseInclination']\n",
    "\n",
    "# MOUTH\n",
    "pred_mouth = model_mouth.predict(mouth)\n",
    "df_m = pd.DataFrame(pred_mouth)\n",
    "df_m.columns =['mouthSize','mouthPronounced','lipsSize']\n",
    "\n",
    "# JAWS\n",
    "pred_jaws = model_jaws.predict(jaws)\n",
    "df_j = pd.DataFrame(pred_mouth)\n",
    "df_j.columns = ['jawsPosition', 'jawsSize', 'chinSize']\n",
    "\n",
    "# POSITION\n",
    "pred_pos = model_pos.predict(pos)\n",
    "df_p = pd.DataFrame(pred_pos)\n",
    "df_p.columns = ['eyePosition', 'nosePosition','mouthPosition','chinPosition']"
   ]
  },
  {
   "cell_type": "code",
   "execution_count": 8,
   "id": "44b4cc14",
   "metadata": {},
   "outputs": [],
   "source": [
    "result = pd.concat([df_e, df_n, df_m, df_j, df_p], axis=1)\n",
    "result.to_csv('parameter_result.csv', index=False)"
   ]
  },
  {
   "cell_type": "code",
   "execution_count": 12,
   "id": "9c3aad3d",
   "metadata": {},
   "outputs": [
    {
     "name": "stdout",
     "output_type": "stream",
     "text": [
      "1/1 [==============================] - 0s 48ms/step\n",
      "0\n"
     ]
    }
   ],
   "source": [
    "# Hair\n",
    "\n",
    "# ## 여자일 경우\n",
    "# pred_hair = hair_female.predict(hair)\n",
    "\n",
    "## 남자일 경우\n",
    "pred_hair = hair_male.predict(hair)\n",
    "\n",
    "pred_hair = np.argmax(pred_hair)\n",
    "print(pred_hair)"
   ]
  },
  {
   "cell_type": "code",
   "execution_count": 10,
   "id": "ab1ddcac",
   "metadata": {
    "scrolled": true
   },
   "outputs": [
    {
     "name": "stdout",
     "output_type": "stream",
     "text": [
      "1/1 [==============================] - 0s 59ms/step\n",
      "1\n"
     ]
    }
   ],
   "source": [
    "pred_eyebrow = eye_brow.predict(brow)\n",
    "pred_eyebrow = np.argmax(pred_eyebrow)\n",
    "print(pred_eyebrow)"
   ]
  }
 ],
 "metadata": {
  "kernelspec": {
   "display_name": "Python 3 (ipykernel)",
   "language": "python",
   "name": "python3"
  },
  "language_info": {
   "codemirror_mode": {
    "name": "ipython",
    "version": 3
   },
   "file_extension": ".py",
   "mimetype": "text/x-python",
   "name": "python",
   "nbconvert_exporter": "python",
   "pygments_lexer": "ipython3",
   "version": "3.10.9"
  }
 },
 "nbformat": 4,
 "nbformat_minor": 5
}

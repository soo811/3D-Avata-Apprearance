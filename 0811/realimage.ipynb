{
 "cells": [
  {
   "cell_type": "code",
   "execution_count": 2,
   "id": "236e3eb5",
   "metadata": {},
   "outputs": [],
   "source": [
    "import joblib\n",
    "import numpy as np\n",
    "import pandas as pd\n",
    "import tensorflow as tf\n",
    "from tensorflow import keras\n",
    "from keras import models\n",
    "\n",
    "from prediction import *\n",
    "from segment import *"
   ]
  },
  {
   "cell_type": "code",
   "execution_count": null,
   "id": "79ad32ec",
   "metadata": {},
   "outputs": [],
   "source": []
  },
  {
   "cell_type": "code",
   "execution_count": 22,
   "id": "a6b56d93",
   "metadata": {},
   "outputs": [],
   "source": [
    "path = './DataSet2/Test/img/0.png'"
   ]
  },
  {
   "cell_type": "code",
   "execution_count": 23,
   "id": "57f91401",
   "metadata": {},
   "outputs": [],
   "source": [
    "brow = eyebrow(path)"
   ]
  },
  {
   "cell_type": "code",
   "execution_count": 24,
   "id": "cc82f1e4",
   "metadata": {},
   "outputs": [],
   "source": [
    "hair_test = hair_seg(path)\n",
    "hair = testimg(64, hair_test)"
   ]
  },
  {
   "cell_type": "code",
   "execution_count": 25,
   "id": "a89a8da7",
   "metadata": {},
   "outputs": [],
   "source": [
    "pos, eyes, nose, mouth, jaws = testlandmark(path)"
   ]
  },
  {
   "cell_type": "code",
   "execution_count": 26,
   "id": "66d0c816",
   "metadata": {},
   "outputs": [],
   "source": [
    "model_eye = joblib.load('./model/eyes.pkl')\n",
    "model_nose = joblib.load('./model/nose.pkl')\n",
    "model_mouth = joblib.load('./model/mouth.pkl')\n",
    "model_jaws = joblib.load('./model/jaws.pkl')\n",
    "model_pos = joblib.load('./model/pos.pkl')\n",
    "\n",
    "hair_female = models.load_model('./model/female_hair.h5')\n",
    "hair_male = models.load_model('./model/male_hair.h5')\n",
    "eye_brow = models.load_model('./model/eyebrow_classify.h5')"
   ]
  },
  {
   "cell_type": "code",
   "execution_count": 27,
   "id": "fb10222f",
   "metadata": {
    "scrolled": true
   },
   "outputs": [],
   "source": [
    "# EYES\n",
    "pred_eye = model_eye.predict(eyes)\n",
    "df_e = pd.DataFrame(pred_eye)\n",
    "df_e.columns =['eyeSize','eyeDepth','eyeRotation','eyeDistance']\n",
    "\n",
    "# NOSE\n",
    "pred_nose = model_nose.predict(nose)\n",
    "df_n = pd.DataFrame(pred_nose)\n",
    "df_n.columns =['noseSize','noseFlatten', 'noseWidth', 'noseBridge','noseCurve','noseInclination']\n",
    "\n",
    "# MOUTH\n",
    "pred_mouth = model_mouth.predict(mouth)\n",
    "df_m = pd.DataFrame(pred_mouth)\n",
    "df_m.columns =['mouthSize','lipsSize']\n",
    "\n",
    "# JAWS\n",
    "pred_jaws = model_jaws.predict(jaws)\n",
    "df_j = pd.DataFrame(pred_jaws)\n",
    "df_j.columns = ['jawsPosition', 'jawsSize', 'chinSize']\n",
    "\n",
    "# POSITION\n",
    "pred_pos = model_pos.predict(pos)\n",
    "df_p = pd.DataFrame(pred_pos)\n",
    "df_p.columns = ['eyePosition', 'nosePosition','mouthPosition','chinPosition']"
   ]
  },
  {
   "cell_type": "code",
   "execution_count": 31,
   "id": "44b4cc14",
   "metadata": {},
   "outputs": [],
   "source": [
    "result = pd.concat([df_e, df_n, df_m, df_j, df_p], axis=1)\n",
    "result.to_csv('parameter_result.csv', index=False)"
   ]
  },
  {
   "cell_type": "code",
   "execution_count": 29,
   "id": "9c3aad3d",
   "metadata": {},
   "outputs": [
    {
     "name": "stdout",
     "output_type": "stream",
     "text": [
      "1/1 [==============================] - 0s 45ms/step\n",
      "hair0\n"
     ]
    }
   ],
   "source": [
    "# HAIR\n",
    "gender = 'M'\n",
    "\n",
    "female = {0:'hair0', 1:'hair1', 2:'hair10', 3: 'hair11', 4:'hair12', 5:'hair2', 6:'hair3',\n",
    "                7:'hair4', 8:'hair5', 9:'hair6', 10:'hair7', 11:'hair8', 12:'hair9'}\n",
    "male = {0:'hair0', 1:'hair1', 2:'hair2', 3: 'hair3', 4:'hair4', 5:'hair5', 6:'hair6'}\n",
    "\n",
    "if gender == \"F\":\n",
    "    pred_hair = hair_female.predict(hair)\n",
    "    pred_hair = np.argmax(pred_hair)\n",
    "    print(female[pred_hair])\n",
    "else:\n",
    "    pred_hair = hair_male.predict(hair)\n",
    "    pred_hair = np.argmax(pred_hair)\n",
    "    print(male[pred_hair])"
   ]
  },
  {
   "cell_type": "code",
   "execution_count": 30,
   "id": "ab1ddcac",
   "metadata": {
    "scrolled": false
   },
   "outputs": [
    {
     "name": "stdout",
     "output_type": "stream",
     "text": [
      "1/1 [==============================] - 0s 45ms/step\n",
      "brow1\n"
     ]
    }
   ],
   "source": [
    "# EYEBROW\n",
    "eyebrow_l = {0:'brow0', 1:'brow1', 2:'brow2', 3:'brow3'}\n",
    "pred_eyebrow = eye_brow.predict(brow)\n",
    "pred_eyebrow = np.argmax(pred_eyebrow)\n",
    "print(eyebrow_l[pred_eyebrow])"
   ]
  },
  {
   "cell_type": "code",
   "execution_count": 36,
   "id": "db34a82d",
   "metadata": {},
   "outputs": [
    {
     "data": {
      "text/html": [
       "<div>\n",
       "<style scoped>\n",
       "    .dataframe tbody tr th:only-of-type {\n",
       "        vertical-align: middle;\n",
       "    }\n",
       "\n",
       "    .dataframe tbody tr th {\n",
       "        vertical-align: top;\n",
       "    }\n",
       "\n",
       "    .dataframe thead th {\n",
       "        text-align: right;\n",
       "    }\n",
       "</style>\n",
       "<table border=\"1\" class=\"dataframe\">\n",
       "  <thead>\n",
       "    <tr style=\"text-align: right;\">\n",
       "      <th></th>\n",
       "      <th>eyePosition</th>\n",
       "      <th>nosePosition</th>\n",
       "      <th>mouthPosition</th>\n",
       "      <th>chinPosition</th>\n",
       "    </tr>\n",
       "  </thead>\n",
       "  <tbody>\n",
       "    <tr>\n",
       "      <th>0</th>\n",
       "      <td>10.271471</td>\n",
       "      <td>9.147125</td>\n",
       "      <td>13.194939</td>\n",
       "      <td>26.362906</td>\n",
       "    </tr>\n",
       "  </tbody>\n",
       "</table>\n",
       "</div>"
      ],
      "text/plain": [
       "   eyePosition  nosePosition  mouthPosition  chinPosition\n",
       "0    10.271471      9.147125      13.194939     26.362906"
      ]
     },
     "execution_count": 36,
     "metadata": {},
     "output_type": "execute_result"
    }
   ],
   "source": [
    "df_p"
   ]
  }
 ],
 "metadata": {
  "kernelspec": {
   "display_name": "Python 3 (ipykernel)",
   "language": "python",
   "name": "python3"
  },
  "language_info": {
   "codemirror_mode": {
    "name": "ipython",
    "version": 3
   },
   "file_extension": ".py",
   "mimetype": "text/x-python",
   "name": "python",
   "nbconvert_exporter": "python",
   "pygments_lexer": "ipython3",
   "version": "3.10.9"
  }
 },
 "nbformat": 4,
 "nbformat_minor": 5
}

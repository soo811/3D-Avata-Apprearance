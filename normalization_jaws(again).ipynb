{
 "cells": [
  {
   "cell_type": "code",
   "execution_count": 17,
   "id": "c0ae0ad5",
   "metadata": {},
   "outputs": [],
   "source": [
    "import cv2\n",
    "import numpy as np\n",
    "import dlib\n",
    "import matplotlib.pyplot as plt\n",
    "import pandas as pd"
   ]
  },
  {
   "cell_type": "code",
   "execution_count": 18,
   "id": "82db0653",
   "metadata": {
    "scrolled": true
   },
   "outputs": [],
   "source": [
    "for i in range(100):\n",
    "    face_path = './dataset/train/img/%s.png'%i\n",
    "    face_origin = cv2.imread(face_path)\n",
    "    face_copy = face_origin.copy()\n",
    "    face_rgb = cv2.cvtColor(face_copy, cv2.COLOR_BGR2RGB)\n",
    "    \n",
    "    detector = dlib.get_frontal_face_detector()\n",
    "    dlib_rects = detector(face_rgb, 1)\n",
    "    \n",
    "    img_how_rgb = cv2.cvtColor(face_copy, cv2.COLOR_BGR2RGB)\n",
    "    \n",
    "    predictor = dlib.shape_predictor(\"shape_predictor_68_face_landmarks.dat\")\n",
    "    \n",
    "    globals()['img'+str(i)] = []\n",
    "    \n",
    "    for dlib_rect in dlib_rects:\n",
    "        points = predictor(face_rgb, dlib_rect)\n",
    "        list_points = list(map(lambda p: [p.x, p.y], points.parts()))\n",
    "        globals()['img'+str(i)].append(list_points)\n",
    "        globals()['img'+str(i)] = np.array(globals()['img'+str(i)])"
   ]
  },
  {
   "cell_type": "code",
   "execution_count": 19,
   "id": "021d9d4b",
   "metadata": {
    "scrolled": true
   },
   "outputs": [
    {
     "data": {
      "text/plain": [
       "(1080, 800, 3)"
      ]
     },
     "execution_count": 19,
     "metadata": {},
     "output_type": "execute_result"
    }
   ],
   "source": [
    "face_origin.shape"
   ]
  },
  {
   "cell_type": "code",
   "execution_count": 20,
   "id": "1588514e",
   "metadata": {},
   "outputs": [],
   "source": [
    "for i in range(100):\n",
    "    land = np.zeros((68,2))\n",
    "    \n",
    "    for j in range(68):\n",
    "        land[j][0] = globals()['img'+str(i)][0][j][0]\n",
    "        land[j][1] = globals()['img'+str(i)][0][j][1]\n",
    "        \n",
    "    x = land[:,0]\n",
    "    y = land[:,1]\n",
    "    \n",
    "    x -= ((min(x) + max(x)) / 2)\n",
    "    y -= ((min(y) + min(y)) / 2)\n",
    "    \n",
    "    norm_x = x / (max(y)-min(y))\n",
    "    norm_y = y / (max(y)-min(y))\n",
    "    \n",
    "    globals()['norm'+str(i)] = np.column_stack((norm_x, norm_y))"
   ]
  },
  {
   "cell_type": "code",
   "execution_count": 21,
   "id": "6a12305e",
   "metadata": {},
   "outputs": [],
   "source": [
    "# xyxyxyxyxyxyxy(0~16)\n",
    "for i in range(100):\n",
    "    globals()['norm'+str(i)] = globals()['norm'+str(i)][:17]\n",
    "    globals()['norm'+str(i)] = globals()['norm'+str(i)].flatten()"
   ]
  },
  {
   "cell_type": "code",
   "execution_count": 22,
   "id": "85a6c2f7",
   "metadata": {},
   "outputs": [],
   "source": [
    "train_x = np.zeros((100, len(norm0)))\n",
    "for i in range(100):\n",
    "    for j in range(len(norm0)):\n",
    "        train_x[i][j] = globals()['norm'+str(i)][j]   "
   ]
  },
  {
   "cell_type": "code",
   "execution_count": null,
   "id": "f3583ac9",
   "metadata": {},
   "outputs": [],
   "source": []
  },
  {
   "cell_type": "code",
   "execution_count": 23,
   "id": "463bfc13",
   "metadata": {},
   "outputs": [],
   "source": [
    "for i in range(100):\n",
    "    face_path = './dataset/test/img/%s.png'%i\n",
    "    face_origin = cv2.imread(face_path)\n",
    "    face_copy = face_origin.copy()\n",
    "    face_rgb = cv2.cvtColor(face_copy, cv2.COLOR_BGR2RGB)\n",
    "    \n",
    "    detector = dlib.get_frontal_face_detector()\n",
    "    dlib_rects = detector(face_rgb, 1)\n",
    "    \n",
    "    img_how_rgb = cv2.cvtColor(face_copy, cv2.COLOR_BGR2RGB)\n",
    "    \n",
    "    predictor = dlib.shape_predictor(\"shape_predictor_68_face_landmarks.dat\")\n",
    "    \n",
    "    globals()['img'+str(i)] = []\n",
    "    \n",
    "    for dlib_rect in dlib_rects:\n",
    "        points = predictor(face_rgb, dlib_rect)\n",
    "        list_points = list(map(lambda p: [p.x, p.y], points.parts()))\n",
    "        globals()['img'+str(i)].append(list_points)\n",
    "        globals()['img'+str(i)] = np.array(globals()['img'+str(i)])"
   ]
  },
  {
   "cell_type": "code",
   "execution_count": 24,
   "id": "b49b8320",
   "metadata": {},
   "outputs": [],
   "source": [
    "for i in range(100):\n",
    "    land = np.zeros((68,2))\n",
    "    \n",
    "    for j in range(68):\n",
    "        land[j][0] = globals()['img'+str(i)][0][j][0]\n",
    "        land[j][1] = globals()['img'+str(i)][0][j][1]\n",
    "        \n",
    "    x = land[:,0]\n",
    "    y = land[:,1]\n",
    "    \n",
    "    x -= ((min(x) + max(x)) / 2)\n",
    "    y -= ((min(y) + min(y)) / 2)\n",
    "    \n",
    "    norm_x = x / (max(y)-min(y))\n",
    "    norm_y = y / (max(y)-min(y))\n",
    "    \n",
    "    globals()['norm'+str(i)] = np.column_stack((norm_x, norm_y))"
   ]
  },
  {
   "cell_type": "code",
   "execution_count": 25,
   "id": "7d100baf",
   "metadata": {},
   "outputs": [],
   "source": [
    "# xyxyxyxyxyxyxy(0~16)\n",
    "for i in range(100):\n",
    "    globals()['norm'+str(i)] = globals()['norm'+str(i)][:17]\n",
    "    globals()['norm'+str(i)] = globals()['norm'+str(i)].flatten()"
   ]
  },
  {
   "cell_type": "code",
   "execution_count": 26,
   "id": "0eaa80db",
   "metadata": {},
   "outputs": [],
   "source": [
    "test_x = np.zeros((100, len(norm0)))\n",
    "for i in range(100):\n",
    "    for j in range(len(norm0)):\n",
    "        test_x[i][j] = globals()['norm'+str(i)][j]   "
   ]
  },
  {
   "cell_type": "code",
   "execution_count": null,
   "id": "e5cdd90d",
   "metadata": {},
   "outputs": [],
   "source": []
  },
  {
   "cell_type": "code",
   "execution_count": 27,
   "id": "43a59475",
   "metadata": {},
   "outputs": [],
   "source": [
    "train_y = pd.read_csv('./dataset/train/train.csv')\n",
    "train_y = train_y.iloc[:, 5:9]\n",
    "test_y = pd.read_csv('./dataset/test/test.csv')\n",
    "test_y = test_y.iloc[:, 5:9]"
   ]
  },
  {
   "cell_type": "code",
   "execution_count": null,
   "id": "b377be63",
   "metadata": {},
   "outputs": [],
   "source": []
  },
  {
   "cell_type": "code",
   "execution_count": 28,
   "id": "470daed0",
   "metadata": {},
   "outputs": [
    {
     "data": {
      "text/plain": [
       "0.08674440739312117"
      ]
     },
     "execution_count": 28,
     "metadata": {},
     "output_type": "execute_result"
    }
   ],
   "source": [
    "from sklearn.linear_model import LinearRegression\n",
    "from sklearn.metrics import mean_absolute_error\n",
    "\n",
    "model = LinearRegression()\n",
    "model.fit(train_x, train_y)\n",
    "y_pred = model.predict(train_x)\n",
    "mae = mean_absolute_error(train_y, y_pred)\n",
    "\n",
    "mae"
   ]
  },
  {
   "cell_type": "code",
   "execution_count": 29,
   "id": "2c003d3d",
   "metadata": {},
   "outputs": [
    {
     "data": {
      "text/plain": [
       "0.10196360731855725"
      ]
     },
     "execution_count": 29,
     "metadata": {},
     "output_type": "execute_result"
    }
   ],
   "source": [
    "y_pred = model.predict(test_x)\n",
    "mae = mean_absolute_error(test_y, y_pred)\n",
    "\n",
    "mae"
   ]
  },
  {
   "cell_type": "code",
   "execution_count": 30,
   "id": "a9a1f955",
   "metadata": {
    "scrolled": true
   },
   "outputs": [
    {
     "data": {
      "text/plain": [
       "(array([-18.53055342,  -4.44735297, -25.80645969,  -0.70365695]),\n",
       " array([[-4.83929603e+00, -7.59286559e-01, -7.76957250e+00,\n",
       "         -7.66498787e+00,  1.46694373e+01,  1.20433996e+01,\n",
       "         -1.77786622e+01,  5.92223687e+00, -7.56844874e+00,\n",
       "          8.98899054e-01,  1.85895685e+01, -2.69147540e+01,\n",
       "         -4.18719432e-01,  6.99245001e+00, -1.01819737e+01,\n",
       "          9.74066016e+00,  1.36600312e+01,  8.88178420e-15,\n",
       "         -2.15901046e+00,  1.49776833e+01,  7.48279868e+00,\n",
       "         -7.43557346e+00, -1.49124603e+01,  2.32222345e+01,\n",
       "          7.17728794e-01, -1.43769014e+01,  1.25721171e+01,\n",
       "         -1.05797448e+01, -1.20221762e+01,  5.39420710e+00,\n",
       "         -4.54440051e+00,  1.18329922e+01,  4.83929603e+00,\n",
       "         -6.33775415e+00],\n",
       "        [ 1.03853285e+00, -1.56990835e+00,  4.51817354e+00,\n",
       "         -8.44928853e+00,  8.25233552e+00, -4.92196401e+00,\n",
       "         -3.61740820e+00,  2.08435290e+01, -1.38655286e+01,\n",
       "          1.17861301e+01,  3.37803866e+00, -1.41137224e+01,\n",
       "         -1.48628889e-01,  4.89622519e+00,  3.91835730e+00,\n",
       "         -8.98693828e+00, -8.57737510e+00,  5.32907052e-15,\n",
       "          4.46081225e+00,  9.39304711e+00,  8.84992864e+00,\n",
       "         -3.72141496e+00, -2.09816544e+01, -1.43199796e+00,\n",
       "          3.52021431e+00,  4.41609924e+00,  1.36513550e+01,\n",
       "         -2.24061683e+00, -1.00238561e+01, -2.36256937e+00,\n",
       "          7.78909347e+00, -5.06489421e+00, -1.03853285e+00,\n",
       "          6.25950650e+00],\n",
       "        [-1.27820402e+00,  4.01198896e-01, -3.43333389e+00,\n",
       "         -4.90503327e+00,  3.73325784e+00,  6.77178586e+00,\n",
       "         -7.25373939e+00, -5.78802757e-01, -8.30764215e-01,\n",
       "         -1.54812528e+01, -2.18524140e+00,  5.62535944e+00,\n",
       "          1.35011080e+01,  7.98396071e+00, -3.85305565e+00,\n",
       "         -8.54911277e-01, -2.67609480e+00,  4.44089210e-16,\n",
       "         -6.08470921e+00,  8.17154016e+00,  1.17918543e+01,\n",
       "          8.01610228e+00, -4.64059017e+00,  1.63686595e+01,\n",
       "          5.26842321e+00, -1.25973204e+01, -2.09151759e+00,\n",
       "         -6.57107100e+00, -4.90740913e+00,  4.08279339e+00,\n",
       "          2.36332740e+00,  1.71150639e+01,  1.27820402e+00,\n",
       "         -9.77907668e+00],\n",
       "        [ 1.35847478e+00,  7.27603662e-01, -3.44462051e+00,\n",
       "         -4.69987459e-01,  4.34489837e-01,  6.20319755e+00,\n",
       "         -3.18210733e+00,  1.54535946e+00,  1.53883326e+01,\n",
       "          3.20777111e+00,  2.89032585e+00, -6.68150633e+00,\n",
       "         -2.41015818e+01, -6.59349407e-01,  6.74402444e+00,\n",
       "          7.61353626e+00, -1.09296875e+01,  1.77635684e-15,\n",
       "          7.32234979e+00, -9.49618514e+00,  4.31336605e+00,\n",
       "          3.05412399e+00, -4.37713121e+00,  5.59287895e+00,\n",
       "          6.67823051e+00, -6.65321481e+00, -1.24852151e+01,\n",
       "          5.14088721e-01,  1.06556527e+01,  1.04878032e+01,\n",
       "         -2.59599622e+00, -1.82019293e+01, -1.35847478e+00,\n",
       "          4.59884992e+00]]))"
      ]
     },
     "execution_count": 30,
     "metadata": {},
     "output_type": "execute_result"
    }
   ],
   "source": [
    "model.intercept_, model.coef_"
   ]
  },
  {
   "cell_type": "code",
   "execution_count": 20,
   "id": "39c02243",
   "metadata": {
    "scrolled": true
   },
   "outputs": [],
   "source": [
    "# pd.set_option('display.max_rows', None)"
   ]
  },
  {
   "cell_type": "code",
   "execution_count": 31,
   "id": "59bb2518",
   "metadata": {
    "scrolled": false
   },
   "outputs": [
    {
     "data": {
      "text/html": [
       "<div>\n",
       "<style scoped>\n",
       "    .dataframe tbody tr th:only-of-type {\n",
       "        vertical-align: middle;\n",
       "    }\n",
       "\n",
       "    .dataframe tbody tr th {\n",
       "        vertical-align: top;\n",
       "    }\n",
       "\n",
       "    .dataframe thead th {\n",
       "        text-align: right;\n",
       "    }\n",
       "</style>\n",
       "<table border=\"1\" class=\"dataframe\">\n",
       "  <thead>\n",
       "    <tr style=\"text-align: right;\">\n",
       "      <th></th>\n",
       "      <th>jawsPosition</th>\n",
       "      <th>jawsSize</th>\n",
       "      <th>chinPosition</th>\n",
       "      <th>chinSize</th>\n",
       "    </tr>\n",
       "  </thead>\n",
       "  <tbody>\n",
       "    <tr>\n",
       "      <th>0</th>\n",
       "      <td>0.303808</td>\n",
       "      <td>0.534139</td>\n",
       "      <td>0.384854</td>\n",
       "      <td>0.339650</td>\n",
       "    </tr>\n",
       "    <tr>\n",
       "      <th>1</th>\n",
       "      <td>0.311313</td>\n",
       "      <td>0.745905</td>\n",
       "      <td>0.628422</td>\n",
       "      <td>0.617734</td>\n",
       "    </tr>\n",
       "    <tr>\n",
       "      <th>2</th>\n",
       "      <td>0.393818</td>\n",
       "      <td>0.607823</td>\n",
       "      <td>0.450802</td>\n",
       "      <td>0.515613</td>\n",
       "    </tr>\n",
       "    <tr>\n",
       "      <th>3</th>\n",
       "      <td>0.438563</td>\n",
       "      <td>0.607859</td>\n",
       "      <td>0.464873</td>\n",
       "      <td>0.665516</td>\n",
       "    </tr>\n",
       "    <tr>\n",
       "      <th>4</th>\n",
       "      <td>0.279202</td>\n",
       "      <td>0.452621</td>\n",
       "      <td>0.474206</td>\n",
       "      <td>0.482856</td>\n",
       "    </tr>\n",
       "    <tr>\n",
       "      <th>...</th>\n",
       "      <td>...</td>\n",
       "      <td>...</td>\n",
       "      <td>...</td>\n",
       "      <td>...</td>\n",
       "    </tr>\n",
       "    <tr>\n",
       "      <th>95</th>\n",
       "      <td>0.490101</td>\n",
       "      <td>0.698652</td>\n",
       "      <td>0.392476</td>\n",
       "      <td>0.490582</td>\n",
       "    </tr>\n",
       "    <tr>\n",
       "      <th>96</th>\n",
       "      <td>0.375971</td>\n",
       "      <td>0.459335</td>\n",
       "      <td>0.545271</td>\n",
       "      <td>0.350962</td>\n",
       "    </tr>\n",
       "    <tr>\n",
       "      <th>97</th>\n",
       "      <td>0.660866</td>\n",
       "      <td>0.442243</td>\n",
       "      <td>0.188530</td>\n",
       "      <td>0.590618</td>\n",
       "    </tr>\n",
       "    <tr>\n",
       "      <th>98</th>\n",
       "      <td>0.532497</td>\n",
       "      <td>0.351761</td>\n",
       "      <td>0.510137</td>\n",
       "      <td>0.584777</td>\n",
       "    </tr>\n",
       "    <tr>\n",
       "      <th>99</th>\n",
       "      <td>0.444458</td>\n",
       "      <td>0.575186</td>\n",
       "      <td>0.277644</td>\n",
       "      <td>0.321157</td>\n",
       "    </tr>\n",
       "  </tbody>\n",
       "</table>\n",
       "<p>100 rows × 4 columns</p>\n",
       "</div>"
      ],
      "text/plain": [
       "    jawsPosition  jawsSize  chinPosition  chinSize\n",
       "0       0.303808  0.534139      0.384854  0.339650\n",
       "1       0.311313  0.745905      0.628422  0.617734\n",
       "2       0.393818  0.607823      0.450802  0.515613\n",
       "3       0.438563  0.607859      0.464873  0.665516\n",
       "4       0.279202  0.452621      0.474206  0.482856\n",
       "..           ...       ...           ...       ...\n",
       "95      0.490101  0.698652      0.392476  0.490582\n",
       "96      0.375971  0.459335      0.545271  0.350962\n",
       "97      0.660866  0.442243      0.188530  0.590618\n",
       "98      0.532497  0.351761      0.510137  0.584777\n",
       "99      0.444458  0.575186      0.277644  0.321157\n",
       "\n",
       "[100 rows x 4 columns]"
      ]
     },
     "execution_count": 31,
     "metadata": {},
     "output_type": "execute_result"
    }
   ],
   "source": [
    "prediction = pd.DataFrame(y_pred)\n",
    "prediction.columns = ['jawsPosition','jawsSize','chinPosition','chinSize']\n",
    "prediction"
   ]
  },
  {
   "cell_type": "code",
   "execution_count": 32,
   "id": "230a8b0a",
   "metadata": {
    "scrolled": false
   },
   "outputs": [
    {
     "data": {
      "text/html": [
       "<div>\n",
       "<style scoped>\n",
       "    .dataframe tbody tr th:only-of-type {\n",
       "        vertical-align: middle;\n",
       "    }\n",
       "\n",
       "    .dataframe tbody tr th {\n",
       "        vertical-align: top;\n",
       "    }\n",
       "\n",
       "    .dataframe thead th {\n",
       "        text-align: right;\n",
       "    }\n",
       "</style>\n",
       "<table border=\"1\" class=\"dataframe\">\n",
       "  <thead>\n",
       "    <tr style=\"text-align: right;\">\n",
       "      <th></th>\n",
       "      <th>jawsPosition</th>\n",
       "      <th>jawsSize</th>\n",
       "      <th>chinPosition</th>\n",
       "      <th>chinSize</th>\n",
       "    </tr>\n",
       "  </thead>\n",
       "  <tbody>\n",
       "    <tr>\n",
       "      <th>0</th>\n",
       "      <td>0.323832</td>\n",
       "      <td>0.595424</td>\n",
       "      <td>0.420894</td>\n",
       "      <td>0.251898</td>\n",
       "    </tr>\n",
       "    <tr>\n",
       "      <th>1</th>\n",
       "      <td>0.252126</td>\n",
       "      <td>0.766253</td>\n",
       "      <td>0.768240</td>\n",
       "      <td>0.637456</td>\n",
       "    </tr>\n",
       "    <tr>\n",
       "      <th>2</th>\n",
       "      <td>0.466237</td>\n",
       "      <td>0.531876</td>\n",
       "      <td>0.502866</td>\n",
       "      <td>0.621738</td>\n",
       "    </tr>\n",
       "    <tr>\n",
       "      <th>3</th>\n",
       "      <td>0.289253</td>\n",
       "      <td>0.519737</td>\n",
       "      <td>0.526797</td>\n",
       "      <td>0.793071</td>\n",
       "    </tr>\n",
       "    <tr>\n",
       "      <th>4</th>\n",
       "      <td>0.225629</td>\n",
       "      <td>0.502349</td>\n",
       "      <td>0.339251</td>\n",
       "      <td>0.652542</td>\n",
       "    </tr>\n",
       "    <tr>\n",
       "      <th>...</th>\n",
       "      <td>...</td>\n",
       "      <td>...</td>\n",
       "      <td>...</td>\n",
       "      <td>...</td>\n",
       "    </tr>\n",
       "    <tr>\n",
       "      <th>95</th>\n",
       "      <td>0.320538</td>\n",
       "      <td>0.766127</td>\n",
       "      <td>0.231935</td>\n",
       "      <td>0.399568</td>\n",
       "    </tr>\n",
       "    <tr>\n",
       "      <th>96</th>\n",
       "      <td>0.530781</td>\n",
       "      <td>0.438227</td>\n",
       "      <td>0.651389</td>\n",
       "      <td>0.252586</td>\n",
       "    </tr>\n",
       "    <tr>\n",
       "      <th>97</th>\n",
       "      <td>0.565084</td>\n",
       "      <td>0.416299</td>\n",
       "      <td>0.286769</td>\n",
       "      <td>0.596652</td>\n",
       "    </tr>\n",
       "    <tr>\n",
       "      <th>98</th>\n",
       "      <td>0.569411</td>\n",
       "      <td>0.301160</td>\n",
       "      <td>0.784193</td>\n",
       "      <td>0.403280</td>\n",
       "    </tr>\n",
       "    <tr>\n",
       "      <th>99</th>\n",
       "      <td>0.622268</td>\n",
       "      <td>0.681516</td>\n",
       "      <td>0.325438</td>\n",
       "      <td>0.217985</td>\n",
       "    </tr>\n",
       "  </tbody>\n",
       "</table>\n",
       "<p>100 rows × 4 columns</p>\n",
       "</div>"
      ],
      "text/plain": [
       "    jawsPosition  jawsSize  chinPosition  chinSize\n",
       "0       0.323832  0.595424      0.420894  0.251898\n",
       "1       0.252126  0.766253      0.768240  0.637456\n",
       "2       0.466237  0.531876      0.502866  0.621738\n",
       "3       0.289253  0.519737      0.526797  0.793071\n",
       "4       0.225629  0.502349      0.339251  0.652542\n",
       "..           ...       ...           ...       ...\n",
       "95      0.320538  0.766127      0.231935  0.399568\n",
       "96      0.530781  0.438227      0.651389  0.252586\n",
       "97      0.565084  0.416299      0.286769  0.596652\n",
       "98      0.569411  0.301160      0.784193  0.403280\n",
       "99      0.622268  0.681516      0.325438  0.217985\n",
       "\n",
       "[100 rows x 4 columns]"
      ]
     },
     "execution_count": 32,
     "metadata": {},
     "output_type": "execute_result"
    }
   ],
   "source": [
    "test_y"
   ]
  },
  {
   "cell_type": "code",
   "execution_count": 199,
   "id": "6768c15b",
   "metadata": {},
   "outputs": [
    {
     "name": "stdout",
     "output_type": "stream",
     "text": [
      "0.12550871680663447\n"
     ]
    }
   ],
   "source": [
    "from sklearn.metrics import mean_squared_error\n",
    "rmse = mean_squared_error(test_y, prediction)**0.5\n",
    "print(rmse)"
   ]
  }
 ],
 "metadata": {
  "kernelspec": {
   "display_name": "Python 3 (ipykernel)",
   "language": "python",
   "name": "python3"
  },
  "language_info": {
   "codemirror_mode": {
    "name": "ipython",
    "version": 3
   },
   "file_extension": ".py",
   "mimetype": "text/x-python",
   "name": "python",
   "nbconvert_exporter": "python",
   "pygments_lexer": "ipython3",
   "version": "3.10.9"
  }
 },
 "nbformat": 4,
 "nbformat_minor": 5
}

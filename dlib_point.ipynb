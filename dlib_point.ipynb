{
 "cells": [
  {
   "cell_type": "code",
   "execution_count": 2,
   "id": "7466847d",
   "metadata": {},
   "outputs": [],
   "source": [
    "import dlib\n",
    "import cv2 as cv\n",
    "import numpy as np"
   ]
  },
  {
   "cell_type": "code",
   "execution_count": 3,
   "id": "0d8d1d5a",
   "metadata": {},
   "outputs": [],
   "source": [
    "face_dat = dlib.get_frontal_face_detector()\n",
    "landmark_model = dlib.shape_predictor(\"shape_predictor_68_face_landmarks.dat\")\n",
    "\n",
    "ALL = list(range(0, 68))\n",
    "RIGHT_EYEBROW = list(range(17, 22))\n",
    "LEFT_EYEBROW = list(range(22, 27))\n",
    "RIGHT_EYE = list(range(36, 42))\n",
    "LEFT_EYE = list(range(42, 48))\n",
    "NOSE = list(range(27, 36))\n",
    "MOUTH_OUTLINE = list(range(61, 68))\n",
    "MOUTH_INNER = list(range(61, 68))\n",
    "JAWLINE = list(range(0, 17))\n",
    "index = ALL\n",
    "\n",
    "if __name__ == \"__main__\":\n",
    "    src = cv.imread(\"./DataSet2/Test/img/6.png\")\n",
    "    grey = cv.cvtColor(src, cv.COLOR_BGR2GRAY)\n",
    "    \n",
    "    faces = face_dat(grey)\n",
    "    \n",
    "    for face in faces:\n",
    "        lm = landmark_model(src, face)\n",
    "        \n",
    "        lm_point = []\n",
    "        for p in lm.parts():\n",
    "            lm_point.append([p.x, p.y])\n",
    "        lm_point = np.array(lm_point)\n",
    "        \n",
    "        for p in lm_point:\n",
    "            cv.circle(src, (p[0], p[1]), radius=2, color=(255, 0, 0), thickness=-1)\n",
    "            \n",
    "    cv.imshow(\"lsh\", src)\n",
    "    cv.waitKey()\n",
    "    cv.destroyAllWindows()\n",
    "    "
   ]
  },
  {
   "cell_type": "code",
   "execution_count": null,
   "id": "16f9872c",
   "metadata": {},
   "outputs": [],
   "source": []
  },
  {
   "cell_type": "code",
   "execution_count": null,
   "id": "4d3808ac",
   "metadata": {},
   "outputs": [],
   "source": []
  }
 ],
 "metadata": {
  "kernelspec": {
   "display_name": "Python 3 (ipykernel)",
   "language": "python",
   "name": "python3"
  },
  "language_info": {
   "codemirror_mode": {
    "name": "ipython",
    "version": 3
   },
   "file_extension": ".py",
   "mimetype": "text/x-python",
   "name": "python",
   "nbconvert_exporter": "python",
   "pygments_lexer": "ipython3",
   "version": "3.10.9"
  }
 },
 "nbformat": 4,
 "nbformat_minor": 5
}

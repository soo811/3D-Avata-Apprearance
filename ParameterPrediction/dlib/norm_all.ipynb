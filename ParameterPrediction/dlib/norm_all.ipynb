{
 "cells": [
  {
   "cell_type": "code",
   "execution_count": 1,
   "id": "3f98f696",
   "metadata": {},
   "outputs": [],
   "source": [
    "import cv2\n",
    "import numpy as np\n",
    "import matplotlib.pyplot as plt\n",
    "import pandas as pd\n",
    "import dlib"
   ]
  },
  {
   "cell_type": "code",
   "execution_count": 2,
   "id": "ffedd0dd",
   "metadata": {},
   "outputs": [],
   "source": [
    "for i in range(100):\n",
    "    globals()['land'+str(i)] = pd.read_csv('./dlib(denorm)/train/%s.csv'%i)\n",
    "    globals()['land'+str(i)] = np.array(globals()['land'+str(i)])\n",
    "    \n",
    "    tr_x = globals()['land'+str(i)][:, 0]\n",
    "    tr_y = globals()['land'+str(i)][:, 1]\n",
    "    \n",
    "    tr_cx = ((min(tr_x)+max(tr_x)) / 2)        #dlib_rect 중점\n",
    "    tr_cy = ((min(tr_y)+max(tr_y)) / 2)\n",
    "    \n",
    "    tr_h = max(tr_y)-min(tr_y)    #종축 길이\n",
    "    \n",
    "    tr_x -= tr_cx\n",
    "    tr_y -= tr_cy\n",
    "    \n",
    "    norm_trx = (tr_x - min(tr_x)) / tr_h\n",
    "    norm_try = (tr_y - min(tr_y)) / (tr_h *1.5)\n",
    "    \n",
    "    globals()['train_norm'+str(i)] = np.column_stack((norm_trx, norm_try))"
   ]
  },
  {
   "cell_type": "code",
   "execution_count": 3,
   "id": "c603c05e",
   "metadata": {},
   "outputs": [],
   "source": [
    "## eye, nose, mouth, jaws\n",
    "for i in  range(100):\n",
    "    globals()['norm_eye'+str(i)] = globals()['train_norm'+str(i)][36:48].flatten()\n",
    "    globals()['norm_nose'+str(i)] = globals()['train_norm'+str(i)][27:36].flatten()\n",
    "    globals()['norm_mouth'+str(i)] = globals()['train_norm'+str(i)][48:].flatten()\n",
    "    globals()['norm_jaws'+str(i)] = globals()['train_norm'+str(i)][:17].flatten()"
   ]
  },
  {
   "cell_type": "code",
   "execution_count": 89,
   "id": "b0758daf",
   "metadata": {},
   "outputs": [],
   "source": [
    "# for i in range(100):\n",
    "#     globals()['mark'+str(i)] = pd.read_csv('./dlib(denorm)/test/%s.csv'%i)\n",
    "#     globals()['mark'+str(i)] = np.array(globals()['mark'+str(i)])\n",
    "    \n",
    "#     te_x = globals()['mark'+str(i)][:, 0]\n",
    "#     te_y = globals()['mark'+str(i)][:, 1]\n",
    "    \n",
    "#     te_cx = ((min(te_x)+max(te_x)) / 2)\n",
    "#     te_cy = ((min(te_y)+max(te_y)) / 2)\n",
    "\n",
    "#     te_h = max(te_y)-min(te_y)\n",
    "    \n",
    "    \n",
    "#     te_x -= te_cx\n",
    "#     te_y -= te_cy\n",
    "\n",
    "#     norm_tex = (te_x - min(te_x)) / te_h\n",
    "#     norm_tey = (te_y - min(te_y)) / (te_h *1.5)\n",
    "    \n",
    "#     globals()['test_norm'+str(i)] = np.column_stack((norm_tex, norm_tey))"
   ]
  },
  {
   "cell_type": "code",
   "execution_count": 90,
   "id": "33be44d7",
   "metadata": {},
   "outputs": [],
   "source": [
    "# ## eye, nose, mouth, jaws\n",
    "# for i in  range(100):\n",
    "#     globals()['norm_eye2'+str(i)] = globals()['test_norm'+str(i)][36:48].flatten()\n",
    "#     globals()['norm_nose2'+str(i)] = globals()['test_norm'+str(i)][27:36].flatten()\n",
    "#     globals()['norm_mouth2'+str(i)] = globals()['test_norm'+str(i)][48:].flatten()\n",
    "#     globals()['norm_jaws2'+str(i)] = globals()['test_norm'+str(i)][:17].flatten()"
   ]
  },
  {
   "cell_type": "code",
   "execution_count": 12,
   "id": "5aa5f9ea",
   "metadata": {},
   "outputs": [],
   "source": [
    "face_path = './pixelsize/800.png'\n",
    "face_origin = cv2.imread(face_path)\n",
    "face_copy = face_origin.copy()\n",
    "face_rgb = cv2.cvtColor(face_copy, cv2.COLOR_BGR2RGB)\n",
    "    \n",
    "detector = dlib.get_frontal_face_detector()\n",
    "dlib_rects = detector(face_rgb, 1)\n",
    "    \n",
    "img_how_rgb = cv2.cvtColor(face_copy, cv2.COLOR_BGR2RGB)\n",
    "    \n",
    "predictor = dlib.shape_predictor(\"shape_predictor_68_face_landmarks.dat\")\n",
    "    \n",
    "img = []\n",
    "    \n",
    "for dlib_rect in dlib_rects:\n",
    "    points = predictor(face_rgb, dlib_rect)\n",
    "    list_points = list(map(lambda p: [p.x, p.y], points.parts()))\n",
    "    img.append(list_points)\n",
    "    img = np.array(img)\n",
    "    \n",
    "land = np.zeros((68,2))\n",
    "    \n",
    "for j in range(68):\n",
    "    land[j][0] = img[0][j][0]\n",
    "    land[j][1] = img[0][j][1]\n",
    "        \n",
    "x = land[:,0]\n",
    "y = land[:,1]\n",
    "    \n",
    "x -= ((min(x) + max(x)) / 2)\n",
    "y -= ((min(y) + max(y)) / 2)\n",
    "    \n",
    "norm_x = (x - min(x)) / (max(y)-min(y))\n",
    "norm_y = (y - min(y)) / ((max(y)-min(y)) * 1.5)\n",
    "    \n",
    "norm = np.column_stack((norm_x, norm_y))\n",
    "norm_eye = norm[36:48].flatten()\n",
    "norm_nose = norm[27:36].flatten()\n",
    "norm_mouth = norm[48:].flatten()\n",
    "norm_jaws = norm[:17].flatten()"
   ]
  },
  {
   "cell_type": "code",
   "execution_count": 13,
   "id": "ad62a345",
   "metadata": {},
   "outputs": [],
   "source": [
    "try_eye = pd.read_csv('./dataset/train/train.csv')\n",
    "try_eye = try_eye.iloc[:, 16:22]\n",
    "try_nose = pd.read_csv('./dataset/train/train.csv')\n",
    "try_nose = try_nose.iloc[:, 22:30]\n",
    "try_mouth = pd.read_csv('./dataset/train/train.csv')\n",
    "try_mouth = try_mouth.iloc[:, 30:]\n",
    "try_jaws = pd.read_csv('./dataset/train/train.csv')\n",
    "try_jaws = try_jaws.iloc[:, 5:9]"
   ]
  },
  {
   "cell_type": "code",
   "execution_count": 14,
   "id": "d0ddb824",
   "metadata": {},
   "outputs": [],
   "source": [
    "tey_eye = pd.read_csv('./dataset/test/test.csv')\n",
    "tey_eye = tey_eye.iloc[:, 16:22]\n",
    "tey_nose = pd.read_csv('./dataset/test/test.csv')\n",
    "tey_nose = tey_nose.iloc[:, 22:30]\n",
    "tey_mouth = pd.read_csv('./dataset/test/test.csv')\n",
    "tey_mouth = tey_mouth.iloc[:, 30:]\n",
    "tey_jaws = pd.read_csv('./dataset/test/test.csv')\n",
    "tey_jaws = tey_jaws.iloc[:, 5:9]"
   ]
  },
  {
   "cell_type": "code",
   "execution_count": null,
   "id": "0a6b4179",
   "metadata": {},
   "outputs": [],
   "source": []
  },
  {
   "cell_type": "code",
   "execution_count": 15,
   "id": "c7cbdc9f",
   "metadata": {},
   "outputs": [],
   "source": [
    "train_x = np.zeros((100, len(norm_jaws0)))   #morm0 -> norm_eye, nose, mouth, jaws\n",
    "for i in range(100):\n",
    "    for j in range(len(norm_jaws0)):\n",
    "        train_x[i][j] = globals()['norm_jaws'+str(i)][j]   "
   ]
  },
  {
   "cell_type": "code",
   "execution_count": 184,
   "id": "06a97b97",
   "metadata": {},
   "outputs": [],
   "source": [
    "# test_x = np.zeros((100, len(norm_nose0)))   #morm0 -> norm_eye, nose, mouth, jaws\n",
    "# for i in range(100):\n",
    "#     for j in range(len(norm_nose0)):\n",
    "#         test_x[i][j] = globals()['norm_nose'+str(i)][j]   "
   ]
  },
  {
   "cell_type": "code",
   "execution_count": 16,
   "id": "460e6a89",
   "metadata": {},
   "outputs": [],
   "source": [
    "test_x = np.zeros((1, len(norm_jaws)))\n",
    "for j in range(len(norm_jaws)):\n",
    "    test_x[0][j] = norm_jaws[j]"
   ]
  },
  {
   "cell_type": "code",
   "execution_count": null,
   "id": "59d306d0",
   "metadata": {},
   "outputs": [],
   "source": []
  },
  {
   "cell_type": "code",
   "execution_count": 9,
   "id": "b47b9b19",
   "metadata": {},
   "outputs": [],
   "source": [
    "from sklearn.linear_model import LinearRegression\n",
    "from sklearn.metrics import mean_absolute_error"
   ]
  },
  {
   "cell_type": "code",
   "execution_count": 17,
   "id": "d9b29f51",
   "metadata": {},
   "outputs": [],
   "source": [
    "model = LinearRegression()\n",
    "model.fit(train_x,try_jaws)\n",
    "y_pred = model.predict(test_x)\n",
    "prediction = pd.DataFrame(y_pred)"
   ]
  },
  {
   "cell_type": "code",
   "execution_count": 11,
   "id": "6eb37a8c",
   "metadata": {},
   "outputs": [
    {
     "data": {
      "text/html": [
       "<div>\n",
       "<style scoped>\n",
       "    .dataframe tbody tr th:only-of-type {\n",
       "        vertical-align: middle;\n",
       "    }\n",
       "\n",
       "    .dataframe tbody tr th {\n",
       "        vertical-align: top;\n",
       "    }\n",
       "\n",
       "    .dataframe thead th {\n",
       "        text-align: right;\n",
       "    }\n",
       "</style>\n",
       "<table border=\"1\" class=\"dataframe\">\n",
       "  <thead>\n",
       "    <tr style=\"text-align: right;\">\n",
       "      <th></th>\n",
       "      <th>0</th>\n",
       "      <th>1</th>\n",
       "      <th>2</th>\n",
       "      <th>3</th>\n",
       "    </tr>\n",
       "  </thead>\n",
       "  <tbody>\n",
       "    <tr>\n",
       "      <th>0</th>\n",
       "      <td>0.383744</td>\n",
       "      <td>0.316083</td>\n",
       "      <td>0.453818</td>\n",
       "      <td>0.559744</td>\n",
       "    </tr>\n",
       "  </tbody>\n",
       "</table>\n",
       "</div>"
      ],
      "text/plain": [
       "          0         1         2         3\n",
       "0  0.383744  0.316083  0.453818  0.559744"
      ]
     },
     "execution_count": 11,
     "metadata": {},
     "output_type": "execute_result"
    }
   ],
   "source": [
    "prediction   #500px"
   ]
  },
  {
   "cell_type": "code",
   "execution_count": 18,
   "id": "9ceda086",
   "metadata": {},
   "outputs": [
    {
     "data": {
      "text/html": [
       "<div>\n",
       "<style scoped>\n",
       "    .dataframe tbody tr th:only-of-type {\n",
       "        vertical-align: middle;\n",
       "    }\n",
       "\n",
       "    .dataframe tbody tr th {\n",
       "        vertical-align: top;\n",
       "    }\n",
       "\n",
       "    .dataframe thead th {\n",
       "        text-align: right;\n",
       "    }\n",
       "</style>\n",
       "<table border=\"1\" class=\"dataframe\">\n",
       "  <thead>\n",
       "    <tr style=\"text-align: right;\">\n",
       "      <th></th>\n",
       "      <th>0</th>\n",
       "      <th>1</th>\n",
       "      <th>2</th>\n",
       "      <th>3</th>\n",
       "    </tr>\n",
       "  </thead>\n",
       "  <tbody>\n",
       "    <tr>\n",
       "      <th>0</th>\n",
       "      <td>0.566343</td>\n",
       "      <td>0.347744</td>\n",
       "      <td>0.581708</td>\n",
       "      <td>0.519096</td>\n",
       "    </tr>\n",
       "  </tbody>\n",
       "</table>\n",
       "</div>"
      ],
      "text/plain": [
       "          0         1         2         3\n",
       "0  0.566343  0.347744  0.581708  0.519096"
      ]
     },
     "execution_count": 18,
     "metadata": {},
     "output_type": "execute_result"
    }
   ],
   "source": [
    "prediction    #800px"
   ]
  },
  {
   "cell_type": "code",
   "execution_count": 178,
   "id": "5177607c",
   "metadata": {},
   "outputs": [
    {
     "data": {
      "text/html": [
       "<div>\n",
       "<style scoped>\n",
       "    .dataframe tbody tr th:only-of-type {\n",
       "        vertical-align: middle;\n",
       "    }\n",
       "\n",
       "    .dataframe tbody tr th {\n",
       "        vertical-align: top;\n",
       "    }\n",
       "\n",
       "    .dataframe thead th {\n",
       "        text-align: right;\n",
       "    }\n",
       "</style>\n",
       "<table border=\"1\" class=\"dataframe\">\n",
       "  <thead>\n",
       "    <tr style=\"text-align: right;\">\n",
       "      <th></th>\n",
       "      <th>0</th>\n",
       "      <th>1</th>\n",
       "      <th>2</th>\n",
       "      <th>3</th>\n",
       "      <th>4</th>\n",
       "      <th>5</th>\n",
       "    </tr>\n",
       "  </thead>\n",
       "  <tbody>\n",
       "    <tr>\n",
       "      <th>0</th>\n",
       "      <td>0.371326</td>\n",
       "      <td>0.631646</td>\n",
       "      <td>0.607577</td>\n",
       "      <td>0.487716</td>\n",
       "      <td>0.437961</td>\n",
       "      <td>0.538062</td>\n",
       "    </tr>\n",
       "  </tbody>\n",
       "</table>\n",
       "</div>"
      ],
      "text/plain": [
       "          0         1         2         3         4         5\n",
       "0  0.371326  0.631646  0.607577  0.487716  0.437961  0.538062"
      ]
     },
     "execution_count": 178,
     "metadata": {},
     "output_type": "execute_result"
    }
   ],
   "source": [
    "prediction   #eye"
   ]
  },
  {
   "cell_type": "code",
   "execution_count": 173,
   "id": "46e913c4",
   "metadata": {},
   "outputs": [
    {
     "data": {
      "text/html": [
       "<div>\n",
       "<style scoped>\n",
       "    .dataframe tbody tr th:only-of-type {\n",
       "        vertical-align: middle;\n",
       "    }\n",
       "\n",
       "    .dataframe tbody tr th {\n",
       "        vertical-align: top;\n",
       "    }\n",
       "\n",
       "    .dataframe thead th {\n",
       "        text-align: right;\n",
       "    }\n",
       "</style>\n",
       "<table border=\"1\" class=\"dataframe\">\n",
       "  <thead>\n",
       "    <tr style=\"text-align: right;\">\n",
       "      <th></th>\n",
       "      <th>0</th>\n",
       "      <th>1</th>\n",
       "      <th>2</th>\n",
       "      <th>3</th>\n",
       "      <th>4</th>\n",
       "      <th>5</th>\n",
       "      <th>6</th>\n",
       "      <th>7</th>\n",
       "    </tr>\n",
       "  </thead>\n",
       "  <tbody>\n",
       "    <tr>\n",
       "      <th>0</th>\n",
       "      <td>0.378432</td>\n",
       "      <td>0.415773</td>\n",
       "      <td>0.493757</td>\n",
       "      <td>0.380154</td>\n",
       "      <td>0.320162</td>\n",
       "      <td>0.522676</td>\n",
       "      <td>0.521505</td>\n",
       "      <td>0.636121</td>\n",
       "    </tr>\n",
       "  </tbody>\n",
       "</table>\n",
       "</div>"
      ],
      "text/plain": [
       "          0         1         2         3         4         5         6  \\\n",
       "0  0.378432  0.415773  0.493757  0.380154  0.320162  0.522676  0.521505   \n",
       "\n",
       "          7  \n",
       "0  0.636121  "
      ]
     },
     "execution_count": 173,
     "metadata": {},
     "output_type": "execute_result"
    }
   ],
   "source": [
    "prediction   #nose"
   ]
  },
  {
   "cell_type": "code",
   "execution_count": 182,
   "id": "f20b7269",
   "metadata": {},
   "outputs": [
    {
     "data": {
      "text/html": [
       "<div>\n",
       "<style scoped>\n",
       "    .dataframe tbody tr th:only-of-type {\n",
       "        vertical-align: middle;\n",
       "    }\n",
       "\n",
       "    .dataframe tbody tr th {\n",
       "        vertical-align: top;\n",
       "    }\n",
       "\n",
       "    .dataframe thead th {\n",
       "        text-align: right;\n",
       "    }\n",
       "</style>\n",
       "<table border=\"1\" class=\"dataframe\">\n",
       "  <thead>\n",
       "    <tr style=\"text-align: right;\">\n",
       "      <th></th>\n",
       "      <th>0</th>\n",
       "      <th>1</th>\n",
       "      <th>2</th>\n",
       "      <th>3</th>\n",
       "    </tr>\n",
       "  </thead>\n",
       "  <tbody>\n",
       "    <tr>\n",
       "      <th>0</th>\n",
       "      <td>0.190955</td>\n",
       "      <td>0.505558</td>\n",
       "      <td>0.478015</td>\n",
       "      <td>0.562302</td>\n",
       "    </tr>\n",
       "  </tbody>\n",
       "</table>\n",
       "</div>"
      ],
      "text/plain": [
       "          0         1         2         3\n",
       "0  0.190955  0.505558  0.478015  0.562302"
      ]
     },
     "execution_count": 182,
     "metadata": {},
     "output_type": "execute_result"
    }
   ],
   "source": [
    "prediction   #mouth"
   ]
  },
  {
   "cell_type": "code",
   "execution_count": 187,
   "id": "44df5530",
   "metadata": {
    "scrolled": true
   },
   "outputs": [
    {
     "data": {
      "text/html": [
       "<div>\n",
       "<style scoped>\n",
       "    .dataframe tbody tr th:only-of-type {\n",
       "        vertical-align: middle;\n",
       "    }\n",
       "\n",
       "    .dataframe tbody tr th {\n",
       "        vertical-align: top;\n",
       "    }\n",
       "\n",
       "    .dataframe thead th {\n",
       "        text-align: right;\n",
       "    }\n",
       "</style>\n",
       "<table border=\"1\" class=\"dataframe\">\n",
       "  <thead>\n",
       "    <tr style=\"text-align: right;\">\n",
       "      <th></th>\n",
       "      <th>0</th>\n",
       "      <th>1</th>\n",
       "      <th>2</th>\n",
       "      <th>3</th>\n",
       "    </tr>\n",
       "  </thead>\n",
       "  <tbody>\n",
       "    <tr>\n",
       "      <th>0</th>\n",
       "      <td>0.303808</td>\n",
       "      <td>0.534138</td>\n",
       "      <td>0.384855</td>\n",
       "      <td>0.339651</td>\n",
       "    </tr>\n",
       "  </tbody>\n",
       "</table>\n",
       "</div>"
      ],
      "text/plain": [
       "          0         1         2         3\n",
       "0  0.303808  0.534138  0.384855  0.339651"
      ]
     },
     "execution_count": 187,
     "metadata": {},
     "output_type": "execute_result"
    }
   ],
   "source": [
    "prediction #jaws"
   ]
  },
  {
   "cell_type": "code",
   "execution_count": null,
   "id": "287f8702",
   "metadata": {},
   "outputs": [],
   "source": []
  },
  {
   "cell_type": "code",
   "execution_count": 70,
   "id": "42102844",
   "metadata": {
    "scrolled": false
   },
   "outputs": [],
   "source": [
    "# tey_eye"
   ]
  },
  {
   "cell_type": "code",
   "execution_count": 108,
   "id": "b1e9d718",
   "metadata": {},
   "outputs": [
    {
     "data": {
      "text/plain": [
       "0.10756064228202006"
      ]
     },
     "execution_count": 108,
     "metadata": {},
     "output_type": "execute_result"
    }
   ],
   "source": [
    "mae = mean_absolute_error(tey_nose, y_pred)\n",
    "mae"
   ]
  }
 ],
 "metadata": {
  "kernelspec": {
   "display_name": "Python 3 (ipykernel)",
   "language": "python",
   "name": "python3"
  },
  "language_info": {
   "codemirror_mode": {
    "name": "ipython",
    "version": 3
   },
   "file_extension": ".py",
   "mimetype": "text/x-python",
   "name": "python",
   "nbconvert_exporter": "python",
   "pygments_lexer": "ipython3",
   "version": "3.10.9"
  }
 },
 "nbformat": 4,
 "nbformat_minor": 5
}

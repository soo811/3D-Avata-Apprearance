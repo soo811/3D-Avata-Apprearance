{
 "cells": [
  {
   "cell_type": "code",
   "execution_count": 1,
   "id": "88ad0a3f",
   "metadata": {},
   "outputs": [],
   "source": [
    "## eye rotation test -> 인ㄷ덱스 42, 45 각도를 입력값으로\n",
    "\n",
    "import cv2\n",
    "import numpy as np\n",
    "import matplotlib.pyplot as plt\n",
    "import pandas as pd\n",
    "import math"
   ]
  },
  {
   "cell_type": "code",
   "execution_count": 2,
   "id": "8731ff1c",
   "metadata": {},
   "outputs": [],
   "source": [
    "from sklearn.linear_model import LinearRegression\n",
    "from sklearn.metrics import mean_absolute_error"
   ]
  },
  {
   "cell_type": "code",
   "execution_count": 52,
   "id": "705c7989",
   "metadata": {},
   "outputs": [],
   "source": [
    "train_x = np.zeros((100,1))\n",
    "for i in range(100):\n",
    "    globals()['land'+str(i)] = pd.read_csv('./headfix/train/%s.csv'%i)\n",
    "    globals()['land'+str(i)] = np.array(globals()['land'+str(i)])\n",
    "    \n",
    "    tr_x = globals()['land'+str(i)][:,0]\n",
    "    tr_y = globals()['land'+str(i)][:,1]\n",
    "#     print(tr_y[45])\n",
    "    \n",
    "#     tr_x -= ((min(tr_x) + max(tr_x)) / 2)\n",
    "#     tr_y -= ((min(tr_y) + max(tr_y)) / 2)\n",
    "    \n",
    "#     height = (max(tr_y) - min(tr_y))\n",
    "#     norm_x = (tr_x - min(tr_x)) / height\n",
    "#     norm_y = (tr_y - min(tr_y)) / height\n",
    "    \n",
    "    eye_x = tr_x[45] - tr_x[42]\n",
    "    eye_y = tr_y[45] - tr_y[42]\n",
    "\n",
    "    rad = math.atan2(eye_y, eye_x)\n",
    "    PI = math.pi\n",
    "    deg =(rad * 180)/PI\n",
    "    \n",
    "    train_x[i] = deg"
   ]
  },
  {
   "cell_type": "code",
   "execution_count": 62,
   "id": "8c409f99",
   "metadata": {},
   "outputs": [],
   "source": [
    "test_x = np.zeros((100,1))\n",
    "for i in range(100):\n",
    "    globals()['land'+str(i)] = pd.read_csv('./headfix/test/%s.csv'%i)\n",
    "    globals()['land'+str(i)] = np.array(globals()['land'+str(i)])\n",
    "    \n",
    "    te_x = globals()['land'+str(i)][:,0]\n",
    "    te_y = globals()['land'+str(i)][:,1]\n",
    "    \n",
    "#     height = (max(te_y) - min(te_y))\n",
    "#     norm_x = (te_x - min(te_x)) / height\n",
    "#     norm_y = (te_y - min(te_y)) / height\n",
    "    \n",
    "    eye_x = te_x[45] - te_x[42]\n",
    "    eye_y = te_y[45] - te_y[42]\n",
    "    \n",
    "    rad = math.atan2(eye_y, eye_x)\n",
    "    PI = math.pi\n",
    "    deg =(rad * 180)/PI\n",
    "    \n",
    "    test_x[i] = deg"
   ]
  },
  {
   "cell_type": "code",
   "execution_count": 63,
   "id": "6640065d",
   "metadata": {},
   "outputs": [],
   "source": [
    "train_y = pd.read_csv('./DataSet_headfix/train/csv/train.csv')\n",
    "train_y = train_y['eyeRotation']\n",
    "test_y = pd.read_csv('./DataSet_headfix/test/csv/test.csv')\n",
    "test_y = test_y['eyeRotation']"
   ]
  },
  {
   "cell_type": "code",
   "execution_count": 64,
   "id": "03be8b04",
   "metadata": {
    "scrolled": false
   },
   "outputs": [
    {
     "data": {
      "text/html": [
       "<div>\n",
       "<style scoped>\n",
       "    .dataframe tbody tr th:only-of-type {\n",
       "        vertical-align: middle;\n",
       "    }\n",
       "\n",
       "    .dataframe tbody tr th {\n",
       "        vertical-align: top;\n",
       "    }\n",
       "\n",
       "    .dataframe thead th {\n",
       "        text-align: right;\n",
       "    }\n",
       "</style>\n",
       "<table border=\"1\" class=\"dataframe\">\n",
       "  <thead>\n",
       "    <tr style=\"text-align: right;\">\n",
       "      <th></th>\n",
       "      <th>eyeRotation</th>\n",
       "    </tr>\n",
       "  </thead>\n",
       "  <tbody>\n",
       "    <tr>\n",
       "      <th>0</th>\n",
       "      <td>0.551940</td>\n",
       "    </tr>\n",
       "    <tr>\n",
       "      <th>1</th>\n",
       "      <td>0.650416</td>\n",
       "    </tr>\n",
       "    <tr>\n",
       "      <th>2</th>\n",
       "      <td>0.196371</td>\n",
       "    </tr>\n",
       "    <tr>\n",
       "      <th>3</th>\n",
       "      <td>0.504780</td>\n",
       "    </tr>\n",
       "    <tr>\n",
       "      <th>4</th>\n",
       "      <td>0.567098</td>\n",
       "    </tr>\n",
       "    <tr>\n",
       "      <th>...</th>\n",
       "      <td>...</td>\n",
       "    </tr>\n",
       "    <tr>\n",
       "      <th>95</th>\n",
       "      <td>0.591877</td>\n",
       "    </tr>\n",
       "    <tr>\n",
       "      <th>96</th>\n",
       "      <td>0.437673</td>\n",
       "    </tr>\n",
       "    <tr>\n",
       "      <th>97</th>\n",
       "      <td>0.560912</td>\n",
       "    </tr>\n",
       "    <tr>\n",
       "      <th>98</th>\n",
       "      <td>0.800314</td>\n",
       "    </tr>\n",
       "    <tr>\n",
       "      <th>99</th>\n",
       "      <td>0.804786</td>\n",
       "    </tr>\n",
       "  </tbody>\n",
       "</table>\n",
       "<p>100 rows × 1 columns</p>\n",
       "</div>"
      ],
      "text/plain": [
       "    eyeRotation\n",
       "0      0.551940\n",
       "1      0.650416\n",
       "2      0.196371\n",
       "3      0.504780\n",
       "4      0.567098\n",
       "..          ...\n",
       "95     0.591877\n",
       "96     0.437673\n",
       "97     0.560912\n",
       "98     0.800314\n",
       "99     0.804786\n",
       "\n",
       "[100 rows x 1 columns]"
      ]
     },
     "execution_count": 64,
     "metadata": {},
     "output_type": "execute_result"
    }
   ],
   "source": [
    "model = LinearRegression()\n",
    "model.fit(train_x, train_y)\n",
    "pred = model.predict(test_x)\n",
    "df = pd.DataFrame(pred)\n",
    "df.columns = ['eyeRotation']\n",
    "df"
   ]
  },
  {
   "cell_type": "code",
   "execution_count": 65,
   "id": "106cb5d5",
   "metadata": {
    "scrolled": true
   },
   "outputs": [
    {
     "data": {
      "text/plain": [
       "0     0.238673\n",
       "1     0.631102\n",
       "2     0.112539\n",
       "3     0.395369\n",
       "4     0.354980\n",
       "        ...   \n",
       "95    0.222269\n",
       "96    0.216469\n",
       "97    0.753573\n",
       "98    0.986395\n",
       "99    0.810354\n",
       "Name: eyeRotation, Length: 100, dtype: float64"
      ]
     },
     "execution_count": 65,
     "metadata": {},
     "output_type": "execute_result"
    }
   ],
   "source": [
    "test_y"
   ]
  },
  {
   "cell_type": "code",
   "execution_count": 66,
   "id": "dbbcdfc0",
   "metadata": {},
   "outputs": [
    {
     "data": {
      "text/plain": [
       "0.16797886512265617"
      ]
     },
     "execution_count": 66,
     "metadata": {},
     "output_type": "execute_result"
    }
   ],
   "source": [
    "mae = mean_absolute_error(test_y, pred)\n",
    "\n",
    "mae"
   ]
  }
 ],
 "metadata": {
  "kernelspec": {
   "display_name": "Python 3 (ipykernel)",
   "language": "python",
   "name": "python3"
  },
  "language_info": {
   "codemirror_mode": {
    "name": "ipython",
    "version": 3
   },
   "file_extension": ".py",
   "mimetype": "text/x-python",
   "name": "python",
   "nbconvert_exporter": "python",
   "pygments_lexer": "ipython3",
   "version": "3.10.9"
  }
 },
 "nbformat": 4,
 "nbformat_minor": 5
}

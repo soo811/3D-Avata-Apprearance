{
 "cells": [
  {
   "cell_type": "code",
   "execution_count": 88,
   "id": "3f98f696",
   "metadata": {},
   "outputs": [],
   "source": [
    "import cv2\n",
    "import numpy as np\n",
    "import matplotlib.pyplot as plt\n",
    "import pandas as pd\n",
    "import dlib"
   ]
  },
  {
   "cell_type": "code",
   "execution_count": 89,
   "id": "716b28e8",
   "metadata": {},
   "outputs": [],
   "source": [
    "from sklearn.linear_model import LinearRegression\n",
    "from sklearn.metrics import mean_absolute_error"
   ]
  },
  {
   "cell_type": "code",
   "execution_count": 90,
   "id": "ffedd0dd",
   "metadata": {},
   "outputs": [],
   "source": [
    "for i in range(100):\n",
    "    globals()['land'+str(i)] = pd.read_csv('./dlib(denorm)/train/%s.csv'%i)\n",
    "    globals()['land'+str(i)] = np.array(globals()['land'+str(i)])\n",
    "    \n",
    "    tr_x = globals()['land'+str(i)][:, 0]\n",
    "    tr_y = globals()['land'+str(i)][:, 1]\n",
    "    \n",
    "    tr_cx = ((min(tr_x)+max(tr_x)) / 2)        #dlib_rect 중점\n",
    "    tr_cy = ((min(tr_y)+max(tr_y)) / 2)\n",
    "    \n",
    "    tr_h = max(tr_y)-min(tr_y)    #종축 길이\n",
    "    \n",
    "    tr_x -= tr_cx\n",
    "    tr_y -= tr_cy\n",
    "    \n",
    "    norm_trx = (tr_x - min(tr_x)) / tr_h\n",
    "    norm_try = (tr_y - min(tr_y)) / (tr_h *1.5)\n",
    "    \n",
    "    globals()['train_norm'+str(i)] = np.column_stack((norm_trx, norm_try))"
   ]
  },
  {
   "cell_type": "code",
   "execution_count": 91,
   "id": "c603c05e",
   "metadata": {},
   "outputs": [],
   "source": [
    "## eye, nose, mouth, jaws\n",
    "for i in  range(100):\n",
    "    globals()['norm_eye'+str(i)] = globals()['train_norm'+str(i)][36:48].flatten()\n",
    "    globals()['norm_nose'+str(i)] = globals()['train_norm'+str(i)][27:36].flatten()\n",
    "    globals()['norm_mouth'+str(i)] = globals()['train_norm'+str(i)][48:].flatten()\n",
    "    globals()['norm_jaws'+str(i)] = globals()['train_norm'+str(i)][:17].flatten()"
   ]
  },
  {
   "cell_type": "code",
   "execution_count": 92,
   "id": "5aa5f9ea",
   "metadata": {},
   "outputs": [],
   "source": [
    "face_path = './testimg/img.png'\n",
    "face_origin = cv2.imread(face_path)\n",
    "face_copy = face_origin.copy()\n",
    "face_rgb = cv2.cvtColor(face_copy, cv2.COLOR_BGR2RGB)\n",
    "    \n",
    "detector = dlib.get_frontal_face_detector()\n",
    "dlib_rects = detector(face_rgb, 1)\n",
    "    \n",
    "img_how_rgb = cv2.cvtColor(face_copy, cv2.COLOR_BGR2RGB)\n",
    "    \n",
    "predictor = dlib.shape_predictor(\"shape_predictor_68_face_landmarks.dat\")\n",
    "    \n",
    "img = []\n",
    "    \n",
    "for dlib_rect in dlib_rects:\n",
    "    points = predictor(face_rgb, dlib_rect)\n",
    "    list_points = list(map(lambda p: [p.x, p.y], points.parts()))\n",
    "    img.append(list_points)\n",
    "    img = np.array(img)\n",
    "    \n",
    "land = np.zeros((68,2))\n",
    "    \n",
    "for j in range(68):\n",
    "    land[j][0] = img[0][j][0]\n",
    "    land[j][1] = img[0][j][1]\n",
    "        \n",
    "x = land[:,0]\n",
    "y = land[:,1]\n",
    "    \n",
    "x -= ((min(x) + max(x)) / 2)\n",
    "y -= ((min(y) + max(y)) / 2)\n",
    "    \n",
    "norm_x = (x - min(x)) / (max(y)-min(y))\n",
    "norm_y = (y - min(y)) / ((max(y)-min(y)) * 1.5)\n",
    "    \n",
    "norm = np.column_stack((norm_x, norm_y))\n",
    "norm_eye = norm[36:48].flatten()\n",
    "norm_nose = norm[27:36].flatten()\n",
    "norm_mouth = norm[48:].flatten()\n",
    "norm_jaws = norm[:17].flatten()"
   ]
  },
  {
   "cell_type": "code",
   "execution_count": 93,
   "id": "ad62a345",
   "metadata": {},
   "outputs": [],
   "source": [
    "try_eye = pd.read_csv('./dataset/train/train.csv')\n",
    "try_eye = try_eye.iloc[:, 16:22]\n",
    "try_nose = pd.read_csv('./dataset/train/train.csv')\n",
    "try_nose = try_nose.iloc[:, 22:30]\n",
    "try_mouth = pd.read_csv('./dataset/train/train.csv')\n",
    "try_mouth = try_mouth.iloc[:, 30:]\n",
    "try_jaws = pd.read_csv('./dataset/train/train.csv')\n",
    "try_jaws = try_jaws.iloc[:, 5:9]"
   ]
  },
  {
   "cell_type": "code",
   "execution_count": 84,
   "id": "d0ddb824",
   "metadata": {},
   "outputs": [],
   "source": [
    "# tey_eye = pd.read_csv('./dataset/test/test.csv')\n",
    "# tey_eye = tey_eye.iloc[:, 16:22]\n",
    "# tey_nose = pd.read_csv('./dataset/test/test.csv')\n",
    "# tey_nose = tey_nose.iloc[:, 22:30]\n",
    "# tey_mouth = pd.read_csv('./dataset/test/test.csv')\n",
    "# tey_mouth = tey_mouth.iloc[:, 30:]\n",
    "# tey_jaws = pd.read_csv('./dataset/test/test.csv')\n",
    "# tey_jaws = tey_jaws.iloc[:, 5:9]"
   ]
  },
  {
   "cell_type": "code",
   "execution_count": null,
   "id": "0a6b4179",
   "metadata": {},
   "outputs": [],
   "source": []
  },
  {
   "cell_type": "code",
   "execution_count": 94,
   "id": "59d306d0",
   "metadata": {},
   "outputs": [],
   "source": [
    "train_x = np.zeros((100, len(norm_eye0)))   # eye\n",
    "for i in range(100):\n",
    "    for j in range(len(norm_eye0)):\n",
    "        train_x[i][j] = globals()['norm_eye'+str(i)][j]   \n",
    "        \n",
    "test_x = np.zeros((1, len(norm_eye)))\n",
    "for j in range(len(norm_eye)):\n",
    "    test_x[0][j] = norm_eye[j]\n",
    "    \n",
    "model = LinearRegression()\n",
    "model.fit(train_x,try_eye)\n",
    "y_pred = model.predict(test_x)\n",
    "prediction = pd.DataFrame(y_pred)"
   ]
  },
  {
   "cell_type": "code",
   "execution_count": 96,
   "id": "b47b9b19",
   "metadata": {},
   "outputs": [],
   "source": [
    "train_x = np.zeros((100, len(norm_nose0)))   # nose\n",
    "for i in range(100):\n",
    "    for j in range(len(norm_nose0)):\n",
    "        train_x[i][j] = globals()['norm_nose'+str(i)][j]   \n",
    "        \n",
    "test_x = np.zeros((1, len(norm_nose)))\n",
    "for j in range(len(norm_nose)):\n",
    "    test_x[0][j] = norm_nose[j]\n",
    "    \n",
    "model = LinearRegression()\n",
    "model.fit(train_x,try_nose)\n",
    "y_pred = model.predict(test_x)\n",
    "prediction = pd.DataFrame(y_pred)"
   ]
  },
  {
   "cell_type": "code",
   "execution_count": 98,
   "id": "631c9b57",
   "metadata": {},
   "outputs": [],
   "source": [
    "train_x = np.zeros((100, len(norm_mouth0)))   # mouth\n",
    "for i in range(100):\n",
    "    for j in range(len(norm_mouth0)):\n",
    "        train_x[i][j] = globals()['norm_mouth'+str(i)][j]   \n",
    "        \n",
    "test_x = np.zeros((1, len(norm_mouth)))\n",
    "for j in range(len(norm_mouth)):\n",
    "    test_x[0][j] = norm_mouth[j]\n",
    "    \n",
    "model = LinearRegression()\n",
    "model.fit(train_x,try_mouth)\n",
    "y_pred = model.predict(test_x)\n",
    "prediction = pd.DataFrame(y_pred)"
   ]
  },
  {
   "cell_type": "code",
   "execution_count": 100,
   "id": "8cb23f96",
   "metadata": {},
   "outputs": [],
   "source": [
    "train_x = np.zeros((100, len(norm_jaws0)))   # jaws\n",
    "for i in range(100):\n",
    "    for j in range(len(norm_jaws0)):\n",
    "        train_x[i][j] = globals()['norm_jaws'+str(i)][j]   \n",
    "        \n",
    "test_x = np.zeros((1, len(norm_jaws)))\n",
    "for j in range(len(norm_jaws)):\n",
    "    test_x[0][j] = norm_jaws[j]\n",
    "    \n",
    "model = LinearRegression()\n",
    "model.fit(train_x,try_jaws)\n",
    "y_pred = model.predict(test_x)\n",
    "prediction = pd.DataFrame(y_pred)"
   ]
  },
  {
   "cell_type": "code",
   "execution_count": null,
   "id": "b9be90b5",
   "metadata": {},
   "outputs": [],
   "source": []
  },
  {
   "cell_type": "code",
   "execution_count": null,
   "id": "e9ed4475",
   "metadata": {},
   "outputs": [],
   "source": [
    "### im.jpg prediction"
   ]
  },
  {
   "cell_type": "code",
   "execution_count": 95,
   "id": "5177607c",
   "metadata": {},
   "outputs": [
    {
     "data": {
      "text/html": [
       "<div>\n",
       "<style scoped>\n",
       "    .dataframe tbody tr th:only-of-type {\n",
       "        vertical-align: middle;\n",
       "    }\n",
       "\n",
       "    .dataframe tbody tr th {\n",
       "        vertical-align: top;\n",
       "    }\n",
       "\n",
       "    .dataframe thead th {\n",
       "        text-align: right;\n",
       "    }\n",
       "</style>\n",
       "<table border=\"1\" class=\"dataframe\">\n",
       "  <thead>\n",
       "    <tr style=\"text-align: right;\">\n",
       "      <th></th>\n",
       "      <th>0</th>\n",
       "      <th>1</th>\n",
       "      <th>2</th>\n",
       "      <th>3</th>\n",
       "      <th>4</th>\n",
       "      <th>5</th>\n",
       "    </tr>\n",
       "  </thead>\n",
       "  <tbody>\n",
       "    <tr>\n",
       "      <th>0</th>\n",
       "      <td>0.315841</td>\n",
       "      <td>0.67116</td>\n",
       "      <td>0.446887</td>\n",
       "      <td>0.71298</td>\n",
       "      <td>0.196987</td>\n",
       "      <td>0.579441</td>\n",
       "    </tr>\n",
       "  </tbody>\n",
       "</table>\n",
       "</div>"
      ],
      "text/plain": [
       "          0        1         2        3         4         5\n",
       "0  0.315841  0.67116  0.446887  0.71298  0.196987  0.579441"
      ]
     },
     "execution_count": 95,
     "metadata": {},
     "output_type": "execute_result"
    }
   ],
   "source": [
    "prediction   #eye"
   ]
  },
  {
   "cell_type": "code",
   "execution_count": 97,
   "id": "46e913c4",
   "metadata": {},
   "outputs": [
    {
     "data": {
      "text/html": [
       "<div>\n",
       "<style scoped>\n",
       "    .dataframe tbody tr th:only-of-type {\n",
       "        vertical-align: middle;\n",
       "    }\n",
       "\n",
       "    .dataframe tbody tr th {\n",
       "        vertical-align: top;\n",
       "    }\n",
       "\n",
       "    .dataframe thead th {\n",
       "        text-align: right;\n",
       "    }\n",
       "</style>\n",
       "<table border=\"1\" class=\"dataframe\">\n",
       "  <thead>\n",
       "    <tr style=\"text-align: right;\">\n",
       "      <th></th>\n",
       "      <th>0</th>\n",
       "      <th>1</th>\n",
       "      <th>2</th>\n",
       "      <th>3</th>\n",
       "      <th>4</th>\n",
       "      <th>5</th>\n",
       "      <th>6</th>\n",
       "      <th>7</th>\n",
       "    </tr>\n",
       "  </thead>\n",
       "  <tbody>\n",
       "    <tr>\n",
       "      <th>0</th>\n",
       "      <td>0.662556</td>\n",
       "      <td>-0.009613</td>\n",
       "      <td>0.293989</td>\n",
       "      <td>0.714866</td>\n",
       "      <td>0.726981</td>\n",
       "      <td>0.863599</td>\n",
       "      <td>0.667635</td>\n",
       "      <td>0.795339</td>\n",
       "    </tr>\n",
       "  </tbody>\n",
       "</table>\n",
       "</div>"
      ],
      "text/plain": [
       "          0         1         2         3         4         5         6  \\\n",
       "0  0.662556 -0.009613  0.293989  0.714866  0.726981  0.863599  0.667635   \n",
       "\n",
       "          7  \n",
       "0  0.795339  "
      ]
     },
     "execution_count": 97,
     "metadata": {},
     "output_type": "execute_result"
    }
   ],
   "source": [
    "prediction   #nose"
   ]
  },
  {
   "cell_type": "code",
   "execution_count": 99,
   "id": "f20b7269",
   "metadata": {},
   "outputs": [
    {
     "data": {
      "text/html": [
       "<div>\n",
       "<style scoped>\n",
       "    .dataframe tbody tr th:only-of-type {\n",
       "        vertical-align: middle;\n",
       "    }\n",
       "\n",
       "    .dataframe tbody tr th {\n",
       "        vertical-align: top;\n",
       "    }\n",
       "\n",
       "    .dataframe thead th {\n",
       "        text-align: right;\n",
       "    }\n",
       "</style>\n",
       "<table border=\"1\" class=\"dataframe\">\n",
       "  <thead>\n",
       "    <tr style=\"text-align: right;\">\n",
       "      <th></th>\n",
       "      <th>0</th>\n",
       "      <th>1</th>\n",
       "      <th>2</th>\n",
       "      <th>3</th>\n",
       "    </tr>\n",
       "  </thead>\n",
       "  <tbody>\n",
       "    <tr>\n",
       "      <th>0</th>\n",
       "      <td>0.804053</td>\n",
       "      <td>0.188137</td>\n",
       "      <td>0.472745</td>\n",
       "      <td>0.702762</td>\n",
       "    </tr>\n",
       "  </tbody>\n",
       "</table>\n",
       "</div>"
      ],
      "text/plain": [
       "          0         1         2         3\n",
       "0  0.804053  0.188137  0.472745  0.702762"
      ]
     },
     "execution_count": 99,
     "metadata": {},
     "output_type": "execute_result"
    }
   ],
   "source": [
    "prediction   #mouth"
   ]
  },
  {
   "cell_type": "code",
   "execution_count": 101,
   "id": "44df5530",
   "metadata": {
    "scrolled": false
   },
   "outputs": [
    {
     "data": {
      "text/html": [
       "<div>\n",
       "<style scoped>\n",
       "    .dataframe tbody tr th:only-of-type {\n",
       "        vertical-align: middle;\n",
       "    }\n",
       "\n",
       "    .dataframe tbody tr th {\n",
       "        vertical-align: top;\n",
       "    }\n",
       "\n",
       "    .dataframe thead th {\n",
       "        text-align: right;\n",
       "    }\n",
       "</style>\n",
       "<table border=\"1\" class=\"dataframe\">\n",
       "  <thead>\n",
       "    <tr style=\"text-align: right;\">\n",
       "      <th></th>\n",
       "      <th>0</th>\n",
       "      <th>1</th>\n",
       "      <th>2</th>\n",
       "      <th>3</th>\n",
       "    </tr>\n",
       "  </thead>\n",
       "  <tbody>\n",
       "    <tr>\n",
       "      <th>0</th>\n",
       "      <td>0.526116</td>\n",
       "      <td>0.603691</td>\n",
       "      <td>0.194428</td>\n",
       "      <td>0.453217</td>\n",
       "    </tr>\n",
       "  </tbody>\n",
       "</table>\n",
       "</div>"
      ],
      "text/plain": [
       "          0         1         2         3\n",
       "0  0.526116  0.603691  0.194428  0.453217"
      ]
     },
     "execution_count": 101,
     "metadata": {},
     "output_type": "execute_result"
    }
   ],
   "source": [
    "prediction #jaws"
   ]
  },
  {
   "cell_type": "code",
   "execution_count": null,
   "id": "287f8702",
   "metadata": {},
   "outputs": [],
   "source": []
  },
  {
   "cell_type": "code",
   "execution_count": 70,
   "id": "42102844",
   "metadata": {
    "scrolled": false
   },
   "outputs": [],
   "source": [
    "# tey_eye"
   ]
  },
  {
   "cell_type": "code",
   "execution_count": 103,
   "id": "b1e9d718",
   "metadata": {
    "scrolled": true
   },
   "outputs": [],
   "source": [
    "# mae = mean_absolute_error(tey_nose, y_pred)\n",
    "# mae"
   ]
  }
 ],
 "metadata": {
  "kernelspec": {
   "display_name": "Python 3 (ipykernel)",
   "language": "python",
   "name": "python3"
  },
  "language_info": {
   "codemirror_mode": {
    "name": "ipython",
    "version": 3
   },
   "file_extension": ".py",
   "mimetype": "text/x-python",
   "name": "python",
   "nbconvert_exporter": "python",
   "pygments_lexer": "ipython3",
   "version": "3.10.9"
  }
 },
 "nbformat": 4,
 "nbformat_minor": 5
}

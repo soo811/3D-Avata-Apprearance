{
 "cells": [
  {
   "cell_type": "code",
   "execution_count": 1,
   "id": "387f5839",
   "metadata": {},
   "outputs": [],
   "source": [
    "import joblib\n",
    "import cv2\n",
    "import dlib\n",
    "import numpy as np\n",
    "import pandas as pd\n",
    "import tensorflow as tf\n",
    "\n",
    "from prediction import *\n",
    "from segment import *"
   ]
  },
  {
   "cell_type": "code",
   "execution_count": 2,
   "id": "bfcacb77",
   "metadata": {},
   "outputs": [],
   "source": [
    "train = ReadDibCsv(100, './data2/train/')\n",
    "test = ReadDibCsv(100, './data2/test/')"
   ]
  },
  {
   "cell_type": "code",
   "execution_count": 3,
   "id": "d0bc177f",
   "metadata": {},
   "outputs": [],
   "source": [
    "tr_pos, tr_eyes, tr_nose, tr_mouth, tr_jaws, tr_dist = Norm_y(train)\n",
    "te_pos, te_eyes, te_nose, te_mouth, te_jaws, te_dist = Norm_y(test)\n",
    "tr_head = tr_jaws\n",
    "te_head = te_jaws"
   ]
  },
  {
   "cell_type": "code",
   "execution_count": 4,
   "id": "ba8e0f21",
   "metadata": {},
   "outputs": [],
   "source": [
    "train = pd.read_csv('./DataSet2/Train/csv/train.csv')\n",
    "try_eye = train[['eyeSize','eyeRotation']]\n",
    "try_dist = train[['eyeDistance']]\n",
    "try_nose = train[['noseSize', 'noseWidth','noseInclination']]\n",
    "try_mouth = train[['mouthSize','lipsSize']]\n",
    "try_jaws = train[['jawsPosition', 'jawsSize', 'chinSize']]\n",
    "try_pos = train[['eyePosition', 'nosePosition', 'mouthPosition', 'chinPosition']]\n",
    "try_head = train[['headWidth']]"
   ]
  },
  {
   "cell_type": "code",
   "execution_count": 5,
   "id": "89a54b66",
   "metadata": {},
   "outputs": [],
   "source": [
    "test = pd.read_csv('./DataSet2/Test/csv/test.csv')\n",
    "tes_eye = test[['eyeSize','eyeRotation']]\n",
    "tes_dist = test[['eyeDistance']]\n",
    "tes_nose = test[['noseSize', 'noseWidth','noseInclination']]\n",
    "tes_mouth = test[['mouthSize','lipsSize']]\n",
    "tes_jaws = test[['jawsPosition', 'jawsSize', 'chinSize']]\n",
    "tes_pos = test[['eyePosition', 'nosePosition', 'mouthPosition', 'chinPosition']]\n",
    "tes_head = test[['headWidth']]"
   ]
  },
  {
   "cell_type": "code",
   "execution_count": null,
   "id": "ea6a7f3b",
   "metadata": {},
   "outputs": [],
   "source": []
  },
  {
   "cell_type": "code",
   "execution_count": 6,
   "id": "f9c8c33f",
   "metadata": {},
   "outputs": [],
   "source": [
    "pred_e = LinearTrain(tr_eyes, try_eye, te_eyes, './model/eyes.pkl')\n",
    "pred_n = LinearTrain(tr_nose, try_nose, te_nose, './model/nose.pkl')\n",
    "pred_m = LinearTrain(tr_mouth, try_mouth, te_mouth, './model/mouth.pkl')\n",
    "pred_j = LinearTrain(tr_jaws, try_jaws, te_jaws, './model/jaws.pkl')\n",
    "pred_p = LinearTrain(tr_pos, try_pos, te_pos, './model/pos.pkl')\n",
    "pred_h = LinearTrain(tr_head, try_head, te_head, './model/head.pkl')\n",
    "pred_d = LinearTrain(tr_dist, try_dist, te_dist, './model/dist.pkl')"
   ]
  },
  {
   "cell_type": "code",
   "execution_count": 8,
   "id": "009da754",
   "metadata": {},
   "outputs": [
    {
     "name": "stdout",
     "output_type": "stream",
     "text": [
      "0.07573772666701578\n"
     ]
    }
   ],
   "source": [
    "mse, mae = evaluate(tes_eye, pred_e)\n",
    "print(mae)"
   ]
  },
  {
   "cell_type": "code",
   "execution_count": 9,
   "id": "8704d840",
   "metadata": {},
   "outputs": [
    {
     "name": "stdout",
     "output_type": "stream",
     "text": [
      "0.15801015885188943\n"
     ]
    }
   ],
   "source": [
    "mse, mae = evaluate(tes_nose, pred_n)\n",
    "print(mae)"
   ]
  },
  {
   "cell_type": "code",
   "execution_count": 10,
   "id": "e3c7d6aa",
   "metadata": {},
   "outputs": [
    {
     "name": "stdout",
     "output_type": "stream",
     "text": [
      "0.08503940904355645\n"
     ]
    }
   ],
   "source": [
    "mse, mae = evaluate(tes_mouth, pred_m)\n",
    "print(mae)"
   ]
  },
  {
   "cell_type": "code",
   "execution_count": 11,
   "id": "82117bec",
   "metadata": {},
   "outputs": [
    {
     "name": "stdout",
     "output_type": "stream",
     "text": [
      "0.16826207384962646\n"
     ]
    }
   ],
   "source": [
    "mse, mae = evaluate(tes_jaws, pred_j)\n",
    "print(mae)"
   ]
  },
  {
   "cell_type": "code",
   "execution_count": 12,
   "id": "b3e4f2ac",
   "metadata": {
    "scrolled": false
   },
   "outputs": [
    {
     "name": "stdout",
     "output_type": "stream",
     "text": [
      "0.15198419378504424\n"
     ]
    }
   ],
   "source": [
    "mse, mae = evaluate(tes_pos, pred_p)\n",
    "print(mae)"
   ]
  },
  {
   "cell_type": "code",
   "execution_count": 13,
   "id": "d8f65b19",
   "metadata": {},
   "outputs": [
    {
     "name": "stdout",
     "output_type": "stream",
     "text": [
      "0.19181494163646867\n"
     ]
    }
   ],
   "source": [
    "mse, mae = evaluate(tes_head, pred_h)\n",
    "print(mae)"
   ]
  },
  {
   "cell_type": "code",
   "execution_count": 14,
   "id": "492271c6",
   "metadata": {},
   "outputs": [
    {
     "name": "stdout",
     "output_type": "stream",
     "text": [
      "0.0709155309147773\n"
     ]
    }
   ],
   "source": [
    "mse, mae = evaluate(tes_dist, pred_d)\n",
    "print(mae)"
   ]
  }
 ],
 "metadata": {
  "kernelspec": {
   "display_name": "Python 3 (ipykernel)",
   "language": "python",
   "name": "python3"
  },
  "language_info": {
   "codemirror_mode": {
    "name": "ipython",
    "version": 3
   },
   "file_extension": ".py",
   "mimetype": "text/x-python",
   "name": "python",
   "nbconvert_exporter": "python",
   "pygments_lexer": "ipython3",
   "version": "3.10.9"
  }
 },
 "nbformat": 4,
 "nbformat_minor": 5
}

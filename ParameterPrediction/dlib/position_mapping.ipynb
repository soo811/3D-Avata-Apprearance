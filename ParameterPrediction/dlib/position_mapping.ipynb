{
 "cells": [
  {
   "cell_type": "code",
   "execution_count": 2,
   "id": "baeac17d",
   "metadata": {},
   "outputs": [],
   "source": [
    "import cv2\n",
    "import matplotlib.pyplot as plt\n",
    "import numpy as np\n",
    "import pandas as pd\n",
    "import math\n",
    "import dlib\n",
    "from PIL import Image\n",
    "# from sklearn.preprocessing import MinMaxScaler"
   ]
  },
  {
   "cell_type": "code",
   "execution_count": 3,
   "id": "656c135b",
   "metadata": {},
   "outputs": [],
   "source": [
    "train_x = np.zeros((100, 4))\n",
    "for i in range(100):\n",
    "    globals()['land'+str(i)] = pd.read_csv('./headfix/train/%s.csv'%i)\n",
    "    globals()['land'+str(i)] = np.array(globals()['land'+str(i)])\n",
    "    \n",
    "    tr_x = globals()['land'+str(i)][:, 0]\n",
    "    tr_y = globals()['land'+str(i)][:, 1]\n",
    "    \n",
    "    eye_center = tr_y[42:48].mean()\n",
    "    \n",
    "    peh = tr_y[8] - eye_center\n",
    "    rate = (3.0 * peh) / 5.4\n",
    "    \n",
    "    tr_x *= rate\n",
    "    tr_y *= rate\n",
    "    \n",
    "    eye_center = tr_y[42:48].mean()\n",
    "    mouth_center = tr_y[60:68].mean()\n",
    "    \n",
    "    train_x[i][0] = eye_center\n",
    "    train_x[i][1] = tr_y[33]\n",
    "    train_x[i][2] = mouth_center\n",
    "    train_x[i][3] = tr_y[8]"
   ]
  },
  {
   "cell_type": "code",
   "execution_count": 5,
   "id": "efaa580f",
   "metadata": {},
   "outputs": [],
   "source": [
    "test_x = np.zeros((100, 4))\n",
    "for i in range(100):\n",
    "    globals()['mark'+str(i)] = pd.read_csv('./headfix/test/%s.csv'%i)\n",
    "    globals()['mark'+str(i)] = np.array(globals()['mark'+str(i)])\n",
    "    \n",
    "    te_x = globals()['mark'+str(i)][:, 0]\n",
    "    te_y = globals()['mark'+str(i)][:, 1]\n",
    "    \n",
    "    eye_center = te_y[42:48].mean()\n",
    "    \n",
    "    peh = te_y[8] - eye_center\n",
    "    rate = (3.0 * peh) / 5.4\n",
    "    \n",
    "    te_x *= rate\n",
    "    te_y *= rate\n",
    "    \n",
    "    eye_center = te_y[42:48].mean()\n",
    "    mouth_center = te_y[60:68].mean()\n",
    "    \n",
    "    test_x[i][0] = eye_center\n",
    "    test_x[i][1] = te_y[33]\n",
    "    test_x[i][2] = mouth_center\n",
    "    test_x[i][3] = te_y[8]"
   ]
  },
  {
   "cell_type": "code",
   "execution_count": 6,
   "id": "c0f2a7b7",
   "metadata": {},
   "outputs": [],
   "source": [
    "train_y = pd.read_csv('./DataSet_headfix/train/csv/train.csv')\n",
    "train_y = train_y[['eyePosition','nosePosition', 'mouthPosition','chinPosition']]\n",
    "test_y = pd.read_csv('./DataSet_headfix/test/csv/test.csv')\n",
    "test_y = test_y[['eyePosition','nosePosition', 'mouthPosition','chinPosition']]"
   ]
  },
  {
   "cell_type": "code",
   "execution_count": 7,
   "id": "3a55268b",
   "metadata": {
    "scrolled": true
   },
   "outputs": [
    {
     "data": {
      "text/html": [
       "<style>#sk-container-id-1 {color: black;background-color: white;}#sk-container-id-1 pre{padding: 0;}#sk-container-id-1 div.sk-toggleable {background-color: white;}#sk-container-id-1 label.sk-toggleable__label {cursor: pointer;display: block;width: 100%;margin-bottom: 0;padding: 0.3em;box-sizing: border-box;text-align: center;}#sk-container-id-1 label.sk-toggleable__label-arrow:before {content: \"▸\";float: left;margin-right: 0.25em;color: #696969;}#sk-container-id-1 label.sk-toggleable__label-arrow:hover:before {color: black;}#sk-container-id-1 div.sk-estimator:hover label.sk-toggleable__label-arrow:before {color: black;}#sk-container-id-1 div.sk-toggleable__content {max-height: 0;max-width: 0;overflow: hidden;text-align: left;background-color: #f0f8ff;}#sk-container-id-1 div.sk-toggleable__content pre {margin: 0.2em;color: black;border-radius: 0.25em;background-color: #f0f8ff;}#sk-container-id-1 input.sk-toggleable__control:checked~div.sk-toggleable__content {max-height: 200px;max-width: 100%;overflow: auto;}#sk-container-id-1 input.sk-toggleable__control:checked~label.sk-toggleable__label-arrow:before {content: \"▾\";}#sk-container-id-1 div.sk-estimator input.sk-toggleable__control:checked~label.sk-toggleable__label {background-color: #d4ebff;}#sk-container-id-1 div.sk-label input.sk-toggleable__control:checked~label.sk-toggleable__label {background-color: #d4ebff;}#sk-container-id-1 input.sk-hidden--visually {border: 0;clip: rect(1px 1px 1px 1px);clip: rect(1px, 1px, 1px, 1px);height: 1px;margin: -1px;overflow: hidden;padding: 0;position: absolute;width: 1px;}#sk-container-id-1 div.sk-estimator {font-family: monospace;background-color: #f0f8ff;border: 1px dotted black;border-radius: 0.25em;box-sizing: border-box;margin-bottom: 0.5em;}#sk-container-id-1 div.sk-estimator:hover {background-color: #d4ebff;}#sk-container-id-1 div.sk-parallel-item::after {content: \"\";width: 100%;border-bottom: 1px solid gray;flex-grow: 1;}#sk-container-id-1 div.sk-label:hover label.sk-toggleable__label {background-color: #d4ebff;}#sk-container-id-1 div.sk-serial::before {content: \"\";position: absolute;border-left: 1px solid gray;box-sizing: border-box;top: 0;bottom: 0;left: 50%;z-index: 0;}#sk-container-id-1 div.sk-serial {display: flex;flex-direction: column;align-items: center;background-color: white;padding-right: 0.2em;padding-left: 0.2em;position: relative;}#sk-container-id-1 div.sk-item {position: relative;z-index: 1;}#sk-container-id-1 div.sk-parallel {display: flex;align-items: stretch;justify-content: center;background-color: white;position: relative;}#sk-container-id-1 div.sk-item::before, #sk-container-id-1 div.sk-parallel-item::before {content: \"\";position: absolute;border-left: 1px solid gray;box-sizing: border-box;top: 0;bottom: 0;left: 50%;z-index: -1;}#sk-container-id-1 div.sk-parallel-item {display: flex;flex-direction: column;z-index: 1;position: relative;background-color: white;}#sk-container-id-1 div.sk-parallel-item:first-child::after {align-self: flex-end;width: 50%;}#sk-container-id-1 div.sk-parallel-item:last-child::after {align-self: flex-start;width: 50%;}#sk-container-id-1 div.sk-parallel-item:only-child::after {width: 0;}#sk-container-id-1 div.sk-dashed-wrapped {border: 1px dashed gray;margin: 0 0.4em 0.5em 0.4em;box-sizing: border-box;padding-bottom: 0.4em;background-color: white;}#sk-container-id-1 div.sk-label label {font-family: monospace;font-weight: bold;display: inline-block;line-height: 1.2em;}#sk-container-id-1 div.sk-label-container {text-align: center;}#sk-container-id-1 div.sk-container {/* jupyter's `normalize.less` sets `[hidden] { display: none; }` but bootstrap.min.css set `[hidden] { display: none !important; }` so we also need the `!important` here to be able to override the default hidden behavior on the sphinx rendered scikit-learn.org. See: https://github.com/scikit-learn/scikit-learn/issues/21755 */display: inline-block !important;position: relative;}#sk-container-id-1 div.sk-text-repr-fallback {display: none;}</style><div id=\"sk-container-id-1\" class=\"sk-top-container\"><div class=\"sk-text-repr-fallback\"><pre>LinearRegression()</pre><b>In a Jupyter environment, please rerun this cell to show the HTML representation or trust the notebook. <br />On GitHub, the HTML representation is unable to render, please try loading this page with nbviewer.org.</b></div><div class=\"sk-container\" hidden><div class=\"sk-item\"><div class=\"sk-estimator sk-toggleable\"><input class=\"sk-toggleable__control sk-hidden--visually\" id=\"sk-estimator-id-1\" type=\"checkbox\" checked><label for=\"sk-estimator-id-1\" class=\"sk-toggleable__label sk-toggleable__label-arrow\">LinearRegression</label><div class=\"sk-toggleable__content\"><pre>LinearRegression()</pre></div></div></div></div></div>"
      ],
      "text/plain": [
       "LinearRegression()"
      ]
     },
     "execution_count": 7,
     "metadata": {},
     "output_type": "execute_result"
    }
   ],
   "source": [
    "from sklearn.linear_model import LinearRegression\n",
    "\n",
    "model = LinearRegression()\n",
    "model.fit(train_x, train_y)"
   ]
  },
  {
   "cell_type": "code",
   "execution_count": 8,
   "id": "4fffc4c8",
   "metadata": {
    "scrolled": false
   },
   "outputs": [
    {
     "data": {
      "text/html": [
       "<div>\n",
       "<style scoped>\n",
       "    .dataframe tbody tr th:only-of-type {\n",
       "        vertical-align: middle;\n",
       "    }\n",
       "\n",
       "    .dataframe tbody tr th {\n",
       "        vertical-align: top;\n",
       "    }\n",
       "\n",
       "    .dataframe thead th {\n",
       "        text-align: right;\n",
       "    }\n",
       "</style>\n",
       "<table border=\"1\" class=\"dataframe\">\n",
       "  <thead>\n",
       "    <tr style=\"text-align: right;\">\n",
       "      <th></th>\n",
       "      <th>eyePosition</th>\n",
       "      <th>nosePosition</th>\n",
       "      <th>mouthPosition</th>\n",
       "      <th>chinPosition</th>\n",
       "    </tr>\n",
       "  </thead>\n",
       "  <tbody>\n",
       "    <tr>\n",
       "      <th>0</th>\n",
       "      <td>0.843222</td>\n",
       "      <td>0.601636</td>\n",
       "      <td>0.410105</td>\n",
       "      <td>0.234130</td>\n",
       "    </tr>\n",
       "    <tr>\n",
       "      <th>1</th>\n",
       "      <td>0.748591</td>\n",
       "      <td>0.692871</td>\n",
       "      <td>0.472138</td>\n",
       "      <td>0.164475</td>\n",
       "    </tr>\n",
       "    <tr>\n",
       "      <th>2</th>\n",
       "      <td>0.234592</td>\n",
       "      <td>0.594336</td>\n",
       "      <td>0.871192</td>\n",
       "      <td>0.444717</td>\n",
       "    </tr>\n",
       "    <tr>\n",
       "      <th>3</th>\n",
       "      <td>0.461090</td>\n",
       "      <td>0.868024</td>\n",
       "      <td>0.140537</td>\n",
       "      <td>0.277922</td>\n",
       "    </tr>\n",
       "    <tr>\n",
       "      <th>4</th>\n",
       "      <td>0.995825</td>\n",
       "      <td>0.341214</td>\n",
       "      <td>-0.222366</td>\n",
       "      <td>0.234476</td>\n",
       "    </tr>\n",
       "    <tr>\n",
       "      <th>...</th>\n",
       "      <td>...</td>\n",
       "      <td>...</td>\n",
       "      <td>...</td>\n",
       "      <td>...</td>\n",
       "    </tr>\n",
       "    <tr>\n",
       "      <th>95</th>\n",
       "      <td>0.318320</td>\n",
       "      <td>0.214688</td>\n",
       "      <td>0.591100</td>\n",
       "      <td>0.741161</td>\n",
       "    </tr>\n",
       "    <tr>\n",
       "      <th>96</th>\n",
       "      <td>1.007169</td>\n",
       "      <td>0.661092</td>\n",
       "      <td>0.703131</td>\n",
       "      <td>0.162658</td>\n",
       "    </tr>\n",
       "    <tr>\n",
       "      <th>97</th>\n",
       "      <td>0.454133</td>\n",
       "      <td>0.576022</td>\n",
       "      <td>0.664910</td>\n",
       "      <td>0.440721</td>\n",
       "    </tr>\n",
       "    <tr>\n",
       "      <th>98</th>\n",
       "      <td>0.762679</td>\n",
       "      <td>0.711616</td>\n",
       "      <td>0.667132</td>\n",
       "      <td>0.282124</td>\n",
       "    </tr>\n",
       "    <tr>\n",
       "      <th>99</th>\n",
       "      <td>0.888795</td>\n",
       "      <td>0.450148</td>\n",
       "      <td>0.148511</td>\n",
       "      <td>0.666760</td>\n",
       "    </tr>\n",
       "  </tbody>\n",
       "</table>\n",
       "<p>100 rows × 4 columns</p>\n",
       "</div>"
      ],
      "text/plain": [
       "    eyePosition  nosePosition  mouthPosition  chinPosition\n",
       "0      0.843222      0.601636       0.410105      0.234130\n",
       "1      0.748591      0.692871       0.472138      0.164475\n",
       "2      0.234592      0.594336       0.871192      0.444717\n",
       "3      0.461090      0.868024       0.140537      0.277922\n",
       "4      0.995825      0.341214      -0.222366      0.234476\n",
       "..          ...           ...            ...           ...\n",
       "95     0.318320      0.214688       0.591100      0.741161\n",
       "96     1.007169      0.661092       0.703131      0.162658\n",
       "97     0.454133      0.576022       0.664910      0.440721\n",
       "98     0.762679      0.711616       0.667132      0.282124\n",
       "99     0.888795      0.450148       0.148511      0.666760\n",
       "\n",
       "[100 rows x 4 columns]"
      ]
     },
     "execution_count": 8,
     "metadata": {},
     "output_type": "execute_result"
    }
   ],
   "source": [
    "pred = model.predict(test_x)\n",
    "df = pd.DataFrame(pred)\n",
    "df.columns = ['eyePosition','nosePosition', 'mouthPosition','chinPosition']\n",
    "df"
   ]
  },
  {
   "cell_type": "code",
   "execution_count": 9,
   "id": "cd167ff0",
   "metadata": {
    "scrolled": false
   },
   "outputs": [
    {
     "data": {
      "text/html": [
       "<div>\n",
       "<style scoped>\n",
       "    .dataframe tbody tr th:only-of-type {\n",
       "        vertical-align: middle;\n",
       "    }\n",
       "\n",
       "    .dataframe tbody tr th {\n",
       "        vertical-align: top;\n",
       "    }\n",
       "\n",
       "    .dataframe thead th {\n",
       "        text-align: right;\n",
       "    }\n",
       "</style>\n",
       "<table border=\"1\" class=\"dataframe\">\n",
       "  <thead>\n",
       "    <tr style=\"text-align: right;\">\n",
       "      <th></th>\n",
       "      <th>eyePosition</th>\n",
       "      <th>nosePosition</th>\n",
       "      <th>mouthPosition</th>\n",
       "      <th>chinPosition</th>\n",
       "    </tr>\n",
       "  </thead>\n",
       "  <tbody>\n",
       "    <tr>\n",
       "      <th>0</th>\n",
       "      <td>0.803788</td>\n",
       "      <td>0.721718</td>\n",
       "      <td>0.392501</td>\n",
       "      <td>0.491161</td>\n",
       "    </tr>\n",
       "    <tr>\n",
       "      <th>1</th>\n",
       "      <td>0.674915</td>\n",
       "      <td>0.753630</td>\n",
       "      <td>0.355023</td>\n",
       "      <td>0.402001</td>\n",
       "    </tr>\n",
       "    <tr>\n",
       "      <th>2</th>\n",
       "      <td>0.290253</td>\n",
       "      <td>0.578007</td>\n",
       "      <td>0.824806</td>\n",
       "      <td>0.396930</td>\n",
       "    </tr>\n",
       "    <tr>\n",
       "      <th>3</th>\n",
       "      <td>0.451005</td>\n",
       "      <td>0.845956</td>\n",
       "      <td>0.166335</td>\n",
       "      <td>0.364528</td>\n",
       "    </tr>\n",
       "    <tr>\n",
       "      <th>4</th>\n",
       "      <td>0.966414</td>\n",
       "      <td>0.194852</td>\n",
       "      <td>0.023518</td>\n",
       "      <td>0.108473</td>\n",
       "    </tr>\n",
       "    <tr>\n",
       "      <th>...</th>\n",
       "      <td>...</td>\n",
       "      <td>...</td>\n",
       "      <td>...</td>\n",
       "      <td>...</td>\n",
       "    </tr>\n",
       "    <tr>\n",
       "      <th>95</th>\n",
       "      <td>0.275213</td>\n",
       "      <td>0.178621</td>\n",
       "      <td>0.609101</td>\n",
       "      <td>0.889499</td>\n",
       "    </tr>\n",
       "    <tr>\n",
       "      <th>96</th>\n",
       "      <td>0.926808</td>\n",
       "      <td>0.618005</td>\n",
       "      <td>0.687679</td>\n",
       "      <td>0.172274</td>\n",
       "    </tr>\n",
       "    <tr>\n",
       "      <th>97</th>\n",
       "      <td>0.543013</td>\n",
       "      <td>0.568016</td>\n",
       "      <td>0.617004</td>\n",
       "      <td>0.628475</td>\n",
       "    </tr>\n",
       "    <tr>\n",
       "      <th>98</th>\n",
       "      <td>0.768543</td>\n",
       "      <td>0.863081</td>\n",
       "      <td>0.740736</td>\n",
       "      <td>0.254508</td>\n",
       "    </tr>\n",
       "    <tr>\n",
       "      <th>99</th>\n",
       "      <td>0.991164</td>\n",
       "      <td>0.490418</td>\n",
       "      <td>0.217863</td>\n",
       "      <td>0.689875</td>\n",
       "    </tr>\n",
       "  </tbody>\n",
       "</table>\n",
       "<p>100 rows × 4 columns</p>\n",
       "</div>"
      ],
      "text/plain": [
       "    eyePosition  nosePosition  mouthPosition  chinPosition\n",
       "0      0.803788      0.721718       0.392501      0.491161\n",
       "1      0.674915      0.753630       0.355023      0.402001\n",
       "2      0.290253      0.578007       0.824806      0.396930\n",
       "3      0.451005      0.845956       0.166335      0.364528\n",
       "4      0.966414      0.194852       0.023518      0.108473\n",
       "..          ...           ...            ...           ...\n",
       "95     0.275213      0.178621       0.609101      0.889499\n",
       "96     0.926808      0.618005       0.687679      0.172274\n",
       "97     0.543013      0.568016       0.617004      0.628475\n",
       "98     0.768543      0.863081       0.740736      0.254508\n",
       "99     0.991164      0.490418       0.217863      0.689875\n",
       "\n",
       "[100 rows x 4 columns]"
      ]
     },
     "execution_count": 9,
     "metadata": {},
     "output_type": "execute_result"
    }
   ],
   "source": [
    "test_y"
   ]
  },
  {
   "cell_type": "code",
   "execution_count": 10,
   "id": "37736b86",
   "metadata": {},
   "outputs": [
    {
     "name": "stdout",
     "output_type": "stream",
     "text": [
      "0.13034380386046632\n"
     ]
    }
   ],
   "source": [
    "from sklearn.metrics import mean_squared_error\n",
    "rmse = mean_squared_error(test_y, pred)**0.5\n",
    "print(rmse)"
   ]
  },
  {
   "cell_type": "code",
   "execution_count": 11,
   "id": "5663fc5c",
   "metadata": {},
   "outputs": [
    {
     "data": {
      "text/plain": [
       "0.0958689448507911"
      ]
     },
     "execution_count": 11,
     "metadata": {},
     "output_type": "execute_result"
    }
   ],
   "source": [
    "from sklearn.metrics import mean_absolute_error\n",
    "mae = mean_absolute_error(test_y, pred)\n",
    "\n",
    "mae"
   ]
  }
 ],
 "metadata": {
  "kernelspec": {
   "display_name": "Python 3 (ipykernel)",
   "language": "python",
   "name": "python3"
  },
  "language_info": {
   "codemirror_mode": {
    "name": "ipython",
    "version": 3
   },
   "file_extension": ".py",
   "mimetype": "text/x-python",
   "name": "python",
   "nbconvert_exporter": "python",
   "pygments_lexer": "ipython3",
   "version": "3.10.9"
  }
 },
 "nbformat": 4,
 "nbformat_minor": 5
}

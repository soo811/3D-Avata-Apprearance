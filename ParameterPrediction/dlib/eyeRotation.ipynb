{
 "cells": [
  {
   "cell_type": "code",
   "execution_count": 1,
   "id": "be0ce81f",
   "metadata": {},
   "outputs": [],
   "source": [
    "## 턱과 같은 인덱스\n",
    "import cv2\n",
    "import numpy as np\n",
    "import pandas as pd\n",
    "import tensorflow as tf\n",
    "import math\n",
    "\n",
    "from prediction import *\n",
    "\n",
    "from sklearn.linear_model import LinearRegression\n",
    "from sklearn.metrics import mean_absolute_error"
   ]
  },
  {
   "cell_type": "code",
   "execution_count": 2,
   "id": "f52af0e2",
   "metadata": {},
   "outputs": [],
   "source": [
    "train = ReadDibCsv(100, './data2/train/')\n",
    "test = ReadDibCsv(100, './data2/test/')"
   ]
  },
  {
   "cell_type": "code",
   "execution_count": 21,
   "id": "5b70c312",
   "metadata": {},
   "outputs": [],
   "source": [
    "eye = np.zeros((100, 1))\n",
    "for i in range(100):\n",
    "    x = train[i,:,0]\n",
    "    y = train[i,:,1]\n",
    "    \n",
    "    minx = min(x)\n",
    "    miny = min(y)\n",
    "    maxy = max(y)\n",
    "\n",
    "    # normalization\n",
    "    height = (maxy - miny)\n",
    "    norm_x = (x - minx) / height\n",
    "    norm_y = (y - miny) / height\n",
    "    \n",
    "    x1 = norm_x[42]\n",
    "    y1 = norm_y[42]\n",
    "    x2 = norm_x[45]\n",
    "    y2 = norm_y[45]\n",
    "    \n",
    "    rad = math.atan2(y2-y1, x2-x1)\n",
    "    PI = math.pi\n",
    "    deg = (rad*180)/PI\n",
    "    \n",
    "    eye[i] = deg"
   ]
  },
  {
   "cell_type": "code",
   "execution_count": 22,
   "id": "dc16be9b",
   "metadata": {},
   "outputs": [],
   "source": [
    "eye_t = np.zeros((100, 1))\n",
    "for i in range(100):\n",
    "    x = test[i,:,0]\n",
    "    y = test[i,:,1]\n",
    "    \n",
    "    minx = min(x)\n",
    "    miny = min(y)\n",
    "    maxy = max(y)\n",
    "\n",
    "    # normalization\n",
    "    height = (maxy - miny)\n",
    "    norm_x = (x - minx) / height\n",
    "    norm_y = (y - miny) / height\n",
    "        \n",
    "    x1 = norm_x[42]\n",
    "    y1 = norm_y[42]\n",
    "    x2 = norm_x[45]\n",
    "    y2 = norm_y[45]\n",
    "    \n",
    "    rad = math.atan2(y2-y1, x2-x1)\n",
    "    PI = math.pi\n",
    "    deg = (rad*180)/PI\n",
    "    \n",
    "    eye_t[i] = deg"
   ]
  },
  {
   "cell_type": "code",
   "execution_count": 23,
   "id": "d7e14de7",
   "metadata": {},
   "outputs": [],
   "source": [
    "train_y = pd.read_csv('./DataSet2/Train/csv/train.csv')\n",
    "train_y = train_y[['eyeRotation']]\n",
    "test_y = pd.read_csv('./DataSet2/Test/csv/test.csv')\n",
    "test_y = test_y[['eyeRotation']]"
   ]
  },
  {
   "cell_type": "code",
   "execution_count": 24,
   "id": "9ef59fcd",
   "metadata": {
    "scrolled": true
   },
   "outputs": [
    {
     "data": {
      "text/html": [
       "<div>\n",
       "<style scoped>\n",
       "    .dataframe tbody tr th:only-of-type {\n",
       "        vertical-align: middle;\n",
       "    }\n",
       "\n",
       "    .dataframe tbody tr th {\n",
       "        vertical-align: top;\n",
       "    }\n",
       "\n",
       "    .dataframe thead th {\n",
       "        text-align: right;\n",
       "    }\n",
       "</style>\n",
       "<table border=\"1\" class=\"dataframe\">\n",
       "  <thead>\n",
       "    <tr style=\"text-align: right;\">\n",
       "      <th></th>\n",
       "      <th>eyeRotation</th>\n",
       "    </tr>\n",
       "  </thead>\n",
       "  <tbody>\n",
       "    <tr>\n",
       "      <th>0</th>\n",
       "      <td>0.551922</td>\n",
       "    </tr>\n",
       "    <tr>\n",
       "      <th>1</th>\n",
       "      <td>0.512920</td>\n",
       "    </tr>\n",
       "    <tr>\n",
       "      <th>2</th>\n",
       "      <td>0.483833</td>\n",
       "    </tr>\n",
       "    <tr>\n",
       "      <th>3</th>\n",
       "      <td>0.495478</td>\n",
       "    </tr>\n",
       "    <tr>\n",
       "      <th>4</th>\n",
       "      <td>0.545127</td>\n",
       "    </tr>\n",
       "    <tr>\n",
       "      <th>...</th>\n",
       "      <td>...</td>\n",
       "    </tr>\n",
       "    <tr>\n",
       "      <th>95</th>\n",
       "      <td>0.397291</td>\n",
       "    </tr>\n",
       "    <tr>\n",
       "      <th>96</th>\n",
       "      <td>0.518398</td>\n",
       "    </tr>\n",
       "    <tr>\n",
       "      <th>97</th>\n",
       "      <td>0.399771</td>\n",
       "    </tr>\n",
       "    <tr>\n",
       "      <th>98</th>\n",
       "      <td>0.457974</td>\n",
       "    </tr>\n",
       "    <tr>\n",
       "      <th>99</th>\n",
       "      <td>0.492967</td>\n",
       "    </tr>\n",
       "  </tbody>\n",
       "</table>\n",
       "<p>100 rows × 1 columns</p>\n",
       "</div>"
      ],
      "text/plain": [
       "    eyeRotation\n",
       "0      0.551922\n",
       "1      0.512920\n",
       "2      0.483833\n",
       "3      0.495478\n",
       "4      0.545127\n",
       "..          ...\n",
       "95     0.397291\n",
       "96     0.518398\n",
       "97     0.399771\n",
       "98     0.457974\n",
       "99     0.492967\n",
       "\n",
       "[100 rows x 1 columns]"
      ]
     },
     "execution_count": 24,
     "metadata": {},
     "output_type": "execute_result"
    }
   ],
   "source": [
    "model = LinearRegression()\n",
    "model.fit(eye, train_y)\n",
    "pred = model.predict(eye_t)\n",
    "df = pd.DataFrame(pred)\n",
    "df.columns = ['eyeRotation']\n",
    "df"
   ]
  },
  {
   "cell_type": "code",
   "execution_count": 26,
   "id": "3f2664eb",
   "metadata": {},
   "outputs": [
    {
     "data": {
      "text/html": [
       "<div>\n",
       "<style scoped>\n",
       "    .dataframe tbody tr th:only-of-type {\n",
       "        vertical-align: middle;\n",
       "    }\n",
       "\n",
       "    .dataframe tbody tr th {\n",
       "        vertical-align: top;\n",
       "    }\n",
       "\n",
       "    .dataframe thead th {\n",
       "        text-align: right;\n",
       "    }\n",
       "</style>\n",
       "<table border=\"1\" class=\"dataframe\">\n",
       "  <thead>\n",
       "    <tr style=\"text-align: right;\">\n",
       "      <th></th>\n",
       "      <th>eyeRotation</th>\n",
       "    </tr>\n",
       "  </thead>\n",
       "  <tbody>\n",
       "    <tr>\n",
       "      <th>0</th>\n",
       "      <td>0.620926</td>\n",
       "    </tr>\n",
       "    <tr>\n",
       "      <th>1</th>\n",
       "      <td>0.591264</td>\n",
       "    </tr>\n",
       "    <tr>\n",
       "      <th>2</th>\n",
       "      <td>0.494820</td>\n",
       "    </tr>\n",
       "    <tr>\n",
       "      <th>3</th>\n",
       "      <td>0.510007</td>\n",
       "    </tr>\n",
       "    <tr>\n",
       "      <th>4</th>\n",
       "      <td>0.520269</td>\n",
       "    </tr>\n",
       "    <tr>\n",
       "      <th>...</th>\n",
       "      <td>...</td>\n",
       "    </tr>\n",
       "    <tr>\n",
       "      <th>95</th>\n",
       "      <td>0.387597</td>\n",
       "    </tr>\n",
       "    <tr>\n",
       "      <th>96</th>\n",
       "      <td>0.428771</td>\n",
       "    </tr>\n",
       "    <tr>\n",
       "      <th>97</th>\n",
       "      <td>0.398517</td>\n",
       "    </tr>\n",
       "    <tr>\n",
       "      <th>98</th>\n",
       "      <td>0.465614</td>\n",
       "    </tr>\n",
       "    <tr>\n",
       "      <th>99</th>\n",
       "      <td>0.509509</td>\n",
       "    </tr>\n",
       "  </tbody>\n",
       "</table>\n",
       "<p>100 rows × 1 columns</p>\n",
       "</div>"
      ],
      "text/plain": [
       "    eyeRotation\n",
       "0      0.620926\n",
       "1      0.591264\n",
       "2      0.494820\n",
       "3      0.510007\n",
       "4      0.520269\n",
       "..          ...\n",
       "95     0.387597\n",
       "96     0.428771\n",
       "97     0.398517\n",
       "98     0.465614\n",
       "99     0.509509\n",
       "\n",
       "[100 rows x 1 columns]"
      ]
     },
     "execution_count": 26,
     "metadata": {},
     "output_type": "execute_result"
    }
   ],
   "source": [
    "test_y"
   ]
  },
  {
   "cell_type": "code",
   "execution_count": 25,
   "id": "13cda993",
   "metadata": {},
   "outputs": [
    {
     "data": {
      "text/plain": [
       "0.08420758589505266"
      ]
     },
     "execution_count": 25,
     "metadata": {},
     "output_type": "execute_result"
    }
   ],
   "source": [
    "mae = mean_absolute_error(test_y, pred)\n",
    "mae"
   ]
  },
  {
   "cell_type": "code",
   "execution_count": null,
   "id": "5a2379f0",
   "metadata": {},
   "outputs": [],
   "source": []
  }
 ],
 "metadata": {
  "kernelspec": {
   "display_name": "Python 3 (ipykernel)",
   "language": "python",
   "name": "python3"
  },
  "language_info": {
   "codemirror_mode": {
    "name": "ipython",
    "version": 3
   },
   "file_extension": ".py",
   "mimetype": "text/x-python",
   "name": "python",
   "nbconvert_exporter": "python",
   "pygments_lexer": "ipython3",
   "version": "3.10.9"
  }
 },
 "nbformat": 4,
 "nbformat_minor": 5
}

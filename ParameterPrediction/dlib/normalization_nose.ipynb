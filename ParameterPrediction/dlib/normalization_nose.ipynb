{
 "cells": [
  {
   "cell_type": "code",
   "execution_count": 35,
   "id": "c0ae0ad5",
   "metadata": {},
   "outputs": [],
   "source": [
    "import cv2\n",
    "import numpy as np\n",
    "import dlib\n",
    "import matplotlib.pyplot as plt\n",
    "import pandas as pd"
   ]
  },
  {
   "cell_type": "code",
   "execution_count": null,
   "id": "82db0653",
   "metadata": {
    "scrolled": true
   },
   "outputs": [],
   "source": [
    "for i in range(100):\n",
    "    face_path = './dataset/train/img/%s.png'%i\n",
    "    face_origin = cv2.imread(face_path)\n",
    "    face_copy = face_origin.copy()\n",
    "    face_rgb = cv2.cvtColor(face_copy, cv2.COLOR_BGR2RGB)\n",
    "    \n",
    "    detector = dlib.get_frontal_face_detector()\n",
    "    dlib_rects = detector(face_rgb, 1)\n",
    "    \n",
    "    img_how_rgb = cv2.cvtColor(face_copy, cv2.COLOR_BGR2RGB)\n",
    "    \n",
    "    predictor = dlib.shape_predictor(\"shape_predictor_68_face_landmarks.dat\")\n",
    "    \n",
    "    globals()['height'+str(i)] = face_origin.shape[0]\n",
    "    \n",
    "    globals()['img'+str(i)] = []\n",
    "    \n",
    "    for dlib_rect in dlib_rects:\n",
    "        points = predictor(face_rgb, dlib_rect)\n",
    "        list_points = list(map(lambda p: [p.x, p.y], points.parts()))\n",
    "        globals()['img'+str(i)].append(list_points)\n",
    "        globals()['img'+str(i)] = np.array(globals()['img'+str(i)])"
   ]
  },
  {
   "cell_type": "code",
   "execution_count": 20,
   "id": "021d9d4b",
   "metadata": {
    "scrolled": true
   },
   "outputs": [
    {
     "data": {
      "text/plain": [
       "(1080, 800, 3)"
      ]
     },
     "execution_count": 20,
     "metadata": {},
     "output_type": "execute_result"
    }
   ],
   "source": [
    "face_origin.shape"
   ]
  },
  {
   "cell_type": "code",
   "execution_count": 21,
   "id": "1588514e",
   "metadata": {},
   "outputs": [],
   "source": [
    "for i in range(100):\n",
    "    land = np.zeros((68,2))\n",
    "    \n",
    "    for j in range(68):\n",
    "        land[j][0] = globals()['img'+str(i)][0][j][0]\n",
    "        land[j][1] = globals()['img'+str(i)][0][j][1]\n",
    "        \n",
    "    x = land[:,0]\n",
    "    y = land[:,1] * (-1) + globals()['height'+str(i)]\n",
    "    \n",
    "    x -= ((min(x) + max(x)) / 2)\n",
    "    y -= ((min(y) + max(y)) / 2)\n",
    "    \n",
    "    norm_x = (x - min(x)) / (max(y)-min(y))\n",
    "    norm_y = (y - min(y)) / (max(y)-min(y))\n",
    "    \n",
    "    globals()['norm'+str(i)] = np.column_stack((norm_x, norm_y))"
   ]
  },
  {
   "cell_type": "code",
   "execution_count": 22,
   "id": "6a12305e",
   "metadata": {},
   "outputs": [],
   "source": [
    "# xyxyxyxyxyxyxy(0~16)\n",
    "for i in range(100):\n",
    "    globals()['norm'+str(i)] = globals()['norm'+str(i)][27:36]\n",
    "    globals()['norm'+str(i)] = globals()['norm'+str(i)].flatten()"
   ]
  },
  {
   "cell_type": "code",
   "execution_count": 23,
   "id": "85a6c2f7",
   "metadata": {},
   "outputs": [],
   "source": [
    "train_x = np.zeros((100, len(norm0)))\n",
    "for i in range(100):\n",
    "    for j in range(len(norm0)):\n",
    "        train_x[i][j] = globals()['norm'+str(i)][j]   "
   ]
  },
  {
   "cell_type": "code",
   "execution_count": 24,
   "id": "463bfc13",
   "metadata": {},
   "outputs": [],
   "source": [
    "for i in range(100):\n",
    "    face_path = './dataset/test/img/%s.png'%i\n",
    "    face_origin = cv2.imread(face_path)\n",
    "    face_copy = face_origin.copy()\n",
    "    face_rgb = cv2.cvtColor(face_copy, cv2.COLOR_BGR2RGB)\n",
    "    \n",
    "    detector = dlib.get_frontal_face_detector()\n",
    "    dlib_rects = detector(face_rgb, 1)\n",
    "    \n",
    "    img_how_rgb = cv2.cvtColor(face_copy, cv2.COLOR_BGR2RGB)\n",
    "    \n",
    "    predictor = dlib.shape_predictor(\"shape_predictor_68_face_landmarks.dat\")\n",
    "    \n",
    "    globals()['height'+str(i)] = face_origin.shape[0]\n",
    "    \n",
    "    globals()['img'+str(i)] = []\n",
    "    \n",
    "    for dlib_rect in dlib_rects:\n",
    "        points = predictor(face_rgb, dlib_rect)\n",
    "        list_points = list(map(lambda p: [p.x, p.y], points.parts()))\n",
    "        globals()['img'+str(i)].append(list_points)\n",
    "        globals()['img'+str(i)] = np.array(globals()['img'+str(i)])"
   ]
  },
  {
   "cell_type": "code",
   "execution_count": 25,
   "id": "b49b8320",
   "metadata": {},
   "outputs": [],
   "source": [
    "for i in range(100):\n",
    "    land = np.zeros((68,2))\n",
    "    \n",
    "    for j in range(68):\n",
    "        land[j][0] = globals()['img'+str(i)][0][j][0]\n",
    "        land[j][1] = globals()['img'+str(i)][0][j][1]\n",
    "        \n",
    "    x = land[:,0]\n",
    "    y = land[:,1] * (-1) + globals()['height'+str(i)]\n",
    "    \n",
    "    x -= ((min(x) + max(x)) / 2)\n",
    "    y -= ((min(y) + max(y)) / 2)\n",
    "    \n",
    "    norm_x = (x - min(x)) / (max(y)-min(y))\n",
    "    norm_y = (y - min(y)) / (max(y)-min(y))\n",
    "    \n",
    "    globals()['norm'+str(i)] = np.column_stack((norm_x, norm_y))"
   ]
  },
  {
   "cell_type": "code",
   "execution_count": 26,
   "id": "7d100baf",
   "metadata": {},
   "outputs": [],
   "source": [
    "# xyxyxyxyxyxyxy(0~16)\n",
    "for i in range(100):\n",
    "    globals()['norm'+str(i)] = globals()['norm'+str(i)][27:36]\n",
    "    globals()['norm'+str(i)] = globals()['norm'+str(i)].flatten()"
   ]
  },
  {
   "cell_type": "code",
   "execution_count": 27,
   "id": "0eaa80db",
   "metadata": {},
   "outputs": [],
   "source": [
    "test_x = np.zeros((100, len(norm0)))\n",
    "for i in range(100):\n",
    "    for j in range(len(norm0)):\n",
    "        test_x[i][j] = globals()['norm'+str(i)][j]   "
   ]
  },
  {
   "cell_type": "code",
   "execution_count": null,
   "id": "e5cdd90d",
   "metadata": {},
   "outputs": [],
   "source": []
  },
  {
   "cell_type": "code",
   "execution_count": 28,
   "id": "43a59475",
   "metadata": {},
   "outputs": [],
   "source": [
    "train_y = pd.read_csv('./dataset/train/train.csv')\n",
    "train_y = train_y.iloc[:, 22:30]\n",
    "test_y = pd.read_csv('./dataset/test/test.csv')\n",
    "test_y = test_y.iloc[:, 22:30]"
   ]
  },
  {
   "cell_type": "code",
   "execution_count": 12,
   "id": "baeca788",
   "metadata": {},
   "outputs": [],
   "source": [
    "# train_y = train_y.drop(['noseFlatten','nosePronounced','noseBridge','noseCurve'], axis=1)\n",
    "# test_y = test_y.drop(['noseFlatten','nosePronounced','noseBridge','noseCurve'], axis=1)"
   ]
  },
  {
   "cell_type": "code",
   "execution_count": null,
   "id": "b377be63",
   "metadata": {},
   "outputs": [],
   "source": []
  },
  {
   "cell_type": "code",
   "execution_count": 29,
   "id": "470daed0",
   "metadata": {},
   "outputs": [
    {
     "data": {
      "text/html": [
       "<style>#sk-container-id-3 {color: black;background-color: white;}#sk-container-id-3 pre{padding: 0;}#sk-container-id-3 div.sk-toggleable {background-color: white;}#sk-container-id-3 label.sk-toggleable__label {cursor: pointer;display: block;width: 100%;margin-bottom: 0;padding: 0.3em;box-sizing: border-box;text-align: center;}#sk-container-id-3 label.sk-toggleable__label-arrow:before {content: \"▸\";float: left;margin-right: 0.25em;color: #696969;}#sk-container-id-3 label.sk-toggleable__label-arrow:hover:before {color: black;}#sk-container-id-3 div.sk-estimator:hover label.sk-toggleable__label-arrow:before {color: black;}#sk-container-id-3 div.sk-toggleable__content {max-height: 0;max-width: 0;overflow: hidden;text-align: left;background-color: #f0f8ff;}#sk-container-id-3 div.sk-toggleable__content pre {margin: 0.2em;color: black;border-radius: 0.25em;background-color: #f0f8ff;}#sk-container-id-3 input.sk-toggleable__control:checked~div.sk-toggleable__content {max-height: 200px;max-width: 100%;overflow: auto;}#sk-container-id-3 input.sk-toggleable__control:checked~label.sk-toggleable__label-arrow:before {content: \"▾\";}#sk-container-id-3 div.sk-estimator input.sk-toggleable__control:checked~label.sk-toggleable__label {background-color: #d4ebff;}#sk-container-id-3 div.sk-label input.sk-toggleable__control:checked~label.sk-toggleable__label {background-color: #d4ebff;}#sk-container-id-3 input.sk-hidden--visually {border: 0;clip: rect(1px 1px 1px 1px);clip: rect(1px, 1px, 1px, 1px);height: 1px;margin: -1px;overflow: hidden;padding: 0;position: absolute;width: 1px;}#sk-container-id-3 div.sk-estimator {font-family: monospace;background-color: #f0f8ff;border: 1px dotted black;border-radius: 0.25em;box-sizing: border-box;margin-bottom: 0.5em;}#sk-container-id-3 div.sk-estimator:hover {background-color: #d4ebff;}#sk-container-id-3 div.sk-parallel-item::after {content: \"\";width: 100%;border-bottom: 1px solid gray;flex-grow: 1;}#sk-container-id-3 div.sk-label:hover label.sk-toggleable__label {background-color: #d4ebff;}#sk-container-id-3 div.sk-serial::before {content: \"\";position: absolute;border-left: 1px solid gray;box-sizing: border-box;top: 0;bottom: 0;left: 50%;z-index: 0;}#sk-container-id-3 div.sk-serial {display: flex;flex-direction: column;align-items: center;background-color: white;padding-right: 0.2em;padding-left: 0.2em;position: relative;}#sk-container-id-3 div.sk-item {position: relative;z-index: 1;}#sk-container-id-3 div.sk-parallel {display: flex;align-items: stretch;justify-content: center;background-color: white;position: relative;}#sk-container-id-3 div.sk-item::before, #sk-container-id-3 div.sk-parallel-item::before {content: \"\";position: absolute;border-left: 1px solid gray;box-sizing: border-box;top: 0;bottom: 0;left: 50%;z-index: -1;}#sk-container-id-3 div.sk-parallel-item {display: flex;flex-direction: column;z-index: 1;position: relative;background-color: white;}#sk-container-id-3 div.sk-parallel-item:first-child::after {align-self: flex-end;width: 50%;}#sk-container-id-3 div.sk-parallel-item:last-child::after {align-self: flex-start;width: 50%;}#sk-container-id-3 div.sk-parallel-item:only-child::after {width: 0;}#sk-container-id-3 div.sk-dashed-wrapped {border: 1px dashed gray;margin: 0 0.4em 0.5em 0.4em;box-sizing: border-box;padding-bottom: 0.4em;background-color: white;}#sk-container-id-3 div.sk-label label {font-family: monospace;font-weight: bold;display: inline-block;line-height: 1.2em;}#sk-container-id-3 div.sk-label-container {text-align: center;}#sk-container-id-3 div.sk-container {/* jupyter's `normalize.less` sets `[hidden] { display: none; }` but bootstrap.min.css set `[hidden] { display: none !important; }` so we also need the `!important` here to be able to override the default hidden behavior on the sphinx rendered scikit-learn.org. See: https://github.com/scikit-learn/scikit-learn/issues/21755 */display: inline-block !important;position: relative;}#sk-container-id-3 div.sk-text-repr-fallback {display: none;}</style><div id=\"sk-container-id-3\" class=\"sk-top-container\"><div class=\"sk-text-repr-fallback\"><pre>LinearRegression()</pre><b>In a Jupyter environment, please rerun this cell to show the HTML representation or trust the notebook. <br />On GitHub, the HTML representation is unable to render, please try loading this page with nbviewer.org.</b></div><div class=\"sk-container\" hidden><div class=\"sk-item\"><div class=\"sk-estimator sk-toggleable\"><input class=\"sk-toggleable__control sk-hidden--visually\" id=\"sk-estimator-id-3\" type=\"checkbox\" checked><label for=\"sk-estimator-id-3\" class=\"sk-toggleable__label sk-toggleable__label-arrow\">LinearRegression</label><div class=\"sk-toggleable__content\"><pre>LinearRegression()</pre></div></div></div></div></div>"
      ],
      "text/plain": [
       "LinearRegression()"
      ]
     },
     "execution_count": 29,
     "metadata": {},
     "output_type": "execute_result"
    }
   ],
   "source": [
    "from sklearn.linear_model import LinearRegression\n",
    "from sklearn.metrics import mean_absolute_error\n",
    "\n",
    "model = LinearRegression()\n",
    "model.fit(train_x, train_y)\n",
    "# y_pred = model.predict(train_x)\n",
    "# mae = mean_absolute_error(train_y, y_pred)\n",
    "\n",
    "# mae"
   ]
  },
  {
   "cell_type": "code",
   "execution_count": 31,
   "id": "2c003d3d",
   "metadata": {},
   "outputs": [
    {
     "data": {
      "text/plain": [
       "0.1240281411199708"
      ]
     },
     "execution_count": 31,
     "metadata": {},
     "output_type": "execute_result"
    }
   ],
   "source": [
    "y_pred = model.predict(test_x)\n",
    "mae = mean_absolute_error(test_y, y_pred)\n",
    "\n",
    "mae"
   ]
  },
  {
   "cell_type": "code",
   "execution_count": 14,
   "id": "a9a1f955",
   "metadata": {
    "scrolled": true
   },
   "outputs": [],
   "source": [
    "#model.intercept_, model.coef_"
   ]
  },
  {
   "cell_type": "code",
   "execution_count": 20,
   "id": "39c02243",
   "metadata": {
    "scrolled": true
   },
   "outputs": [],
   "source": [
    "# pd.set_option('display.max_rows', None)"
   ]
  },
  {
   "cell_type": "code",
   "execution_count": 32,
   "id": "59bb2518",
   "metadata": {
    "scrolled": false
   },
   "outputs": [
    {
     "data": {
      "text/html": [
       "<div>\n",
       "<style scoped>\n",
       "    .dataframe tbody tr th:only-of-type {\n",
       "        vertical-align: middle;\n",
       "    }\n",
       "\n",
       "    .dataframe tbody tr th {\n",
       "        vertical-align: top;\n",
       "    }\n",
       "\n",
       "    .dataframe thead th {\n",
       "        text-align: right;\n",
       "    }\n",
       "</style>\n",
       "<table border=\"1\" class=\"dataframe\">\n",
       "  <thead>\n",
       "    <tr style=\"text-align: right;\">\n",
       "      <th></th>\n",
       "      <th>noseSize</th>\n",
       "      <th>nosePosition</th>\n",
       "      <th>noseFlatten</th>\n",
       "      <th>nosePronounced</th>\n",
       "      <th>noseWidth</th>\n",
       "      <th>noseBridge</th>\n",
       "      <th>noseCurve</th>\n",
       "      <th>noseInclination</th>\n",
       "    </tr>\n",
       "  </thead>\n",
       "  <tbody>\n",
       "    <tr>\n",
       "      <th>0</th>\n",
       "      <td>0.378432</td>\n",
       "      <td>0.415773</td>\n",
       "      <td>0.493757</td>\n",
       "      <td>0.380154</td>\n",
       "      <td>0.320162</td>\n",
       "      <td>0.522676</td>\n",
       "      <td>0.521505</td>\n",
       "      <td>0.636121</td>\n",
       "    </tr>\n",
       "    <tr>\n",
       "      <th>1</th>\n",
       "      <td>0.318223</td>\n",
       "      <td>0.566885</td>\n",
       "      <td>0.491059</td>\n",
       "      <td>0.531520</td>\n",
       "      <td>0.358552</td>\n",
       "      <td>0.704679</td>\n",
       "      <td>0.383661</td>\n",
       "      <td>0.523399</td>\n",
       "    </tr>\n",
       "    <tr>\n",
       "      <th>2</th>\n",
       "      <td>0.354587</td>\n",
       "      <td>0.275652</td>\n",
       "      <td>0.644051</td>\n",
       "      <td>0.503630</td>\n",
       "      <td>0.574876</td>\n",
       "      <td>0.380413</td>\n",
       "      <td>0.498552</td>\n",
       "      <td>0.249376</td>\n",
       "    </tr>\n",
       "    <tr>\n",
       "      <th>3</th>\n",
       "      <td>0.512821</td>\n",
       "      <td>0.640112</td>\n",
       "      <td>0.400142</td>\n",
       "      <td>0.585253</td>\n",
       "      <td>0.348911</td>\n",
       "      <td>0.601845</td>\n",
       "      <td>0.557094</td>\n",
       "      <td>0.742090</td>\n",
       "    </tr>\n",
       "    <tr>\n",
       "      <th>4</th>\n",
       "      <td>0.349646</td>\n",
       "      <td>0.348959</td>\n",
       "      <td>0.552767</td>\n",
       "      <td>0.563734</td>\n",
       "      <td>0.487068</td>\n",
       "      <td>0.573305</td>\n",
       "      <td>0.453031</td>\n",
       "      <td>0.654462</td>\n",
       "    </tr>\n",
       "    <tr>\n",
       "      <th>...</th>\n",
       "      <td>...</td>\n",
       "      <td>...</td>\n",
       "      <td>...</td>\n",
       "      <td>...</td>\n",
       "      <td>...</td>\n",
       "      <td>...</td>\n",
       "      <td>...</td>\n",
       "      <td>...</td>\n",
       "    </tr>\n",
       "    <tr>\n",
       "      <th>95</th>\n",
       "      <td>0.656951</td>\n",
       "      <td>0.625304</td>\n",
       "      <td>0.322705</td>\n",
       "      <td>0.505799</td>\n",
       "      <td>0.467966</td>\n",
       "      <td>0.606989</td>\n",
       "      <td>0.526131</td>\n",
       "      <td>0.751394</td>\n",
       "    </tr>\n",
       "    <tr>\n",
       "      <th>96</th>\n",
       "      <td>0.449599</td>\n",
       "      <td>0.411613</td>\n",
       "      <td>0.470111</td>\n",
       "      <td>0.527597</td>\n",
       "      <td>0.364621</td>\n",
       "      <td>0.550303</td>\n",
       "      <td>0.484173</td>\n",
       "      <td>0.433681</td>\n",
       "    </tr>\n",
       "    <tr>\n",
       "      <th>97</th>\n",
       "      <td>0.587199</td>\n",
       "      <td>0.781408</td>\n",
       "      <td>0.548186</td>\n",
       "      <td>0.497231</td>\n",
       "      <td>0.386550</td>\n",
       "      <td>0.415069</td>\n",
       "      <td>0.577111</td>\n",
       "      <td>0.621739</td>\n",
       "    </tr>\n",
       "    <tr>\n",
       "      <th>98</th>\n",
       "      <td>0.626826</td>\n",
       "      <td>0.421727</td>\n",
       "      <td>0.396240</td>\n",
       "      <td>0.558801</td>\n",
       "      <td>0.772348</td>\n",
       "      <td>0.582270</td>\n",
       "      <td>0.391083</td>\n",
       "      <td>0.206927</td>\n",
       "    </tr>\n",
       "    <tr>\n",
       "      <th>99</th>\n",
       "      <td>0.310490</td>\n",
       "      <td>0.449134</td>\n",
       "      <td>0.501393</td>\n",
       "      <td>0.506105</td>\n",
       "      <td>0.548931</td>\n",
       "      <td>0.550448</td>\n",
       "      <td>0.445813</td>\n",
       "      <td>0.488756</td>\n",
       "    </tr>\n",
       "  </tbody>\n",
       "</table>\n",
       "<p>100 rows × 8 columns</p>\n",
       "</div>"
      ],
      "text/plain": [
       "    noseSize  nosePosition  noseFlatten  nosePronounced  noseWidth  \\\n",
       "0   0.378432      0.415773     0.493757        0.380154   0.320162   \n",
       "1   0.318223      0.566885     0.491059        0.531520   0.358552   \n",
       "2   0.354587      0.275652     0.644051        0.503630   0.574876   \n",
       "3   0.512821      0.640112     0.400142        0.585253   0.348911   \n",
       "4   0.349646      0.348959     0.552767        0.563734   0.487068   \n",
       "..       ...           ...          ...             ...        ...   \n",
       "95  0.656951      0.625304     0.322705        0.505799   0.467966   \n",
       "96  0.449599      0.411613     0.470111        0.527597   0.364621   \n",
       "97  0.587199      0.781408     0.548186        0.497231   0.386550   \n",
       "98  0.626826      0.421727     0.396240        0.558801   0.772348   \n",
       "99  0.310490      0.449134     0.501393        0.506105   0.548931   \n",
       "\n",
       "    noseBridge  noseCurve  noseInclination  \n",
       "0     0.522676   0.521505         0.636121  \n",
       "1     0.704679   0.383661         0.523399  \n",
       "2     0.380413   0.498552         0.249376  \n",
       "3     0.601845   0.557094         0.742090  \n",
       "4     0.573305   0.453031         0.654462  \n",
       "..         ...        ...              ...  \n",
       "95    0.606989   0.526131         0.751394  \n",
       "96    0.550303   0.484173         0.433681  \n",
       "97    0.415069   0.577111         0.621739  \n",
       "98    0.582270   0.391083         0.206927  \n",
       "99    0.550448   0.445813         0.488756  \n",
       "\n",
       "[100 rows x 8 columns]"
      ]
     },
     "execution_count": 32,
     "metadata": {},
     "output_type": "execute_result"
    }
   ],
   "source": [
    "prediction = pd.DataFrame(y_pred)\n",
    "prediction.columns = ['noseSize','nosePosition', 'noseFlatten','nosePronounced','noseWidth', 'noseBridge', 'noseCurve', 'noseInclination']\n",
    "# prediction.columns = ['noseSize', 'nosePosition','noseWidth','noseInclination']\n",
    "prediction"
   ]
  },
  {
   "cell_type": "code",
   "execution_count": 33,
   "id": "230a8b0a",
   "metadata": {
    "scrolled": false
   },
   "outputs": [
    {
     "data": {
      "text/html": [
       "<div>\n",
       "<style scoped>\n",
       "    .dataframe tbody tr th:only-of-type {\n",
       "        vertical-align: middle;\n",
       "    }\n",
       "\n",
       "    .dataframe tbody tr th {\n",
       "        vertical-align: top;\n",
       "    }\n",
       "\n",
       "    .dataframe thead th {\n",
       "        text-align: right;\n",
       "    }\n",
       "</style>\n",
       "<table border=\"1\" class=\"dataframe\">\n",
       "  <thead>\n",
       "    <tr style=\"text-align: right;\">\n",
       "      <th></th>\n",
       "      <th>noseSize</th>\n",
       "      <th>nosePosition</th>\n",
       "      <th>noseFlatten</th>\n",
       "      <th>nosePronounced</th>\n",
       "      <th>noseWidth</th>\n",
       "      <th>noseBridge</th>\n",
       "      <th>noseCurve</th>\n",
       "      <th>noseInclination</th>\n",
       "    </tr>\n",
       "  </thead>\n",
       "  <tbody>\n",
       "    <tr>\n",
       "      <th>0</th>\n",
       "      <td>0.528794</td>\n",
       "      <td>0.450309</td>\n",
       "      <td>0.204617</td>\n",
       "      <td>0.362828</td>\n",
       "      <td>0.274802</td>\n",
       "      <td>0.260083</td>\n",
       "      <td>0.561282</td>\n",
       "      <td>0.678466</td>\n",
       "    </tr>\n",
       "    <tr>\n",
       "      <th>1</th>\n",
       "      <td>0.235096</td>\n",
       "      <td>0.543748</td>\n",
       "      <td>0.319688</td>\n",
       "      <td>0.499098</td>\n",
       "      <td>0.544562</td>\n",
       "      <td>0.494427</td>\n",
       "      <td>0.490545</td>\n",
       "      <td>0.507280</td>\n",
       "    </tr>\n",
       "    <tr>\n",
       "      <th>2</th>\n",
       "      <td>0.400362</td>\n",
       "      <td>0.306366</td>\n",
       "      <td>0.752782</td>\n",
       "      <td>0.587933</td>\n",
       "      <td>0.600885</td>\n",
       "      <td>0.460328</td>\n",
       "      <td>0.622252</td>\n",
       "      <td>0.239924</td>\n",
       "    </tr>\n",
       "    <tr>\n",
       "      <th>3</th>\n",
       "      <td>0.539006</td>\n",
       "      <td>0.705693</td>\n",
       "      <td>0.551737</td>\n",
       "      <td>0.515948</td>\n",
       "      <td>0.380126</td>\n",
       "      <td>0.557269</td>\n",
       "      <td>0.291789</td>\n",
       "      <td>0.655423</td>\n",
       "    </tr>\n",
       "    <tr>\n",
       "      <th>4</th>\n",
       "      <td>0.434991</td>\n",
       "      <td>0.420111</td>\n",
       "      <td>0.604129</td>\n",
       "      <td>0.722225</td>\n",
       "      <td>0.600525</td>\n",
       "      <td>0.364166</td>\n",
       "      <td>0.531541</td>\n",
       "      <td>0.696418</td>\n",
       "    </tr>\n",
       "    <tr>\n",
       "      <th>...</th>\n",
       "      <td>...</td>\n",
       "      <td>...</td>\n",
       "      <td>...</td>\n",
       "      <td>...</td>\n",
       "      <td>...</td>\n",
       "      <td>...</td>\n",
       "      <td>...</td>\n",
       "      <td>...</td>\n",
       "    </tr>\n",
       "    <tr>\n",
       "      <th>95</th>\n",
       "      <td>0.574014</td>\n",
       "      <td>0.662468</td>\n",
       "      <td>0.242632</td>\n",
       "      <td>0.437827</td>\n",
       "      <td>0.438891</td>\n",
       "      <td>0.276147</td>\n",
       "      <td>0.233988</td>\n",
       "      <td>0.738699</td>\n",
       "    </tr>\n",
       "    <tr>\n",
       "      <th>96</th>\n",
       "      <td>0.335086</td>\n",
       "      <td>0.516407</td>\n",
       "      <td>0.258576</td>\n",
       "      <td>0.706496</td>\n",
       "      <td>0.402938</td>\n",
       "      <td>0.243166</td>\n",
       "      <td>0.505273</td>\n",
       "      <td>0.341421</td>\n",
       "    </tr>\n",
       "    <tr>\n",
       "      <th>97</th>\n",
       "      <td>0.377994</td>\n",
       "      <td>0.621198</td>\n",
       "      <td>0.213180</td>\n",
       "      <td>0.699112</td>\n",
       "      <td>0.250577</td>\n",
       "      <td>0.256895</td>\n",
       "      <td>0.588393</td>\n",
       "      <td>0.682466</td>\n",
       "    </tr>\n",
       "    <tr>\n",
       "      <th>98</th>\n",
       "      <td>0.486372</td>\n",
       "      <td>0.390966</td>\n",
       "      <td>0.262559</td>\n",
       "      <td>0.505704</td>\n",
       "      <td>0.792901</td>\n",
       "      <td>0.338591</td>\n",
       "      <td>0.532779</td>\n",
       "      <td>0.310331</td>\n",
       "    </tr>\n",
       "    <tr>\n",
       "      <th>99</th>\n",
       "      <td>0.386726</td>\n",
       "      <td>0.667076</td>\n",
       "      <td>0.698750</td>\n",
       "      <td>0.274729</td>\n",
       "      <td>0.654299</td>\n",
       "      <td>0.350763</td>\n",
       "      <td>0.493383</td>\n",
       "      <td>0.377706</td>\n",
       "    </tr>\n",
       "  </tbody>\n",
       "</table>\n",
       "<p>100 rows × 8 columns</p>\n",
       "</div>"
      ],
      "text/plain": [
       "    noseSize  nosePosition  noseFlatten  nosePronounced  noseWidth  \\\n",
       "0   0.528794      0.450309     0.204617        0.362828   0.274802   \n",
       "1   0.235096      0.543748     0.319688        0.499098   0.544562   \n",
       "2   0.400362      0.306366     0.752782        0.587933   0.600885   \n",
       "3   0.539006      0.705693     0.551737        0.515948   0.380126   \n",
       "4   0.434991      0.420111     0.604129        0.722225   0.600525   \n",
       "..       ...           ...          ...             ...        ...   \n",
       "95  0.574014      0.662468     0.242632        0.437827   0.438891   \n",
       "96  0.335086      0.516407     0.258576        0.706496   0.402938   \n",
       "97  0.377994      0.621198     0.213180        0.699112   0.250577   \n",
       "98  0.486372      0.390966     0.262559        0.505704   0.792901   \n",
       "99  0.386726      0.667076     0.698750        0.274729   0.654299   \n",
       "\n",
       "    noseBridge  noseCurve  noseInclination  \n",
       "0     0.260083   0.561282         0.678466  \n",
       "1     0.494427   0.490545         0.507280  \n",
       "2     0.460328   0.622252         0.239924  \n",
       "3     0.557269   0.291789         0.655423  \n",
       "4     0.364166   0.531541         0.696418  \n",
       "..         ...        ...              ...  \n",
       "95    0.276147   0.233988         0.738699  \n",
       "96    0.243166   0.505273         0.341421  \n",
       "97    0.256895   0.588393         0.682466  \n",
       "98    0.338591   0.532779         0.310331  \n",
       "99    0.350763   0.493383         0.377706  \n",
       "\n",
       "[100 rows x 8 columns]"
      ]
     },
     "execution_count": 33,
     "metadata": {},
     "output_type": "execute_result"
    }
   ],
   "source": [
    "test_y"
   ]
  },
  {
   "cell_type": "code",
   "execution_count": 34,
   "id": "6768c15b",
   "metadata": {},
   "outputs": [
    {
     "name": "stdout",
     "output_type": "stream",
     "text": [
      "0.15734066122553483\n"
     ]
    }
   ],
   "source": [
    "from sklearn.metrics import mean_squared_error\n",
    "rmse = mean_squared_error(test_y, prediction)**0.5\n",
    "print(rmse)"
   ]
  }
 ],
 "metadata": {
  "kernelspec": {
   "display_name": "Python 3 (ipykernel)",
   "language": "python",
   "name": "python3"
  },
  "language_info": {
   "codemirror_mode": {
    "name": "ipython",
    "version": 3
   },
   "file_extension": ".py",
   "mimetype": "text/x-python",
   "name": "python",
   "nbconvert_exporter": "python",
   "pygments_lexer": "ipython3",
   "version": "3.10.9"
  }
 },
 "nbformat": 4,
 "nbformat_minor": 5
}

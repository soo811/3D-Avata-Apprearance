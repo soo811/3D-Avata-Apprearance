{
 "cells": [
  {
   "cell_type": "code",
   "execution_count": 54,
   "id": "9d152b16",
   "metadata": {},
   "outputs": [],
   "source": [
    "import cv2\n",
    "import numpy as np\n",
    "import dlib\n",
    "import matplotlib.pyplot as plt\n",
    "import pandas as pd"
   ]
  },
  {
   "cell_type": "code",
   "execution_count": 55,
   "id": "7bda9d93",
   "metadata": {
    "scrolled": true
   },
   "outputs": [],
   "source": [
    "for i in range(100):\n",
    "    face_path = './dataset/train/img/%s.png'%i\n",
    "    face_origin = cv2.imread(face_path)\n",
    "    face_copy = face_origin.copy()\n",
    "    face_rgb = cv2.cvtColor(face_copy, cv2.COLOR_BGR2RGB)\n",
    "    \n",
    "    detector = dlib.get_frontal_face_detector()\n",
    "    dlib_rects = detector(face_rgb, 1)\n",
    "    \n",
    "    img_how_rgb = cv2.cvtColor(face_copy, cv2.COLOR_BGR2RGB)\n",
    "    \n",
    "    predictor = dlib.shape_predictor(\"shape_predictor_68_face_landmarks.dat\")\n",
    "    \n",
    "    globals()['height'+str(i)] = face_origin.shape[1]\n",
    "    \n",
    "    globals()['img'+str(i)] = []\n",
    "    \n",
    "    for dlib_rect in dlib_rects:\n",
    "        points = predictor(face_rgb, dlib_rect)\n",
    "        list_points = list(map(lambda p: [p.x, p.y], points.parts()))\n",
    "        globals()['img'+str(i)].append(list_points)\n",
    "        globals()['img'+str(i)] = np.array(globals()['img'+str(i)])"
   ]
  },
  {
   "cell_type": "code",
   "execution_count": 56,
   "id": "a1c051d0",
   "metadata": {},
   "outputs": [],
   "source": [
    "for i in range(100):\n",
    "    land = np.zeros((68,2))\n",
    "    \n",
    "    for j in range(68):\n",
    "        land[j][0] = globals()['img'+str(i)][0][j][0]\n",
    "        land[j][1] = globals()['img'+str(i)][0][j][1]\n",
    "        \n",
    "    x = land[:,0]\n",
    "    y = land[:,1] * (-1) + globals()['height'+str(i)]\n",
    "    \n",
    "    x -= ((min(x) + max(x)) / 2)\n",
    "    y -= ((min(y) + min(y)) / 2)\n",
    "    \n",
    "    norm_x = (x - min(x)) / (max(y)-min(y))\n",
    "    norm_y = (y - min(y)) / (max(y)-min(y))\n",
    "    \n",
    "    globals()['norm'+str(i)] = np.column_stack((norm_x, norm_y))"
   ]
  },
  {
   "cell_type": "code",
   "execution_count": 57,
   "id": "106b6ee1",
   "metadata": {},
   "outputs": [],
   "source": [
    "# xyxyxyxyxyxyxy(0~16)\n",
    "for i in range(100):\n",
    "    globals()['norm'+str(i)] = globals()['norm'+str(i)][:17]\n",
    "    globals()['norm'+str(i)] = globals()['norm'+str(i)].flatten()"
   ]
  },
  {
   "cell_type": "code",
   "execution_count": 58,
   "id": "aff8f301",
   "metadata": {},
   "outputs": [],
   "source": [
    "train_x = np.zeros((100, 34))\n",
    "for i in range(100):\n",
    "    for j in range(34):\n",
    "        train_x[i][j] = globals()['norm'+str(i)][j]   "
   ]
  },
  {
   "cell_type": "code",
   "execution_count": null,
   "id": "2a42557b",
   "metadata": {},
   "outputs": [],
   "source": []
  },
  {
   "cell_type": "code",
   "execution_count": 59,
   "id": "19b8a20d",
   "metadata": {},
   "outputs": [],
   "source": [
    "for i in range(10):\n",
    "    face_path = './shift/%s.png'%i\n",
    "    face_origin = cv2.imread(face_path)\n",
    "    face_copy = face_origin.copy()\n",
    "    face_rgb = cv2.cvtColor(face_copy, cv2.COLOR_BGR2RGB)\n",
    "    \n",
    "    detector = dlib.get_frontal_face_detector()\n",
    "    dlib_rects = detector(face_rgb, 1)\n",
    "    \n",
    "    img_how_rgb = cv2.cvtColor(face_copy, cv2.COLOR_BGR2RGB)\n",
    "    \n",
    "    predictor = dlib.shape_predictor(\"shape_predictor_68_face_landmarks.dat\")\n",
    "    \n",
    "    globals()['height'+str(i)] = face_origin.shape[1]\n",
    "    \n",
    "    globals()['img'+str(i)] = []\n",
    "    \n",
    "    for dlib_rect in dlib_rects:\n",
    "        points = predictor(face_rgb, dlib_rect)\n",
    "        list_points = list(map(lambda p: [p.x, p.y], points.parts()))\n",
    "        globals()['img'+str(i)].append(list_points)\n",
    "        globals()['img'+str(i)] = np.array(globals()['img'+str(i)])"
   ]
  },
  {
   "cell_type": "code",
   "execution_count": 60,
   "id": "a742ccf1",
   "metadata": {},
   "outputs": [],
   "source": [
    "for i in range(10):\n",
    "    land = np.zeros((68,2))\n",
    "    \n",
    "    for j in range(68):\n",
    "        land[j][0] = globals()['img'+str(i)][0][j][0]\n",
    "        land[j][1] = globals()['img'+str(i)][0][j][1]\n",
    "        \n",
    "    x = land[:,0]\n",
    "    y = land[:,1] * (-1) + globals()['height'+str(i)]\n",
    "    \n",
    "    x -= ((min(x) + max(x)) / 2)\n",
    "    y -= ((min(y) + min(y)) / 2)\n",
    "    \n",
    "    norm_x = (x - min(x)) / (max(y)-min(y))\n",
    "    norm_y = (y - min(y)) / (max(y)-min(y))\n",
    "    \n",
    "    globals()['norm'+str(i)] = np.column_stack((norm_x, norm_y))"
   ]
  },
  {
   "cell_type": "code",
   "execution_count": 61,
   "id": "cbe1bc9f",
   "metadata": {},
   "outputs": [],
   "source": [
    "# xyxyxyxyxyxyxy(0~16)\n",
    "for i in range(10):\n",
    "    globals()['norm'+str(i)] = globals()['norm'+str(i)][:17]\n",
    "    globals()['norm'+str(i)] = globals()['norm'+str(i)].flatten()"
   ]
  },
  {
   "cell_type": "code",
   "execution_count": 62,
   "id": "1e5e26dc",
   "metadata": {},
   "outputs": [],
   "source": [
    "test_x = np.zeros((10, 34))\n",
    "for i in range(10):\n",
    "    for j in range(34):\n",
    "        test_x[i][j] = globals()['norm'+str(i)][j]   "
   ]
  },
  {
   "cell_type": "code",
   "execution_count": null,
   "id": "4d31f21f",
   "metadata": {},
   "outputs": [],
   "source": []
  },
  {
   "cell_type": "code",
   "execution_count": 63,
   "id": "c6154312",
   "metadata": {},
   "outputs": [],
   "source": [
    "train_y = pd.read_csv('./dataset/train/train.csv')\n",
    "train_y = train_y.iloc[:, 5:7]\n",
    "test_y = pd.read_csv('./dataset/test/test.csv')\n",
    "test_y = test_y.iloc[:10, 5:7]"
   ]
  },
  {
   "cell_type": "code",
   "execution_count": null,
   "id": "2405f615",
   "metadata": {},
   "outputs": [],
   "source": []
  },
  {
   "cell_type": "code",
   "execution_count": 64,
   "id": "d1e67ddf",
   "metadata": {},
   "outputs": [
    {
     "data": {
      "text/html": [
       "<style>#sk-container-id-4 {color: black;background-color: white;}#sk-container-id-4 pre{padding: 0;}#sk-container-id-4 div.sk-toggleable {background-color: white;}#sk-container-id-4 label.sk-toggleable__label {cursor: pointer;display: block;width: 100%;margin-bottom: 0;padding: 0.3em;box-sizing: border-box;text-align: center;}#sk-container-id-4 label.sk-toggleable__label-arrow:before {content: \"▸\";float: left;margin-right: 0.25em;color: #696969;}#sk-container-id-4 label.sk-toggleable__label-arrow:hover:before {color: black;}#sk-container-id-4 div.sk-estimator:hover label.sk-toggleable__label-arrow:before {color: black;}#sk-container-id-4 div.sk-toggleable__content {max-height: 0;max-width: 0;overflow: hidden;text-align: left;background-color: #f0f8ff;}#sk-container-id-4 div.sk-toggleable__content pre {margin: 0.2em;color: black;border-radius: 0.25em;background-color: #f0f8ff;}#sk-container-id-4 input.sk-toggleable__control:checked~div.sk-toggleable__content {max-height: 200px;max-width: 100%;overflow: auto;}#sk-container-id-4 input.sk-toggleable__control:checked~label.sk-toggleable__label-arrow:before {content: \"▾\";}#sk-container-id-4 div.sk-estimator input.sk-toggleable__control:checked~label.sk-toggleable__label {background-color: #d4ebff;}#sk-container-id-4 div.sk-label input.sk-toggleable__control:checked~label.sk-toggleable__label {background-color: #d4ebff;}#sk-container-id-4 input.sk-hidden--visually {border: 0;clip: rect(1px 1px 1px 1px);clip: rect(1px, 1px, 1px, 1px);height: 1px;margin: -1px;overflow: hidden;padding: 0;position: absolute;width: 1px;}#sk-container-id-4 div.sk-estimator {font-family: monospace;background-color: #f0f8ff;border: 1px dotted black;border-radius: 0.25em;box-sizing: border-box;margin-bottom: 0.5em;}#sk-container-id-4 div.sk-estimator:hover {background-color: #d4ebff;}#sk-container-id-4 div.sk-parallel-item::after {content: \"\";width: 100%;border-bottom: 1px solid gray;flex-grow: 1;}#sk-container-id-4 div.sk-label:hover label.sk-toggleable__label {background-color: #d4ebff;}#sk-container-id-4 div.sk-serial::before {content: \"\";position: absolute;border-left: 1px solid gray;box-sizing: border-box;top: 0;bottom: 0;left: 50%;z-index: 0;}#sk-container-id-4 div.sk-serial {display: flex;flex-direction: column;align-items: center;background-color: white;padding-right: 0.2em;padding-left: 0.2em;position: relative;}#sk-container-id-4 div.sk-item {position: relative;z-index: 1;}#sk-container-id-4 div.sk-parallel {display: flex;align-items: stretch;justify-content: center;background-color: white;position: relative;}#sk-container-id-4 div.sk-item::before, #sk-container-id-4 div.sk-parallel-item::before {content: \"\";position: absolute;border-left: 1px solid gray;box-sizing: border-box;top: 0;bottom: 0;left: 50%;z-index: -1;}#sk-container-id-4 div.sk-parallel-item {display: flex;flex-direction: column;z-index: 1;position: relative;background-color: white;}#sk-container-id-4 div.sk-parallel-item:first-child::after {align-self: flex-end;width: 50%;}#sk-container-id-4 div.sk-parallel-item:last-child::after {align-self: flex-start;width: 50%;}#sk-container-id-4 div.sk-parallel-item:only-child::after {width: 0;}#sk-container-id-4 div.sk-dashed-wrapped {border: 1px dashed gray;margin: 0 0.4em 0.5em 0.4em;box-sizing: border-box;padding-bottom: 0.4em;background-color: white;}#sk-container-id-4 div.sk-label label {font-family: monospace;font-weight: bold;display: inline-block;line-height: 1.2em;}#sk-container-id-4 div.sk-label-container {text-align: center;}#sk-container-id-4 div.sk-container {/* jupyter's `normalize.less` sets `[hidden] { display: none; }` but bootstrap.min.css set `[hidden] { display: none !important; }` so we also need the `!important` here to be able to override the default hidden behavior on the sphinx rendered scikit-learn.org. See: https://github.com/scikit-learn/scikit-learn/issues/21755 */display: inline-block !important;position: relative;}#sk-container-id-4 div.sk-text-repr-fallback {display: none;}</style><div id=\"sk-container-id-4\" class=\"sk-top-container\"><div class=\"sk-text-repr-fallback\"><pre>LinearRegression()</pre><b>In a Jupyter environment, please rerun this cell to show the HTML representation or trust the notebook. <br />On GitHub, the HTML representation is unable to render, please try loading this page with nbviewer.org.</b></div><div class=\"sk-container\" hidden><div class=\"sk-item\"><div class=\"sk-estimator sk-toggleable\"><input class=\"sk-toggleable__control sk-hidden--visually\" id=\"sk-estimator-id-4\" type=\"checkbox\" checked><label for=\"sk-estimator-id-4\" class=\"sk-toggleable__label sk-toggleable__label-arrow\">LinearRegression</label><div class=\"sk-toggleable__content\"><pre>LinearRegression()</pre></div></div></div></div></div>"
      ],
      "text/plain": [
       "LinearRegression()"
      ]
     },
     "execution_count": 64,
     "metadata": {},
     "output_type": "execute_result"
    }
   ],
   "source": [
    "from sklearn.linear_model import LinearRegression\n",
    "from sklearn.metrics import mean_absolute_error\n",
    "\n",
    "model = LinearRegression()\n",
    "model.fit(train_x, train_y)\n",
    "# y_pred = model.predict(train_x)\n",
    "# mae = mean_absolute_error(train_y, y_pred)\n",
    "\n",
    "# mae"
   ]
  },
  {
   "cell_type": "code",
   "execution_count": 65,
   "id": "18af6337",
   "metadata": {},
   "outputs": [
    {
     "data": {
      "text/plain": [
       "0.13781135015098878"
      ]
     },
     "execution_count": 65,
     "metadata": {},
     "output_type": "execute_result"
    }
   ],
   "source": [
    "y_pred = model.predict(test_x)\n",
    "mae = mean_absolute_error(test_y, y_pred)\n",
    "\n",
    "mae"
   ]
  },
  {
   "cell_type": "code",
   "execution_count": 66,
   "id": "085adb82",
   "metadata": {
    "scrolled": false
   },
   "outputs": [
    {
     "data": {
      "text/plain": [
       "(array([-1.57479278,  0.28386927]),\n",
       " array([[ 1.38858702e-11,  7.59286559e-01, -7.76957250e+00,\n",
       "          7.66498787e+00,  1.46694373e+01, -1.20433996e+01,\n",
       "         -1.77786622e+01, -5.92223687e+00, -7.56844874e+00,\n",
       "         -8.98899054e-01,  1.85895685e+01,  2.69147540e+01,\n",
       "         -4.18719432e-01, -6.99245001e+00, -1.01819737e+01,\n",
       "         -9.74066016e+00,  1.36600312e+01, -3.55271368e-15,\n",
       "         -2.15901046e+00, -1.49776833e+01,  7.48279868e+00,\n",
       "          7.43557346e+00, -1.49124603e+01, -2.32222345e+01,\n",
       "          7.17728794e-01,  1.43769014e+01,  1.25721171e+01,\n",
       "          1.05797448e+01, -1.20221762e+01, -5.39420710e+00,\n",
       "         -4.54440051e+00, -1.18329922e+01,  9.67116722e+00,\n",
       "          6.33775415e+00],\n",
       "        [ 9.04735753e-12,  1.56990835e+00,  4.51817354e+00,\n",
       "          8.44928853e+00,  8.25233552e+00,  4.92196401e+00,\n",
       "         -3.61740820e+00, -2.08435290e+01, -1.38655286e+01,\n",
       "         -1.17861301e+01,  3.37803866e+00,  1.41137224e+01,\n",
       "         -1.48628889e-01, -4.89622519e+00,  3.91835730e+00,\n",
       "          8.98693828e+00, -8.57737510e+00, -5.32907052e-15,\n",
       "          4.46081225e+00, -9.39304711e+00,  8.84992864e+00,\n",
       "          3.72141496e+00, -2.09816544e+01,  1.43199796e+00,\n",
       "          3.52021431e+00, -4.41609924e+00,  1.36513550e+01,\n",
       "          2.24061683e+00, -1.00238561e+01,  2.36256937e+00,\n",
       "          7.78909347e+00,  5.06489421e+00, -1.60046153e+00,\n",
       "         -6.25950650e+00]]))"
      ]
     },
     "execution_count": 66,
     "metadata": {},
     "output_type": "execute_result"
    }
   ],
   "source": [
    "model.intercept_, model.coef_"
   ]
  },
  {
   "cell_type": "code",
   "execution_count": 67,
   "id": "e87a389c",
   "metadata": {
    "scrolled": false
   },
   "outputs": [
    {
     "data": {
      "text/html": [
       "<div>\n",
       "<style scoped>\n",
       "    .dataframe tbody tr th:only-of-type {\n",
       "        vertical-align: middle;\n",
       "    }\n",
       "\n",
       "    .dataframe tbody tr th {\n",
       "        vertical-align: top;\n",
       "    }\n",
       "\n",
       "    .dataframe thead th {\n",
       "        text-align: right;\n",
       "    }\n",
       "</style>\n",
       "<table border=\"1\" class=\"dataframe\">\n",
       "  <thead>\n",
       "    <tr style=\"text-align: right;\">\n",
       "      <th></th>\n",
       "      <th>jawsPosition</th>\n",
       "      <th>jawsSize</th>\n",
       "    </tr>\n",
       "  </thead>\n",
       "  <tbody>\n",
       "    <tr>\n",
       "      <th>0</th>\n",
       "      <td>0.406453</td>\n",
       "      <td>0.661167</td>\n",
       "    </tr>\n",
       "    <tr>\n",
       "      <th>1</th>\n",
       "      <td>0.453123</td>\n",
       "      <td>0.712837</td>\n",
       "    </tr>\n",
       "    <tr>\n",
       "      <th>2</th>\n",
       "      <td>0.392577</td>\n",
       "      <td>0.500384</td>\n",
       "    </tr>\n",
       "    <tr>\n",
       "      <th>3</th>\n",
       "      <td>0.329831</td>\n",
       "      <td>0.707884</td>\n",
       "    </tr>\n",
       "    <tr>\n",
       "      <th>4</th>\n",
       "      <td>0.461656</td>\n",
       "      <td>0.694500</td>\n",
       "    </tr>\n",
       "    <tr>\n",
       "      <th>5</th>\n",
       "      <td>0.850491</td>\n",
       "      <td>0.654331</td>\n",
       "    </tr>\n",
       "    <tr>\n",
       "      <th>6</th>\n",
       "      <td>0.530241</td>\n",
       "      <td>0.780850</td>\n",
       "    </tr>\n",
       "    <tr>\n",
       "      <th>7</th>\n",
       "      <td>0.268887</td>\n",
       "      <td>0.310550</td>\n",
       "    </tr>\n",
       "    <tr>\n",
       "      <th>8</th>\n",
       "      <td>0.644803</td>\n",
       "      <td>0.871954</td>\n",
       "    </tr>\n",
       "    <tr>\n",
       "      <th>9</th>\n",
       "      <td>0.661220</td>\n",
       "      <td>0.507086</td>\n",
       "    </tr>\n",
       "  </tbody>\n",
       "</table>\n",
       "</div>"
      ],
      "text/plain": [
       "   jawsPosition  jawsSize\n",
       "0      0.406453  0.661167\n",
       "1      0.453123  0.712837\n",
       "2      0.392577  0.500384\n",
       "3      0.329831  0.707884\n",
       "4      0.461656  0.694500\n",
       "5      0.850491  0.654331\n",
       "6      0.530241  0.780850\n",
       "7      0.268887  0.310550\n",
       "8      0.644803  0.871954\n",
       "9      0.661220  0.507086"
      ]
     },
     "execution_count": 67,
     "metadata": {},
     "output_type": "execute_result"
    }
   ],
   "source": [
    "prediction = pd.DataFrame(y_pred)\n",
    "prediction.columns = ['jawsPosition','jawsSize']\n",
    "prediction"
   ]
  },
  {
   "cell_type": "code",
   "execution_count": 68,
   "id": "6fcae557",
   "metadata": {
    "scrolled": false
   },
   "outputs": [
    {
     "data": {
      "text/html": [
       "<div>\n",
       "<style scoped>\n",
       "    .dataframe tbody tr th:only-of-type {\n",
       "        vertical-align: middle;\n",
       "    }\n",
       "\n",
       "    .dataframe tbody tr th {\n",
       "        vertical-align: top;\n",
       "    }\n",
       "\n",
       "    .dataframe thead th {\n",
       "        text-align: right;\n",
       "    }\n",
       "</style>\n",
       "<table border=\"1\" class=\"dataframe\">\n",
       "  <thead>\n",
       "    <tr style=\"text-align: right;\">\n",
       "      <th></th>\n",
       "      <th>jawsPosition</th>\n",
       "      <th>jawsSize</th>\n",
       "    </tr>\n",
       "  </thead>\n",
       "  <tbody>\n",
       "    <tr>\n",
       "      <th>0</th>\n",
       "      <td>0.323832</td>\n",
       "      <td>0.595424</td>\n",
       "    </tr>\n",
       "    <tr>\n",
       "      <th>1</th>\n",
       "      <td>0.252126</td>\n",
       "      <td>0.766253</td>\n",
       "    </tr>\n",
       "    <tr>\n",
       "      <th>2</th>\n",
       "      <td>0.466237</td>\n",
       "      <td>0.531876</td>\n",
       "    </tr>\n",
       "    <tr>\n",
       "      <th>3</th>\n",
       "      <td>0.289253</td>\n",
       "      <td>0.519737</td>\n",
       "    </tr>\n",
       "    <tr>\n",
       "      <th>4</th>\n",
       "      <td>0.225629</td>\n",
       "      <td>0.502349</td>\n",
       "    </tr>\n",
       "    <tr>\n",
       "      <th>5</th>\n",
       "      <td>0.675997</td>\n",
       "      <td>0.595616</td>\n",
       "    </tr>\n",
       "    <tr>\n",
       "      <th>6</th>\n",
       "      <td>0.323800</td>\n",
       "      <td>0.685748</td>\n",
       "    </tr>\n",
       "    <tr>\n",
       "      <th>7</th>\n",
       "      <td>0.319646</td>\n",
       "      <td>0.716088</td>\n",
       "    </tr>\n",
       "    <tr>\n",
       "      <th>8</th>\n",
       "      <td>0.467466</td>\n",
       "      <td>0.624562</td>\n",
       "    </tr>\n",
       "    <tr>\n",
       "      <th>9</th>\n",
       "      <td>0.538922</td>\n",
       "      <td>0.453772</td>\n",
       "    </tr>\n",
       "  </tbody>\n",
       "</table>\n",
       "</div>"
      ],
      "text/plain": [
       "   jawsPosition  jawsSize\n",
       "0      0.323832  0.595424\n",
       "1      0.252126  0.766253\n",
       "2      0.466237  0.531876\n",
       "3      0.289253  0.519737\n",
       "4      0.225629  0.502349\n",
       "5      0.675997  0.595616\n",
       "6      0.323800  0.685748\n",
       "7      0.319646  0.716088\n",
       "8      0.467466  0.624562\n",
       "9      0.538922  0.453772"
      ]
     },
     "execution_count": 68,
     "metadata": {},
     "output_type": "execute_result"
    }
   ],
   "source": [
    "test_y"
   ]
  },
  {
   "cell_type": "code",
   "execution_count": 69,
   "id": "2a8c9a09",
   "metadata": {},
   "outputs": [
    {
     "name": "stdout",
     "output_type": "stream",
     "text": [
      "0.16636446515997022\n"
     ]
    }
   ],
   "source": [
    "from sklearn.metrics import mean_squared_error\n",
    "rmse = mean_squared_error(test_y, prediction)**0.5\n",
    "print(rmse)"
   ]
  }
 ],
 "metadata": {
  "kernelspec": {
   "display_name": "Python 3 (ipykernel)",
   "language": "python",
   "name": "python3"
  },
  "language_info": {
   "codemirror_mode": {
    "name": "ipython",
    "version": 3
   },
   "file_extension": ".py",
   "mimetype": "text/x-python",
   "name": "python",
   "nbconvert_exporter": "python",
   "pygments_lexer": "ipython3",
   "version": "3.10.9"
  }
 },
 "nbformat": 4,
 "nbformat_minor": 5
}
